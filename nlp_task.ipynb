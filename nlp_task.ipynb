{
 "cells": [
  {
   "cell_type": "code",
   "execution_count": 1,
   "id": "699ba81b-207d-48dd-86fe-849801568da9",
   "metadata": {},
   "outputs": [],
   "source": [
    "import numpy as np\n",
    "import pandas as pd\n",
    "import re\n",
    "import requests\n",
    "from fractions import Fraction\n",
    "from bs4 import BeautifulSoup"
   ]
  },
  {
   "cell_type": "code",
   "execution_count": 2,
   "id": "0cbd17bc-5407-40bb-9e5d-603c7630d9cf",
   "metadata": {},
   "outputs": [],
   "source": [
    "df = pd.read_csv('./nlp_data/IMDB_REVIEW_202104P5.csv', parse_dates=[2, 3])"
   ]
  },
  {
   "cell_type": "code",
   "execution_count": 3,
   "id": "e3e9149d-d147-4e98-ad42-ab5ed9df09cc",
   "metadata": {},
   "outputs": [],
   "source": [
    "hdr = {'User-Agent': 'Mozilla/5.0 (X11; Linux x86_64) AppleWebKit/537.11 (KHTML, like Gecko) Chrome/23.0.1271.64 Safari/537.11',\n",
    "       'Accept': 'text/html,application/xhtml+xml,application/xml;q=0.9,*/*;q=0.8',\n",
    "       'Accept-Charset': 'ISO-8859-1,utf-8;q=0.7,*;q=0.3',\n",
    "       'Accept-Encoding': 'none',\n",
    "       'Accept-Language': 'en-US,en;q=0.8',\n",
    "       'Connection': 'keep-alive'}"
   ]
  },
  {
   "cell_type": "code",
   "execution_count": 4,
   "id": "69307f99-c3a5-4daf-b054-373e13916892",
   "metadata": {},
   "outputs": [],
   "source": [
    "def para_handler(paragraph):\n",
    "    regex = re.compile(r\"<br/?>\", re.IGNORECASE)\n",
    "    newtext = re.sub(regex, '\\n', str(paragraph))\n",
    "    CLEANR = re.compile('<.*?>|&([a-z0-9]+|#[0-9]{1,6}|#x[0-9a-f]{1,6});')\n",
    "    return re.sub(CLEANR, '', newtext)"
   ]
  },
  {
   "cell_type": "code",
   "execution_count": 5,
   "id": "c0030934-ec34-422f-a5e5-d8cc87322403",
   "metadata": {},
   "outputs": [],
   "source": [
    "def scrape_review(url, name, hdr):\n",
    "    r = requests.get(url, headers=hdr)\n",
    "    soup = BeautifulSoup(r.text, 'html.parser')\n",
    "    titles = soup.find_all('h3')\n",
    "    text = ''\n",
    "    for title in titles:\n",
    "        if title.span != None:\n",
    "            if title.text.replace(title.span.text, '')[:-1]==name:\n",
    "                text = para_handler(title.find_next_sibling('p'))\n",
    "    return text"
   ]
  },
  {
   "cell_type": "code",
   "execution_count": 6,
   "id": "01b83c38",
   "metadata": {},
   "outputs": [],
   "source": [
    "def scrape_movie_rvw(movie_name, data, hdr):\n",
    "    # req = requests.get(data, headers=data\n",
    "    soup = BeautifulSoup(data, 'html.parser')\n",
    "    rv_title = []\n",
    "    usr = []\n",
    "    usr_url = []\n",
    "    rv_date = []\n",
    "    rv = []\n",
    "    rv_len = []\n",
    "    exception = []\n",
    "    is_spoilerwarn = []\n",
    "#     rv_rating = []\n",
    "#     pos_rat = []\n",
    "#     neg_rat = []\n",
    "    try:\n",
    "        titles = soup.find_all('a', {'class': 'title'})\n",
    "        for title in titles:\n",
    "            rv_title.append(title.text[1:-1])\n",
    "            try:\n",
    "                isspoiler = title.find_next_sibling('span')\n",
    "                is_spoilerwarn.append('Yes')\n",
    "            except Exception as e:\n",
    "                is_spoilerwarn.append('No')\n",
    "                exception.append(e)\n",
    "                print(movie_name)\n",
    "                print(title)\n",
    "                print(e)\n",
    "                pass\n",
    "    except Exception as e:\n",
    "        rv_title.append(np.nan)\n",
    "        exception.append(e)\n",
    "        print(movie_name)\n",
    "        print(e)\n",
    "        pass\n",
    "    try:\n",
    "        users = soup.find_all('span', {'class': 'display-name-link'})\n",
    "        for user in users:\n",
    "            try:\n",
    "                rv_date.append(user.find_next_sibling('span').text)\n",
    "            except Exception as e:\n",
    "                rv_date.append(np.nan)\n",
    "                exception.append(e)\n",
    "                print(user)\n",
    "                print(movie_name)\n",
    "                print(e)\n",
    "                pass\n",
    "            try:\n",
    "                usr.append(user.text)\n",
    "            except Exception as e:\n",
    "                usr.append(np.nan)\n",
    "                exception.append(e)\n",
    "                print(user)\n",
    "                print(movie_name)\n",
    "                print(e)\n",
    "                pass\n",
    "            url = ''\n",
    "            try:\n",
    "                for name in user.find_all('a', href=True):\n",
    "                    url = 'http://imdb.com/'+name['href']\n",
    "                usr_url.append(url)\n",
    "            except Exception as e:\n",
    "                usr_url.append(np.nan)\n",
    "                exception.append(e)\n",
    "                print(user)\n",
    "                print(movie_name)\n",
    "                print(e)\n",
    "                pass\n",
    "    except Exception as e:\n",
    "        usr.append(np.nan)\n",
    "        exception.append(e)\n",
    "        print(movie_name)\n",
    "        print(e)\n",
    "        pass\n",
    "\n",
    "    try:\n",
    "        reviews = soup.findAll('div', {'class': ['text show-more__control clickable', 'text show-more__control']})\n",
    "    #     print(reviews)\n",
    "        for review in reviews:\n",
    "            rv.append(para_handler(review))\n",
    "            rv_len.append(len(para_handler(review)))\n",
    "    except Exception as e:\n",
    "        rv.append(np.nan)\n",
    "        rv_len.append(np.nan)\n",
    "        exception.append(e)\n",
    "        print(movie_name)\n",
    "        print(e)\n",
    "        pass\n",
    "#     try:\n",
    "#         spoilers = soup.find_all('span', {'class': 'spoiler-warning'})\n",
    "#         for review in reviews:\n",
    "#             is_spoilerwarn.append('Yes')\n",
    "#     except Exception as e:\n",
    "#         exception.append(e)\n",
    "#         is_spoilerwarn.append('No')\n",
    "#         pass\n",
    "#     ratings = soup.findAll('div', {'class': 'ipl-ratings-bar'})\n",
    "#     for rating in ratings:\n",
    "#         rv_rating.append(float(Fraction(rating.span.text.split()[0]))*10)\n",
    "#     helpfulness = soup.findAll('div', {'class': 'actions text-muted'})\n",
    "#     for helpful in helpfulness:\n",
    "#         pos_neg = [int(s) for s in helpful.text.split() if s.isdigit()]\n",
    "#         pos_rat.append(pos_neg[0])\n",
    "#         neg_rat.append(pos_neg[1]-pos_neg[0])\n",
    "#     return rv_title, usr, usr_url, rv_date, rv, rv_len, pos_rat, neg_rat\n",
    "    return rv_title, usr, usr_url, rv_date, rv, rv_len, is_spoilerwarn, exception"
   ]
  },
  {
   "cell_type": "code",
   "execution_count": 13,
   "id": "83c3913b-c7b3-464e-9dbf-978ed3e1c4fb",
   "metadata": {},
   "outputs": [],
   "source": [
    "data = open('./data1.html', 'r')\n",
    "soup = BeautifulSoup(data, 'html.parser')"
   ]
  },
  {
   "cell_type": "code",
   "execution_count": 14,
   "id": "722d4574-5d00-4e35-937f-ccf9f2a9f517",
   "metadata": {},
   "outputs": [],
   "source": [
    "titles = soup.find_all('a', {'class': 'title'})"
   ]
  },
  {
   "cell_type": "code",
   "execution_count": 19,
   "id": "1c80cddf-21aa-4142-b5ce-611828201019",
   "metadata": {},
   "outputs": [],
   "source": [
    "isspoiler = titles[8].find_next_sibling('span')"
   ]
  },
  {
   "cell_type": "code",
   "execution_count": 20,
   "id": "7f888c33-2990-4ed8-9f1b-9e936172fa54",
   "metadata": {},
   "outputs": [
    {
     "data": {
      "text/plain": [
       "<span class=\"spoiler-warning\">Warning: Spoilers</span>"
      ]
     },
     "execution_count": 20,
     "metadata": {},
     "output_type": "execute_result"
    }
   ],
   "source": [
    "isspoiler"
   ]
  },
  {
   "cell_type": "code",
   "execution_count": 8,
   "id": "7637c34b-fc7d-46d7-ac2c-10ae0b76aa71",
   "metadata": {},
   "outputs": [
    {
     "name": "stderr",
     "output_type": "stream",
     "text": [
      "/opt/anaconda3/lib/python3.8/site-packages/bs4/__init__.py:346: MarkupResemblesLocatorWarning: \"./data3.html\" looks like a filename, not markup. You should probably open this file and pass the filehandle into Beautiful Soup.\n",
      "  warnings.warn(\n"
     ]
    },
    {
     "data": {
      "text/plain": [
       "([], [], [], [], [], [], [], [])"
      ]
     },
     "execution_count": 8,
     "metadata": {},
     "output_type": "execute_result"
    }
   ],
   "source": [
    "scrape_movie_rvw('White Boy Rick', './data3.html', hdr)"
   ]
  },
  {
   "cell_type": "code",
   "execution_count": 7,
   "id": "3bdc3978",
   "metadata": {},
   "outputs": [],
   "source": [
    "from selenium import webdriver\n",
    "from selenium.common.exceptions import TimeoutException, NoSuchElementException\n",
    "from selenium.webdriver.common.by import By\n",
    "from selenium.webdriver.support.ui import WebDriverWait\n",
    "from selenium.webdriver.support import expected_conditions as EC\n",
    "from webdriver_manager.chrome import ChromeDriverManager\n",
    "import time\n",
    "\n",
    "# driver = webdriver.Chrome(ChromeDriverManager().install())\n",
    "# wait = WebDriverWait(driver, 10)\n",
    "# driver.get(\"http://imdb.com/title/tt0385887/reviews\")\n",
    "# i = 0\n",
    "# while True:\n",
    "#     try:\n",
    "#         loadmoreBtn = driver.find_element(\"xpath\", '//*[@id=\"load-more-trigger\"]')\n",
    "#         i += 1\n",
    "#         time.sleep(2)\n",
    "#         loadmoreBtn.click()\n",
    "#         time.sleep(5)\n",
    "#     except Exception as e:\n",
    "#         print(e)\n",
    "#         break\n",
    "# print(i)\n",
    "\n",
    "# file = open('data.html', 'w')\n",
    "# file.write(driver.page_source)\n",
    "# file.close()\n",
    "\n",
    "# driver.close()"
   ]
  },
  {
   "cell_type": "code",
   "execution_count": 8,
   "id": "b16a5719-d0fe-498a-86da-cab839fced44",
   "metadata": {},
   "outputs": [],
   "source": [
    "def load_all_page(url, output_file):\n",
    "    driver = webdriver.Chrome(ChromeDriverManager().install())\n",
    "    wait = WebDriverWait(driver, 10)\n",
    "    driver.get(url)\n",
    "    while True:\n",
    "        try:\n",
    "            loadmoreBtn = driver.find_element(\"xpath\", '//*[@id=\"load-more-trigger\"]')\n",
    "            time.sleep(2)\n",
    "            loadmoreBtn.click()\n",
    "            time.sleep(5)\n",
    "        except Exception as e:\n",
    "            print(e)\n",
    "            break\n",
    "\n",
    "    file = open(output_file, 'w')\n",
    "    file.write(driver.page_source)\n",
    "    file.close()\n",
    "\n",
    "    driver.close()"
   ]
  },
  {
   "cell_type": "code",
   "execution_count": 9,
   "id": "f7f872d0-a6b0-4179-b056-c7679397a514",
   "metadata": {},
   "outputs": [],
   "source": [
    "def handle_data(output_file, df, hdr):\n",
    "#     new_df = pd.DataFrame(columns=['user', 'user_url', 'review_date', 'review_title', 'review', 'review_len', 'pos_rating', 'neg_rating'])\n",
    "    new_df = pd.DataFrame(columns=['user', 'user_url', 'review_date', 'review_title', 'review', 'review_len', 'is_spoilerwarn'])\n",
    "    dup_len = []\n",
    "    e = []\n",
    "    for i in range(len(df)):\n",
    "        load_all_page(df['imdb_url'][i], output_file)\n",
    "        data = open(output_file, 'r')\n",
    "#         rv_title, usr, usr_url, rv_date, rv, rv_len, pos_rat, neg_rat = scrape_movie_rvw(data, hdr)\n",
    "        rv_title, usr, usr_url, rv_date, rv, rv_len, is_spoilerwarn, exception = scrape_movie_rvw(df['MOJO_title'][i], data, hdr)\n",
    "        dup_len.append(len(usr))\n",
    "#         temp_df = pd.DataFrame(np.array([usr, usr_url, rv_date, rv_title, rv, rv_len, pos_rat, neg_rat]).T, columns=['user', 'user_url', 'review_date', 'review_title', 'review', 'review_len', 'pos_rating', 'neg_rating'])\n",
    "        temp_df = pd.DataFrame(np.array([usr, usr_url, rv_date, rv_title, rv, rv_len, is_spoilerwarn]).T, columns=['user', 'user_url', 'review_date', 'review_title', 'review', 'review_len', 'is_spoilerwarn'])\n",
    "        new_df = pd.concat([new_df, temp_df], ignore_index=True)\n",
    "        e += exception\n",
    "    df = df.loc[df.index.repeat(dup_len)].reset_index(drop=True)\n",
    "    df['user'] = new_df['user'].values\n",
    "    df['user_url'] = new_df['user_url'].values\n",
    "    df['review_date'] = new_df['review_date'].values\n",
    "    df['review_title'] = new_df['review_title'].values\n",
    "    df['review'] = new_df['review'].values\n",
    "    df['review_len'] = new_df['review_len'].values\n",
    "    df['is_spoilerwarn'] = new_df['is_spoilerwarn'].values\n",
    "#     df['review_rating'] = new_df['review_rating'].values\n",
    "#     df['pos_rating'] = new_df['pos_rating'].values\n",
    "#     df['neg_rating'] = new_df['neg_rating'].values\n",
    "    return df, exception"
   ]
  },
  {
   "cell_type": "code",
   "execution_count": 9,
   "id": "da92b663",
   "metadata": {},
   "outputs": [],
   "source": [
    "# def handle_file(output_file, df, hdr):\n",
    "# #     new_df = pd.DataFrame(columns=['user', 'user_url', 'review_date', 'review_title', 'review', 'review_len', 'pos_rating', 'neg_rating'])\n",
    "#     new_df = pd.DataFrame(columns=['user', 'user_url', 'review_date', 'review_title', 'review', 'is_spoilerwarn', 'review_len'])\n",
    "#     dup_len = []\n",
    "#     e = []\n",
    "#     for i in range(len(df)):\n",
    "#         # load_all_page(df['imdb_url'][i], output_file)\n",
    "#         data = open(output_file, 'r')\n",
    "# #         rv_title, usr, usr_url, rv_date, rv, rv_len, pos_rat, neg_rat = scrape_movie_rvw(data, hdr)\n",
    "#         rv_title, usr, usr_url, rv_date, rv, rv_len, is_spoilerwarn, exception = scrape_movie_rvw(df['MOJO_title'][i], data, hdr)\n",
    "#         dup_len.append(len(usr))\n",
    "# #         temp_df = pd.DataFrame(np.array([usr, usr_url, rv_date, rv_title, rv, rv_len, pos_rat, neg_rat]).T, columns=['user', 'user_url', 'review_date', 'review_title', 'review', 'review_len', 'pos_rating', 'neg_rating'])\n",
    "#         temp_df = pd.DataFrame(np.array([usr, usr_url, rv_date, rv_title, rv, rv_len, is_spoilerwarn]).T, columns=['user', 'user_url', 'review_date', 'review_title', 'review', 'review_len', 'is_spoilerwarn'])\n",
    "#         new_df = pd.concat([new_df, temp_df], ignore_index=True)\n",
    "#         e += exception\n",
    "#     df = df.loc[df.index.repeat(dup_len)].reset_index(drop=True)\n",
    "#     df['user'] = new_df['user'].values\n",
    "#     df['user_url'] = new_df['user_url'].values\n",
    "#     df['review_date'] = new_df['review_date'].values\n",
    "#     df['review_title'] = new_df['review_title'].values\n",
    "#     df['review'] = new_df['review'].values\n",
    "#     df['review_len'] = new_df['review_len'].values\n",
    "#     df['is_spoilerwarn'] = new_df['is_spoilerwarn'].values\n",
    "# #     df['review_rating'] = new_df['review_rating'].values\n",
    "# #     df['pos_rating'] = new_df['pos_rating'].values\n",
    "# #     df['neg_rating'] = new_df['neg_rating'].values\n",
    "#     return df, exception"
   ]
  },
  {
   "cell_type": "code",
   "execution_count": 13,
   "id": "560602f5-f851-401b-be03-c4771a2270cc",
   "metadata": {},
   "outputs": [
    {
     "name": "stdout",
     "output_type": "stream",
     "text": [
      "\n"
     ]
    },
    {
     "name": "stderr",
     "output_type": "stream",
     "text": [
      "[WDM] - ====== WebDriver manager ======\n"
     ]
    },
    {
     "name": "stdout",
     "output_type": "stream",
     "text": [
      "2022-09-27 01:31:23,784 INFO ====== WebDriver manager ======\n"
     ]
    },
    {
     "name": "stderr",
     "output_type": "stream",
     "text": [
      "[WDM] - Current google-chrome version is 105.0.5195\n"
     ]
    },
    {
     "name": "stdout",
     "output_type": "stream",
     "text": [
      "2022-09-27 01:31:23,845 INFO Current google-chrome version is 105.0.5195\n"
     ]
    },
    {
     "name": "stderr",
     "output_type": "stream",
     "text": [
      "[WDM] - Get LATEST chromedriver version for 105.0.5195 google-chrome\n"
     ]
    },
    {
     "name": "stdout",
     "output_type": "stream",
     "text": [
      "2022-09-27 01:31:23,847 INFO Get LATEST chromedriver version for 105.0.5195 google-chrome\n"
     ]
    },
    {
     "name": "stderr",
     "output_type": "stream",
     "text": [
      "[WDM] - Driver [/Users/percyd/.wdm/drivers/chromedriver/mac64/105.0.5195.52/chromedriver] found in cache\n"
     ]
    },
    {
     "name": "stdout",
     "output_type": "stream",
     "text": [
      "2022-09-27 01:31:23,903 INFO Driver [/Users/percyd/.wdm/drivers/chromedriver/mac64/105.0.5195.52/chromedriver] found in cache\n"
     ]
    },
    {
     "name": "stderr",
     "output_type": "stream",
     "text": [
      "/var/folders/tl/jg9ncc9x4vnfwb17tjw2ms480000gn/T/ipykernel_47546/4198984808.py:2: DeprecationWarning: executable_path has been deprecated, please pass in a Service object\n",
      "  driver = webdriver.Chrome(ChromeDriverManager().install())\n"
     ]
    },
    {
     "name": "stdout",
     "output_type": "stream",
     "text": [
      "Message: element not interactable\n",
      "  (Session info: chrome=105.0.5195.125)\n",
      "Stacktrace:\n",
      "0   chromedriver                        0x00000001053de788 chromedriver + 4515720\n",
      "1   chromedriver                        0x00000001053629d3 chromedriver + 4008403\n",
      "2   chromedriver                        0x0000000104ff4feb chromedriver + 413675\n",
      "3   chromedriver                        0x000000010502da1e chromedriver + 645662\n",
      "4   chromedriver                        0x0000000105021861 chromedriver + 596065\n",
      "5   chromedriver                        0x00000001050497d2 chromedriver + 759762\n",
      "6   chromedriver                        0x0000000105021075 chromedriver + 594037\n",
      "7   chromedriver                        0x000000010504992e chromedriver + 760110\n",
      "8   chromedriver                        0x000000010505cbd9 chromedriver + 838617\n",
      "9   chromedriver                        0x0000000105049603 chromedriver + 759299\n",
      "10  chromedriver                        0x000000010501f990 chromedriver + 588176\n",
      "11  chromedriver                        0x0000000105020a75 chromedriver + 592501\n",
      "12  chromedriver                        0x00000001053ae6cd chromedriver + 4318925\n",
      "13  chromedriver                        0x00000001053b2f35 chromedriver + 4337461\n",
      "14  chromedriver                        0x00000001053ba1ff chromedriver + 4366847\n",
      "15  chromedriver                        0x00000001053b3c5a chromedriver + 4340826\n",
      "16  chromedriver                        0x0000000105389c2c chromedriver + 4168748\n",
      "17  chromedriver                        0x00000001053d04f8 chromedriver + 4457720\n",
      "18  chromedriver                        0x00000001053d0693 chromedriver + 4458131\n",
      "19  chromedriver                        0x00000001053e5a3e chromedriver + 4545086\n",
      "20  libsystem_pthread.dylib             0x00007ff80c43d4e1 _pthread_start + 125\n",
      "21  libsystem_pthread.dylib             0x00007ff80c438f6b thread_start + 15\n",
      "\n",
      "\n"
     ]
    },
    {
     "name": "stderr",
     "output_type": "stream",
     "text": [
      "[WDM] - ====== WebDriver manager ======\n"
     ]
    },
    {
     "name": "stdout",
     "output_type": "stream",
     "text": [
      "2022-09-27 01:49:01,253 INFO ====== WebDriver manager ======\n"
     ]
    },
    {
     "name": "stderr",
     "output_type": "stream",
     "text": [
      "[WDM] - Current google-chrome version is 105.0.5195\n"
     ]
    },
    {
     "name": "stdout",
     "output_type": "stream",
     "text": [
      "2022-09-27 01:49:01,325 INFO Current google-chrome version is 105.0.5195\n"
     ]
    },
    {
     "name": "stderr",
     "output_type": "stream",
     "text": [
      "[WDM] - Get LATEST chromedriver version for 105.0.5195 google-chrome\n"
     ]
    },
    {
     "name": "stdout",
     "output_type": "stream",
     "text": [
      "2022-09-27 01:49:01,327 INFO Get LATEST chromedriver version for 105.0.5195 google-chrome\n"
     ]
    },
    {
     "name": "stderr",
     "output_type": "stream",
     "text": [
      "[WDM] - Driver [/Users/percyd/.wdm/drivers/chromedriver/mac64/105.0.5195.52/chromedriver] found in cache\n"
     ]
    },
    {
     "name": "stdout",
     "output_type": "stream",
     "text": [
      "2022-09-27 01:49:01,396 INFO Driver [/Users/percyd/.wdm/drivers/chromedriver/mac64/105.0.5195.52/chromedriver] found in cache\n",
      "Message: element not interactable\n",
      "  (Session info: chrome=105.0.5195.125)\n",
      "Stacktrace:\n",
      "0   chromedriver                        0x0000000101236788 chromedriver + 4515720\n",
      "1   chromedriver                        0x00000001011ba9d3 chromedriver + 4008403\n",
      "2   chromedriver                        0x0000000100e4cfeb chromedriver + 413675\n",
      "3   chromedriver                        0x0000000100e85a1e chromedriver + 645662\n",
      "4   chromedriver                        0x0000000100e79861 chromedriver + 596065\n",
      "5   chromedriver                        0x0000000100ea17d2 chromedriver + 759762\n",
      "6   chromedriver                        0x0000000100e79075 chromedriver + 594037\n",
      "7   chromedriver                        0x0000000100ea192e chromedriver + 760110\n",
      "8   chromedriver                        0x0000000100eb4bd9 chromedriver + 838617\n",
      "9   chromedriver                        0x0000000100ea1603 chromedriver + 759299\n",
      "10  chromedriver                        0x0000000100e77990 chromedriver + 588176\n",
      "11  chromedriver                        0x0000000100e78a75 chromedriver + 592501\n",
      "12  chromedriver                        0x00000001012066cd chromedriver + 4318925\n",
      "13  chromedriver                        0x000000010120af35 chromedriver + 4337461\n",
      "14  chromedriver                        0x00000001012121ff chromedriver + 4366847\n",
      "15  chromedriver                        0x000000010120bc5a chromedriver + 4340826\n",
      "16  chromedriver                        0x00000001011e1c2c chromedriver + 4168748\n",
      "17  chromedriver                        0x00000001012284f8 chromedriver + 4457720\n",
      "18  chromedriver                        0x0000000101228693 chromedriver + 4458131\n",
      "19  chromedriver                        0x000000010123da3e chromedriver + 4545086\n",
      "20  libsystem_pthread.dylib             0x00007ff80c43d4e1 _pthread_start + 125\n",
      "21  libsystem_pthread.dylib             0x00007ff80c438f6b thread_start + 15\n",
      "\n",
      "\n"
     ]
    },
    {
     "name": "stderr",
     "output_type": "stream",
     "text": [
      "[WDM] - ====== WebDriver manager ======\n"
     ]
    },
    {
     "name": "stdout",
     "output_type": "stream",
     "text": [
      "2022-09-27 01:50:45,958 INFO ====== WebDriver manager ======\n"
     ]
    },
    {
     "name": "stderr",
     "output_type": "stream",
     "text": [
      "[WDM] - Current google-chrome version is 105.0.5195\n"
     ]
    },
    {
     "name": "stdout",
     "output_type": "stream",
     "text": [
      "2022-09-27 01:50:45,996 INFO Current google-chrome version is 105.0.5195\n"
     ]
    },
    {
     "name": "stderr",
     "output_type": "stream",
     "text": [
      "[WDM] - Get LATEST chromedriver version for 105.0.5195 google-chrome\n"
     ]
    },
    {
     "name": "stdout",
     "output_type": "stream",
     "text": [
      "2022-09-27 01:50:45,997 INFO Get LATEST chromedriver version for 105.0.5195 google-chrome\n"
     ]
    },
    {
     "name": "stderr",
     "output_type": "stream",
     "text": [
      "[WDM] - Driver [/Users/percyd/.wdm/drivers/chromedriver/mac64/105.0.5195.52/chromedriver] found in cache\n"
     ]
    },
    {
     "name": "stdout",
     "output_type": "stream",
     "text": [
      "2022-09-27 01:50:46,047 INFO Driver [/Users/percyd/.wdm/drivers/chromedriver/mac64/105.0.5195.52/chromedriver] found in cache\n",
      "Message: element not interactable\n",
      "  (Session info: chrome=105.0.5195.125)\n",
      "Stacktrace:\n",
      "0   chromedriver                        0x0000000100c0e788 chromedriver + 4515720\n",
      "1   chromedriver                        0x0000000100b929d3 chromedriver + 4008403\n",
      "2   chromedriver                        0x0000000100824feb chromedriver + 413675\n",
      "3   chromedriver                        0x000000010085da1e chromedriver + 645662\n",
      "4   chromedriver                        0x0000000100851861 chromedriver + 596065\n",
      "5   chromedriver                        0x00000001008797d2 chromedriver + 759762\n",
      "6   chromedriver                        0x0000000100851075 chromedriver + 594037\n",
      "7   chromedriver                        0x000000010087992e chromedriver + 760110\n",
      "8   chromedriver                        0x000000010088cbd9 chromedriver + 838617\n",
      "9   chromedriver                        0x0000000100879603 chromedriver + 759299\n",
      "10  chromedriver                        0x000000010084f990 chromedriver + 588176\n",
      "11  chromedriver                        0x0000000100850a75 chromedriver + 592501\n",
      "12  chromedriver                        0x0000000100bde6cd chromedriver + 4318925\n",
      "13  chromedriver                        0x0000000100be2f35 chromedriver + 4337461\n",
      "14  chromedriver                        0x0000000100bea1ff chromedriver + 4366847\n",
      "15  chromedriver                        0x0000000100be3c5a chromedriver + 4340826\n",
      "16  chromedriver                        0x0000000100bb9c2c chromedriver + 4168748\n",
      "17  chromedriver                        0x0000000100c004f8 chromedriver + 4457720\n",
      "18  chromedriver                        0x0000000100c00693 chromedriver + 4458131\n",
      "19  chromedriver                        0x0000000100c15a3e chromedriver + 4545086\n",
      "20  libsystem_pthread.dylib             0x00007ff80c43d4e1 _pthread_start + 125\n",
      "21  libsystem_pthread.dylib             0x00007ff80c438f6b thread_start + 15\n",
      "\n",
      "\n"
     ]
    },
    {
     "name": "stderr",
     "output_type": "stream",
     "text": [
      "[WDM] - ====== WebDriver manager ======\n"
     ]
    },
    {
     "name": "stdout",
     "output_type": "stream",
     "text": [
      "2022-09-27 02:07:52,237 INFO ====== WebDriver manager ======\n"
     ]
    },
    {
     "name": "stderr",
     "output_type": "stream",
     "text": [
      "[WDM] - Current google-chrome version is 105.0.5195\n"
     ]
    },
    {
     "name": "stdout",
     "output_type": "stream",
     "text": [
      "2022-09-27 02:07:52,307 INFO Current google-chrome version is 105.0.5195\n"
     ]
    },
    {
     "name": "stderr",
     "output_type": "stream",
     "text": [
      "[WDM] - Get LATEST chromedriver version for 105.0.5195 google-chrome\n"
     ]
    },
    {
     "name": "stdout",
     "output_type": "stream",
     "text": [
      "2022-09-27 02:07:52,308 INFO Get LATEST chromedriver version for 105.0.5195 google-chrome\n"
     ]
    },
    {
     "name": "stderr",
     "output_type": "stream",
     "text": [
      "[WDM] - Driver [/Users/percyd/.wdm/drivers/chromedriver/mac64/105.0.5195.52/chromedriver] found in cache\n"
     ]
    },
    {
     "name": "stdout",
     "output_type": "stream",
     "text": [
      "2022-09-27 02:07:52,386 INFO Driver [/Users/percyd/.wdm/drivers/chromedriver/mac64/105.0.5195.52/chromedriver] found in cache\n",
      "Message: element not interactable\n",
      "  (Session info: chrome=105.0.5195.125)\n",
      "Stacktrace:\n",
      "0   chromedriver                        0x0000000100cbe788 chromedriver + 4515720\n",
      "1   chromedriver                        0x0000000100c429d3 chromedriver + 4008403\n",
      "2   chromedriver                        0x00000001008d4feb chromedriver + 413675\n",
      "3   chromedriver                        0x000000010090da1e chromedriver + 645662\n",
      "4   chromedriver                        0x0000000100901861 chromedriver + 596065\n",
      "5   chromedriver                        0x00000001009297d2 chromedriver + 759762\n",
      "6   chromedriver                        0x0000000100901075 chromedriver + 594037\n",
      "7   chromedriver                        0x000000010092992e chromedriver + 760110\n",
      "8   chromedriver                        0x000000010093cbd9 chromedriver + 838617\n",
      "9   chromedriver                        0x0000000100929603 chromedriver + 759299\n",
      "10  chromedriver                        0x00000001008ff990 chromedriver + 588176\n",
      "11  chromedriver                        0x0000000100900a75 chromedriver + 592501\n",
      "12  chromedriver                        0x0000000100c8e6cd chromedriver + 4318925\n",
      "13  chromedriver                        0x0000000100c92f35 chromedriver + 4337461\n",
      "14  chromedriver                        0x0000000100c9a1ff chromedriver + 4366847\n",
      "15  chromedriver                        0x0000000100c93c5a chromedriver + 4340826\n",
      "16  chromedriver                        0x0000000100c69c2c chromedriver + 4168748\n",
      "17  chromedriver                        0x0000000100cb04f8 chromedriver + 4457720\n",
      "18  chromedriver                        0x0000000100cb0693 chromedriver + 4458131\n",
      "19  chromedriver                        0x0000000100cc5a3e chromedriver + 4545086\n",
      "20  libsystem_pthread.dylib             0x00007ff80c43d4e1 _pthread_start + 125\n",
      "21  libsystem_pthread.dylib             0x00007ff80c438f6b thread_start + 15\n",
      "\n",
      "\n"
     ]
    },
    {
     "name": "stderr",
     "output_type": "stream",
     "text": [
      "[WDM] - ====== WebDriver manager ======\n"
     ]
    },
    {
     "name": "stdout",
     "output_type": "stream",
     "text": [
      "2022-09-27 02:12:09,197 INFO ====== WebDriver manager ======\n"
     ]
    },
    {
     "name": "stderr",
     "output_type": "stream",
     "text": [
      "[WDM] - Current google-chrome version is 105.0.5195\n"
     ]
    },
    {
     "name": "stdout",
     "output_type": "stream",
     "text": [
      "2022-09-27 02:12:09,240 INFO Current google-chrome version is 105.0.5195\n"
     ]
    },
    {
     "name": "stderr",
     "output_type": "stream",
     "text": [
      "[WDM] - Get LATEST chromedriver version for 105.0.5195 google-chrome\n"
     ]
    },
    {
     "name": "stdout",
     "output_type": "stream",
     "text": [
      "2022-09-27 02:12:09,241 INFO Get LATEST chromedriver version for 105.0.5195 google-chrome\n"
     ]
    },
    {
     "name": "stderr",
     "output_type": "stream",
     "text": [
      "[WDM] - Driver [/Users/percyd/.wdm/drivers/chromedriver/mac64/105.0.5195.52/chromedriver] found in cache\n"
     ]
    },
    {
     "name": "stdout",
     "output_type": "stream",
     "text": [
      "2022-09-27 02:12:09,290 INFO Driver [/Users/percyd/.wdm/drivers/chromedriver/mac64/105.0.5195.52/chromedriver] found in cache\n",
      "Message: element not interactable\n",
      "  (Session info: chrome=105.0.5195.125)\n",
      "Stacktrace:\n",
      "0   chromedriver                        0x0000000102d6f788 chromedriver + 4515720\n",
      "1   chromedriver                        0x0000000102cf39d3 chromedriver + 4008403\n",
      "2   chromedriver                        0x0000000102985feb chromedriver + 413675\n",
      "3   chromedriver                        0x00000001029bea1e chromedriver + 645662\n",
      "4   chromedriver                        0x00000001029b2861 chromedriver + 596065\n",
      "5   chromedriver                        0x00000001029da7d2 chromedriver + 759762\n",
      "6   chromedriver                        0x00000001029b2075 chromedriver + 594037\n",
      "7   chromedriver                        0x00000001029da92e chromedriver + 760110\n",
      "8   chromedriver                        0x00000001029edbd9 chromedriver + 838617\n",
      "9   chromedriver                        0x00000001029da603 chromedriver + 759299\n",
      "10  chromedriver                        0x00000001029b0990 chromedriver + 588176\n",
      "11  chromedriver                        0x00000001029b1a75 chromedriver + 592501\n",
      "12  chromedriver                        0x0000000102d3f6cd chromedriver + 4318925\n",
      "13  chromedriver                        0x0000000102d43f35 chromedriver + 4337461\n",
      "14  chromedriver                        0x0000000102d4b1ff chromedriver + 4366847\n",
      "15  chromedriver                        0x0000000102d44c5a chromedriver + 4340826\n",
      "16  chromedriver                        0x0000000102d1ac2c chromedriver + 4168748\n",
      "17  chromedriver                        0x0000000102d614f8 chromedriver + 4457720\n",
      "18  chromedriver                        0x0000000102d61693 chromedriver + 4458131\n",
      "19  chromedriver                        0x0000000102d76a3e chromedriver + 4545086\n",
      "20  libsystem_pthread.dylib             0x00007ff80c43d4e1 _pthread_start + 125\n",
      "21  libsystem_pthread.dylib             0x00007ff80c438f6b thread_start + 15\n",
      "\n",
      "\n"
     ]
    },
    {
     "name": "stderr",
     "output_type": "stream",
     "text": [
      "[WDM] - ====== WebDriver manager ======\n"
     ]
    },
    {
     "name": "stdout",
     "output_type": "stream",
     "text": [
      "2022-09-27 02:13:11,870 INFO ====== WebDriver manager ======\n"
     ]
    },
    {
     "name": "stderr",
     "output_type": "stream",
     "text": [
      "[WDM] - Current google-chrome version is 105.0.5195\n"
     ]
    },
    {
     "name": "stdout",
     "output_type": "stream",
     "text": [
      "2022-09-27 02:13:11,911 INFO Current google-chrome version is 105.0.5195\n"
     ]
    },
    {
     "name": "stderr",
     "output_type": "stream",
     "text": [
      "[WDM] - Get LATEST chromedriver version for 105.0.5195 google-chrome\n"
     ]
    },
    {
     "name": "stdout",
     "output_type": "stream",
     "text": [
      "2022-09-27 02:13:11,912 INFO Get LATEST chromedriver version for 105.0.5195 google-chrome\n"
     ]
    },
    {
     "name": "stderr",
     "output_type": "stream",
     "text": [
      "[WDM] - Driver [/Users/percyd/.wdm/drivers/chromedriver/mac64/105.0.5195.52/chromedriver] found in cache\n"
     ]
    },
    {
     "name": "stdout",
     "output_type": "stream",
     "text": [
      "2022-09-27 02:13:11,967 INFO Driver [/Users/percyd/.wdm/drivers/chromedriver/mac64/105.0.5195.52/chromedriver] found in cache\n",
      "Message: element not interactable\n",
      "  (Session info: chrome=105.0.5195.125)\n",
      "Stacktrace:\n",
      "0   chromedriver                        0x00000001028d9788 chromedriver + 4515720\n",
      "1   chromedriver                        0x000000010285d9d3 chromedriver + 4008403\n",
      "2   chromedriver                        0x00000001024effeb chromedriver + 413675\n",
      "3   chromedriver                        0x0000000102528a1e chromedriver + 645662\n",
      "4   chromedriver                        0x000000010251c861 chromedriver + 596065\n",
      "5   chromedriver                        0x00000001025447d2 chromedriver + 759762\n",
      "6   chromedriver                        0x000000010251c075 chromedriver + 594037\n",
      "7   chromedriver                        0x000000010254492e chromedriver + 760110\n",
      "8   chromedriver                        0x0000000102557bd9 chromedriver + 838617\n",
      "9   chromedriver                        0x0000000102544603 chromedriver + 759299\n",
      "10  chromedriver                        0x000000010251a990 chromedriver + 588176\n",
      "11  chromedriver                        0x000000010251ba75 chromedriver + 592501\n",
      "12  chromedriver                        0x00000001028a96cd chromedriver + 4318925\n",
      "13  chromedriver                        0x00000001028adf35 chromedriver + 4337461\n",
      "14  chromedriver                        0x00000001028b51ff chromedriver + 4366847\n",
      "15  chromedriver                        0x00000001028aec5a chromedriver + 4340826\n",
      "16  chromedriver                        0x0000000102884c2c chromedriver + 4168748\n",
      "17  chromedriver                        0x00000001028cb4f8 chromedriver + 4457720\n",
      "18  chromedriver                        0x00000001028cb693 chromedriver + 4458131\n",
      "19  chromedriver                        0x00000001028e0a3e chromedriver + 4545086\n",
      "20  libsystem_pthread.dylib             0x00007ff80c43d4e1 _pthread_start + 125\n",
      "21  libsystem_pthread.dylib             0x00007ff80c438f6b thread_start + 15\n",
      "\n",
      "\n"
     ]
    },
    {
     "name": "stderr",
     "output_type": "stream",
     "text": [
      "[WDM] - ====== WebDriver manager ======\n"
     ]
    },
    {
     "name": "stdout",
     "output_type": "stream",
     "text": [
      "2022-09-27 02:21:09,382 INFO ====== WebDriver manager ======\n"
     ]
    },
    {
     "name": "stderr",
     "output_type": "stream",
     "text": [
      "[WDM] - Current google-chrome version is 105.0.5195\n"
     ]
    },
    {
     "name": "stdout",
     "output_type": "stream",
     "text": [
      "2022-09-27 02:21:09,429 INFO Current google-chrome version is 105.0.5195\n"
     ]
    },
    {
     "name": "stderr",
     "output_type": "stream",
     "text": [
      "[WDM] - Get LATEST chromedriver version for 105.0.5195 google-chrome\n"
     ]
    },
    {
     "name": "stdout",
     "output_type": "stream",
     "text": [
      "2022-09-27 02:21:09,431 INFO Get LATEST chromedriver version for 105.0.5195 google-chrome\n"
     ]
    },
    {
     "name": "stderr",
     "output_type": "stream",
     "text": [
      "[WDM] - Driver [/Users/percyd/.wdm/drivers/chromedriver/mac64/105.0.5195.52/chromedriver] found in cache\n"
     ]
    },
    {
     "name": "stdout",
     "output_type": "stream",
     "text": [
      "2022-09-27 02:21:09,502 INFO Driver [/Users/percyd/.wdm/drivers/chromedriver/mac64/105.0.5195.52/chromedriver] found in cache\n",
      "Message: element not interactable\n",
      "  (Session info: chrome=105.0.5195.125)\n",
      "Stacktrace:\n",
      "0   chromedriver                        0x00000001009d1788 chromedriver + 4515720\n",
      "1   chromedriver                        0x00000001009559d3 chromedriver + 4008403\n",
      "2   chromedriver                        0x00000001005e7feb chromedriver + 413675\n",
      "3   chromedriver                        0x0000000100620a1e chromedriver + 645662\n",
      "4   chromedriver                        0x0000000100614861 chromedriver + 596065\n",
      "5   chromedriver                        0x000000010063c7d2 chromedriver + 759762\n",
      "6   chromedriver                        0x0000000100614075 chromedriver + 594037\n",
      "7   chromedriver                        0x000000010063c92e chromedriver + 760110\n",
      "8   chromedriver                        0x000000010064fbd9 chromedriver + 838617\n",
      "9   chromedriver                        0x000000010063c603 chromedriver + 759299\n",
      "10  chromedriver                        0x0000000100612990 chromedriver + 588176\n",
      "11  chromedriver                        0x0000000100613a75 chromedriver + 592501\n",
      "12  chromedriver                        0x00000001009a16cd chromedriver + 4318925\n",
      "13  chromedriver                        0x00000001009a5f35 chromedriver + 4337461\n",
      "14  chromedriver                        0x00000001009ad1ff chromedriver + 4366847\n",
      "15  chromedriver                        0x00000001009a6c5a chromedriver + 4340826\n",
      "16  chromedriver                        0x000000010097cc2c chromedriver + 4168748\n",
      "17  chromedriver                        0x00000001009c34f8 chromedriver + 4457720\n",
      "18  chromedriver                        0x00000001009c3693 chromedriver + 4458131\n",
      "19  chromedriver                        0x00000001009d8a3e chromedriver + 4545086\n",
      "20  libsystem_pthread.dylib             0x00007ff80c43d4e1 _pthread_start + 125\n",
      "21  libsystem_pthread.dylib             0x00007ff80c438f6b thread_start + 15\n",
      "\n",
      "\n"
     ]
    },
    {
     "name": "stderr",
     "output_type": "stream",
     "text": [
      "[WDM] - ====== WebDriver manager ======\n"
     ]
    },
    {
     "name": "stdout",
     "output_type": "stream",
     "text": [
      "2022-09-27 02:28:12,939 INFO ====== WebDriver manager ======\n"
     ]
    },
    {
     "name": "stderr",
     "output_type": "stream",
     "text": [
      "[WDM] - Current google-chrome version is 105.0.5195\n"
     ]
    },
    {
     "name": "stdout",
     "output_type": "stream",
     "text": [
      "2022-09-27 02:28:12,983 INFO Current google-chrome version is 105.0.5195\n"
     ]
    },
    {
     "name": "stderr",
     "output_type": "stream",
     "text": [
      "[WDM] - Get LATEST chromedriver version for 105.0.5195 google-chrome\n"
     ]
    },
    {
     "name": "stdout",
     "output_type": "stream",
     "text": [
      "2022-09-27 02:28:12,984 INFO Get LATEST chromedriver version for 105.0.5195 google-chrome\n"
     ]
    },
    {
     "name": "stderr",
     "output_type": "stream",
     "text": [
      "[WDM] - Driver [/Users/percyd/.wdm/drivers/chromedriver/mac64/105.0.5195.52/chromedriver] found in cache\n"
     ]
    },
    {
     "name": "stdout",
     "output_type": "stream",
     "text": [
      "2022-09-27 02:28:13,059 INFO Driver [/Users/percyd/.wdm/drivers/chromedriver/mac64/105.0.5195.52/chromedriver] found in cache\n",
      "Message: element not interactable\n",
      "  (Session info: chrome=105.0.5195.125)\n",
      "Stacktrace:\n",
      "0   chromedriver                        0x0000000105042788 chromedriver + 4515720\n",
      "1   chromedriver                        0x0000000104fc69d3 chromedriver + 4008403\n",
      "2   chromedriver                        0x0000000104c58feb chromedriver + 413675\n",
      "3   chromedriver                        0x0000000104c91a1e chromedriver + 645662\n",
      "4   chromedriver                        0x0000000104c85861 chromedriver + 596065\n",
      "5   chromedriver                        0x0000000104cad7d2 chromedriver + 759762\n",
      "6   chromedriver                        0x0000000104c85075 chromedriver + 594037\n",
      "7   chromedriver                        0x0000000104cad92e chromedriver + 760110\n",
      "8   chromedriver                        0x0000000104cc0bd9 chromedriver + 838617\n",
      "9   chromedriver                        0x0000000104cad603 chromedriver + 759299\n",
      "10  chromedriver                        0x0000000104c83990 chromedriver + 588176\n",
      "11  chromedriver                        0x0000000104c84a75 chromedriver + 592501\n",
      "12  chromedriver                        0x00000001050126cd chromedriver + 4318925\n",
      "13  chromedriver                        0x0000000105016f35 chromedriver + 4337461\n",
      "14  chromedriver                        0x000000010501e1ff chromedriver + 4366847\n",
      "15  chromedriver                        0x0000000105017c5a chromedriver + 4340826\n",
      "16  chromedriver                        0x0000000104fedc2c chromedriver + 4168748\n",
      "17  chromedriver                        0x00000001050344f8 chromedriver + 4457720\n",
      "18  chromedriver                        0x0000000105034693 chromedriver + 4458131\n",
      "19  chromedriver                        0x0000000105049a3e chromedriver + 4545086\n",
      "20  libsystem_pthread.dylib             0x00007ff80c43d4e1 _pthread_start + 125\n",
      "21  libsystem_pthread.dylib             0x00007ff80c438f6b thread_start + 15\n",
      "\n",
      "\n"
     ]
    },
    {
     "name": "stderr",
     "output_type": "stream",
     "text": [
      "[WDM] - ====== WebDriver manager ======\n"
     ]
    },
    {
     "name": "stdout",
     "output_type": "stream",
     "text": [
      "2022-09-27 02:32:37,566 INFO ====== WebDriver manager ======\n"
     ]
    },
    {
     "name": "stderr",
     "output_type": "stream",
     "text": [
      "[WDM] - Current google-chrome version is 105.0.5195\n"
     ]
    },
    {
     "name": "stdout",
     "output_type": "stream",
     "text": [
      "2022-09-27 02:32:37,621 INFO Current google-chrome version is 105.0.5195\n"
     ]
    },
    {
     "name": "stderr",
     "output_type": "stream",
     "text": [
      "[WDM] - Get LATEST chromedriver version for 105.0.5195 google-chrome\n"
     ]
    },
    {
     "name": "stdout",
     "output_type": "stream",
     "text": [
      "2022-09-27 02:32:37,623 INFO Get LATEST chromedriver version for 105.0.5195 google-chrome\n"
     ]
    },
    {
     "name": "stderr",
     "output_type": "stream",
     "text": [
      "[WDM] - Driver [/Users/percyd/.wdm/drivers/chromedriver/mac64/105.0.5195.52/chromedriver] found in cache\n"
     ]
    },
    {
     "name": "stdout",
     "output_type": "stream",
     "text": [
      "2022-09-27 02:32:37,668 INFO Driver [/Users/percyd/.wdm/drivers/chromedriver/mac64/105.0.5195.52/chromedriver] found in cache\n",
      "Message: element not interactable\n",
      "  (Session info: chrome=105.0.5195.125)\n",
      "Stacktrace:\n",
      "0   chromedriver                        0x000000010067e788 chromedriver + 4515720\n",
      "1   chromedriver                        0x00000001006029d3 chromedriver + 4008403\n",
      "2   chromedriver                        0x0000000100294feb chromedriver + 413675\n",
      "3   chromedriver                        0x00000001002cda1e chromedriver + 645662\n",
      "4   chromedriver                        0x00000001002c1861 chromedriver + 596065\n",
      "5   chromedriver                        0x00000001002e97d2 chromedriver + 759762\n",
      "6   chromedriver                        0x00000001002c1075 chromedriver + 594037\n",
      "7   chromedriver                        0x00000001002e992e chromedriver + 760110\n",
      "8   chromedriver                        0x00000001002fcbd9 chromedriver + 838617\n",
      "9   chromedriver                        0x00000001002e9603 chromedriver + 759299\n",
      "10  chromedriver                        0x00000001002bf990 chromedriver + 588176\n",
      "11  chromedriver                        0x00000001002c0a75 chromedriver + 592501\n",
      "12  chromedriver                        0x000000010064e6cd chromedriver + 4318925\n",
      "13  chromedriver                        0x0000000100652f35 chromedriver + 4337461\n",
      "14  chromedriver                        0x000000010065a1ff chromedriver + 4366847\n",
      "15  chromedriver                        0x0000000100653c5a chromedriver + 4340826\n",
      "16  chromedriver                        0x0000000100629c2c chromedriver + 4168748\n",
      "17  chromedriver                        0x00000001006704f8 chromedriver + 4457720\n",
      "18  chromedriver                        0x0000000100670693 chromedriver + 4458131\n",
      "19  chromedriver                        0x0000000100685a3e chromedriver + 4545086\n",
      "20  libsystem_pthread.dylib             0x00007ff80c43d4e1 _pthread_start + 125\n",
      "21  libsystem_pthread.dylib             0x00007ff80c438f6b thread_start + 15\n",
      "\n",
      "\n"
     ]
    },
    {
     "name": "stderr",
     "output_type": "stream",
     "text": [
      "[WDM] - ====== WebDriver manager ======\n"
     ]
    },
    {
     "name": "stdout",
     "output_type": "stream",
     "text": [
      "2022-09-27 02:34:24,047 INFO ====== WebDriver manager ======\n"
     ]
    },
    {
     "name": "stderr",
     "output_type": "stream",
     "text": [
      "[WDM] - Current google-chrome version is 105.0.5195\n"
     ]
    },
    {
     "name": "stdout",
     "output_type": "stream",
     "text": [
      "2022-09-27 02:34:24,091 INFO Current google-chrome version is 105.0.5195\n"
     ]
    },
    {
     "name": "stderr",
     "output_type": "stream",
     "text": [
      "[WDM] - Get LATEST chromedriver version for 105.0.5195 google-chrome\n"
     ]
    },
    {
     "name": "stdout",
     "output_type": "stream",
     "text": [
      "2022-09-27 02:34:24,092 INFO Get LATEST chromedriver version for 105.0.5195 google-chrome\n"
     ]
    },
    {
     "name": "stderr",
     "output_type": "stream",
     "text": [
      "[WDM] - Driver [/Users/percyd/.wdm/drivers/chromedriver/mac64/105.0.5195.52/chromedriver] found in cache\n"
     ]
    },
    {
     "name": "stdout",
     "output_type": "stream",
     "text": [
      "2022-09-27 02:34:24,144 INFO Driver [/Users/percyd/.wdm/drivers/chromedriver/mac64/105.0.5195.52/chromedriver] found in cache\n",
      "Message: element not interactable\n",
      "  (Session info: chrome=105.0.5195.125)\n",
      "Stacktrace:\n",
      "0   chromedriver                        0x000000010103c788 chromedriver + 4515720\n",
      "1   chromedriver                        0x0000000100fc09d3 chromedriver + 4008403\n",
      "2   chromedriver                        0x0000000100c52feb chromedriver + 413675\n",
      "3   chromedriver                        0x0000000100c8ba1e chromedriver + 645662\n",
      "4   chromedriver                        0x0000000100c7f861 chromedriver + 596065\n",
      "5   chromedriver                        0x0000000100ca77d2 chromedriver + 759762\n",
      "6   chromedriver                        0x0000000100c7f075 chromedriver + 594037\n",
      "7   chromedriver                        0x0000000100ca792e chromedriver + 760110\n",
      "8   chromedriver                        0x0000000100cbabd9 chromedriver + 838617\n",
      "9   chromedriver                        0x0000000100ca7603 chromedriver + 759299\n",
      "10  chromedriver                        0x0000000100c7d990 chromedriver + 588176\n",
      "11  chromedriver                        0x0000000100c7ea75 chromedriver + 592501\n",
      "12  chromedriver                        0x000000010100c6cd chromedriver + 4318925\n",
      "13  chromedriver                        0x0000000101010f35 chromedriver + 4337461\n",
      "14  chromedriver                        0x00000001010181ff chromedriver + 4366847\n",
      "15  chromedriver                        0x0000000101011c5a chromedriver + 4340826\n",
      "16  chromedriver                        0x0000000100fe7c2c chromedriver + 4168748\n",
      "17  chromedriver                        0x000000010102e4f8 chromedriver + 4457720\n",
      "18  chromedriver                        0x000000010102e693 chromedriver + 4458131\n",
      "19  chromedriver                        0x0000000101043a3e chromedriver + 4545086\n",
      "20  libsystem_pthread.dylib             0x00007ff80c43d4e1 _pthread_start + 125\n",
      "21  libsystem_pthread.dylib             0x00007ff80c438f6b thread_start + 15\n",
      "\n",
      "\n"
     ]
    },
    {
     "name": "stderr",
     "output_type": "stream",
     "text": [
      "[WDM] - ====== WebDriver manager ======\n"
     ]
    },
    {
     "name": "stdout",
     "output_type": "stream",
     "text": [
      "2022-09-27 02:39:47,765 INFO ====== WebDriver manager ======\n"
     ]
    },
    {
     "name": "stderr",
     "output_type": "stream",
     "text": [
      "[WDM] - Current google-chrome version is 105.0.5195\n"
     ]
    },
    {
     "name": "stdout",
     "output_type": "stream",
     "text": [
      "2022-09-27 02:39:47,807 INFO Current google-chrome version is 105.0.5195\n"
     ]
    },
    {
     "name": "stderr",
     "output_type": "stream",
     "text": [
      "[WDM] - Get LATEST chromedriver version for 105.0.5195 google-chrome\n"
     ]
    },
    {
     "name": "stdout",
     "output_type": "stream",
     "text": [
      "2022-09-27 02:39:47,809 INFO Get LATEST chromedriver version for 105.0.5195 google-chrome\n"
     ]
    },
    {
     "name": "stderr",
     "output_type": "stream",
     "text": [
      "[WDM] - Driver [/Users/percyd/.wdm/drivers/chromedriver/mac64/105.0.5195.52/chromedriver] found in cache\n"
     ]
    },
    {
     "name": "stdout",
     "output_type": "stream",
     "text": [
      "2022-09-27 02:39:47,862 INFO Driver [/Users/percyd/.wdm/drivers/chromedriver/mac64/105.0.5195.52/chromedriver] found in cache\n",
      "Message: element not interactable\n",
      "  (Session info: chrome=105.0.5195.125)\n",
      "Stacktrace:\n",
      "0   chromedriver                        0x0000000102e00788 chromedriver + 4515720\n",
      "1   chromedriver                        0x0000000102d849d3 chromedriver + 4008403\n",
      "2   chromedriver                        0x0000000102a16feb chromedriver + 413675\n",
      "3   chromedriver                        0x0000000102a4fa1e chromedriver + 645662\n",
      "4   chromedriver                        0x0000000102a43861 chromedriver + 596065\n",
      "5   chromedriver                        0x0000000102a6b7d2 chromedriver + 759762\n",
      "6   chromedriver                        0x0000000102a43075 chromedriver + 594037\n",
      "7   chromedriver                        0x0000000102a6b92e chromedriver + 760110\n",
      "8   chromedriver                        0x0000000102a7ebd9 chromedriver + 838617\n",
      "9   chromedriver                        0x0000000102a6b603 chromedriver + 759299\n",
      "10  chromedriver                        0x0000000102a41990 chromedriver + 588176\n",
      "11  chromedriver                        0x0000000102a42a75 chromedriver + 592501\n",
      "12  chromedriver                        0x0000000102dd06cd chromedriver + 4318925\n",
      "13  chromedriver                        0x0000000102dd4f35 chromedriver + 4337461\n",
      "14  chromedriver                        0x0000000102ddc1ff chromedriver + 4366847\n",
      "15  chromedriver                        0x0000000102dd5c5a chromedriver + 4340826\n",
      "16  chromedriver                        0x0000000102dabc2c chromedriver + 4168748\n",
      "17  chromedriver                        0x0000000102df24f8 chromedriver + 4457720\n",
      "18  chromedriver                        0x0000000102df2693 chromedriver + 4458131\n",
      "19  chromedriver                        0x0000000102e07a3e chromedriver + 4545086\n",
      "20  libsystem_pthread.dylib             0x00007ff80c43d4e1 _pthread_start + 125\n",
      "21  libsystem_pthread.dylib             0x00007ff80c438f6b thread_start + 15\n",
      "\n",
      "\n"
     ]
    },
    {
     "name": "stderr",
     "output_type": "stream",
     "text": [
      "[WDM] - ====== WebDriver manager ======\n"
     ]
    },
    {
     "name": "stdout",
     "output_type": "stream",
     "text": [
      "2022-09-27 02:42:16,596 INFO ====== WebDriver manager ======\n"
     ]
    },
    {
     "name": "stderr",
     "output_type": "stream",
     "text": [
      "[WDM] - Current google-chrome version is 105.0.5195\n"
     ]
    },
    {
     "name": "stdout",
     "output_type": "stream",
     "text": [
      "2022-09-27 02:42:16,639 INFO Current google-chrome version is 105.0.5195\n"
     ]
    },
    {
     "name": "stderr",
     "output_type": "stream",
     "text": [
      "[WDM] - Get LATEST chromedriver version for 105.0.5195 google-chrome\n"
     ]
    },
    {
     "name": "stdout",
     "output_type": "stream",
     "text": [
      "2022-09-27 02:42:16,641 INFO Get LATEST chromedriver version for 105.0.5195 google-chrome\n"
     ]
    },
    {
     "name": "stderr",
     "output_type": "stream",
     "text": [
      "[WDM] - Driver [/Users/percyd/.wdm/drivers/chromedriver/mac64/105.0.5195.52/chromedriver] found in cache\n"
     ]
    },
    {
     "name": "stdout",
     "output_type": "stream",
     "text": [
      "2022-09-27 02:42:16,718 INFO Driver [/Users/percyd/.wdm/drivers/chromedriver/mac64/105.0.5195.52/chromedriver] found in cache\n",
      "Message: element not interactable\n",
      "  (Session info: chrome=105.0.5195.125)\n",
      "Stacktrace:\n",
      "0   chromedriver                        0x000000010542b788 chromedriver + 4515720\n",
      "1   chromedriver                        0x00000001053af9d3 chromedriver + 4008403\n",
      "2   chromedriver                        0x0000000105041feb chromedriver + 413675\n",
      "3   chromedriver                        0x000000010507aa1e chromedriver + 645662\n",
      "4   chromedriver                        0x000000010506e861 chromedriver + 596065\n",
      "5   chromedriver                        0x00000001050967d2 chromedriver + 759762\n",
      "6   chromedriver                        0x000000010506e075 chromedriver + 594037\n",
      "7   chromedriver                        0x000000010509692e chromedriver + 760110\n",
      "8   chromedriver                        0x00000001050a9bd9 chromedriver + 838617\n",
      "9   chromedriver                        0x0000000105096603 chromedriver + 759299\n",
      "10  chromedriver                        0x000000010506c990 chromedriver + 588176\n",
      "11  chromedriver                        0x000000010506da75 chromedriver + 592501\n",
      "12  chromedriver                        0x00000001053fb6cd chromedriver + 4318925\n",
      "13  chromedriver                        0x00000001053fff35 chromedriver + 4337461\n",
      "14  chromedriver                        0x00000001054071ff chromedriver + 4366847\n",
      "15  chromedriver                        0x0000000105400c5a chromedriver + 4340826\n",
      "16  chromedriver                        0x00000001053d6c2c chromedriver + 4168748\n",
      "17  chromedriver                        0x000000010541d4f8 chromedriver + 4457720\n",
      "18  chromedriver                        0x000000010541d693 chromedriver + 4458131\n",
      "19  chromedriver                        0x0000000105432a3e chromedriver + 4545086\n",
      "20  libsystem_pthread.dylib             0x00007ff80c43d4e1 _pthread_start + 125\n",
      "21  libsystem_pthread.dylib             0x00007ff80c438f6b thread_start + 15\n",
      "\n",
      "\n"
     ]
    },
    {
     "name": "stderr",
     "output_type": "stream",
     "text": [
      "[WDM] - ====== WebDriver manager ======\n"
     ]
    },
    {
     "name": "stdout",
     "output_type": "stream",
     "text": [
      "2022-09-27 02:43:40,443 INFO ====== WebDriver manager ======\n"
     ]
    },
    {
     "name": "stderr",
     "output_type": "stream",
     "text": [
      "[WDM] - Current google-chrome version is 105.0.5195\n"
     ]
    },
    {
     "name": "stdout",
     "output_type": "stream",
     "text": [
      "2022-09-27 02:43:40,485 INFO Current google-chrome version is 105.0.5195\n"
     ]
    },
    {
     "name": "stderr",
     "output_type": "stream",
     "text": [
      "[WDM] - Get LATEST chromedriver version for 105.0.5195 google-chrome\n"
     ]
    },
    {
     "name": "stdout",
     "output_type": "stream",
     "text": [
      "2022-09-27 02:43:40,486 INFO Get LATEST chromedriver version for 105.0.5195 google-chrome\n"
     ]
    },
    {
     "name": "stderr",
     "output_type": "stream",
     "text": [
      "[WDM] - Driver [/Users/percyd/.wdm/drivers/chromedriver/mac64/105.0.5195.52/chromedriver] found in cache\n"
     ]
    },
    {
     "name": "stdout",
     "output_type": "stream",
     "text": [
      "2022-09-27 02:43:40,533 INFO Driver [/Users/percyd/.wdm/drivers/chromedriver/mac64/105.0.5195.52/chromedriver] found in cache\n",
      "Message: element not interactable\n",
      "  (Session info: chrome=105.0.5195.125)\n",
      "Stacktrace:\n",
      "0   chromedriver                        0x000000010503f788 chromedriver + 4515720\n",
      "1   chromedriver                        0x0000000104fc39d3 chromedriver + 4008403\n",
      "2   chromedriver                        0x0000000104c55feb chromedriver + 413675\n",
      "3   chromedriver                        0x0000000104c8ea1e chromedriver + 645662\n",
      "4   chromedriver                        0x0000000104c82861 chromedriver + 596065\n",
      "5   chromedriver                        0x0000000104caa7d2 chromedriver + 759762\n",
      "6   chromedriver                        0x0000000104c82075 chromedriver + 594037\n",
      "7   chromedriver                        0x0000000104caa92e chromedriver + 760110\n",
      "8   chromedriver                        0x0000000104cbdbd9 chromedriver + 838617\n",
      "9   chromedriver                        0x0000000104caa603 chromedriver + 759299\n",
      "10  chromedriver                        0x0000000104c80990 chromedriver + 588176\n",
      "11  chromedriver                        0x0000000104c81a75 chromedriver + 592501\n",
      "12  chromedriver                        0x000000010500f6cd chromedriver + 4318925\n",
      "13  chromedriver                        0x0000000105013f35 chromedriver + 4337461\n",
      "14  chromedriver                        0x000000010501b1ff chromedriver + 4366847\n",
      "15  chromedriver                        0x0000000105014c5a chromedriver + 4340826\n",
      "16  chromedriver                        0x0000000104feac2c chromedriver + 4168748\n",
      "17  chromedriver                        0x00000001050314f8 chromedriver + 4457720\n",
      "18  chromedriver                        0x0000000105031693 chromedriver + 4458131\n",
      "19  chromedriver                        0x0000000105046a3e chromedriver + 4545086\n",
      "20  libsystem_pthread.dylib             0x00007ff80c43d4e1 _pthread_start + 125\n",
      "21  libsystem_pthread.dylib             0x00007ff80c438f6b thread_start + 15\n",
      "\n",
      "\n"
     ]
    },
    {
     "name": "stderr",
     "output_type": "stream",
     "text": [
      "[WDM] - ====== WebDriver manager ======\n"
     ]
    },
    {
     "name": "stdout",
     "output_type": "stream",
     "text": [
      "2022-09-27 02:47:57,253 INFO ====== WebDriver manager ======\n"
     ]
    },
    {
     "name": "stderr",
     "output_type": "stream",
     "text": [
      "[WDM] - Current google-chrome version is 105.0.5195\n"
     ]
    },
    {
     "name": "stdout",
     "output_type": "stream",
     "text": [
      "2022-09-27 02:47:57,336 INFO Current google-chrome version is 105.0.5195\n"
     ]
    },
    {
     "name": "stderr",
     "output_type": "stream",
     "text": [
      "[WDM] - Get LATEST chromedriver version for 105.0.5195 google-chrome\n"
     ]
    },
    {
     "name": "stdout",
     "output_type": "stream",
     "text": [
      "2022-09-27 02:47:57,337 INFO Get LATEST chromedriver version for 105.0.5195 google-chrome\n"
     ]
    },
    {
     "name": "stderr",
     "output_type": "stream",
     "text": [
      "[WDM] - Driver [/Users/percyd/.wdm/drivers/chromedriver/mac64/105.0.5195.52/chromedriver] found in cache\n"
     ]
    },
    {
     "name": "stdout",
     "output_type": "stream",
     "text": [
      "2022-09-27 02:47:57,386 INFO Driver [/Users/percyd/.wdm/drivers/chromedriver/mac64/105.0.5195.52/chromedriver] found in cache\n",
      "Message: element not interactable\n",
      "  (Session info: chrome=105.0.5195.125)\n",
      "Stacktrace:\n",
      "0   chromedriver                        0x0000000104aaf788 chromedriver + 4515720\n",
      "1   chromedriver                        0x0000000104a339d3 chromedriver + 4008403\n",
      "2   chromedriver                        0x00000001046c5feb chromedriver + 413675\n",
      "3   chromedriver                        0x00000001046fea1e chromedriver + 645662\n",
      "4   chromedriver                        0x00000001046f2861 chromedriver + 596065\n",
      "5   chromedriver                        0x000000010471a7d2 chromedriver + 759762\n",
      "6   chromedriver                        0x00000001046f2075 chromedriver + 594037\n",
      "7   chromedriver                        0x000000010471a92e chromedriver + 760110\n",
      "8   chromedriver                        0x000000010472dbd9 chromedriver + 838617\n",
      "9   chromedriver                        0x000000010471a603 chromedriver + 759299\n",
      "10  chromedriver                        0x00000001046f0990 chromedriver + 588176\n",
      "11  chromedriver                        0x00000001046f1a75 chromedriver + 592501\n",
      "12  chromedriver                        0x0000000104a7f6cd chromedriver + 4318925\n",
      "13  chromedriver                        0x0000000104a83f35 chromedriver + 4337461\n",
      "14  chromedriver                        0x0000000104a8b1ff chromedriver + 4366847\n",
      "15  chromedriver                        0x0000000104a84c5a chromedriver + 4340826\n",
      "16  chromedriver                        0x0000000104a5ac2c chromedriver + 4168748\n",
      "17  chromedriver                        0x0000000104aa14f8 chromedriver + 4457720\n",
      "18  chromedriver                        0x0000000104aa1693 chromedriver + 4458131\n",
      "19  chromedriver                        0x0000000104ab6a3e chromedriver + 4545086\n",
      "20  libsystem_pthread.dylib             0x00007ff80c43d4e1 _pthread_start + 125\n",
      "21  libsystem_pthread.dylib             0x00007ff80c438f6b thread_start + 15\n",
      "\n",
      "\n"
     ]
    },
    {
     "name": "stderr",
     "output_type": "stream",
     "text": [
      "[WDM] - ====== WebDriver manager ======\n"
     ]
    },
    {
     "name": "stdout",
     "output_type": "stream",
     "text": [
      "2022-09-27 02:49:23,117 INFO ====== WebDriver manager ======\n"
     ]
    },
    {
     "name": "stderr",
     "output_type": "stream",
     "text": [
      "[WDM] - Current google-chrome version is 105.0.5195\n"
     ]
    },
    {
     "name": "stdout",
     "output_type": "stream",
     "text": [
      "2022-09-27 02:49:23,160 INFO Current google-chrome version is 105.0.5195\n"
     ]
    },
    {
     "name": "stderr",
     "output_type": "stream",
     "text": [
      "[WDM] - Get LATEST chromedriver version for 105.0.5195 google-chrome\n"
     ]
    },
    {
     "name": "stdout",
     "output_type": "stream",
     "text": [
      "2022-09-27 02:49:23,161 INFO Get LATEST chromedriver version for 105.0.5195 google-chrome\n"
     ]
    },
    {
     "name": "stderr",
     "output_type": "stream",
     "text": [
      "[WDM] - Driver [/Users/percyd/.wdm/drivers/chromedriver/mac64/105.0.5195.52/chromedriver] found in cache\n"
     ]
    },
    {
     "name": "stdout",
     "output_type": "stream",
     "text": [
      "2022-09-27 02:49:23,234 INFO Driver [/Users/percyd/.wdm/drivers/chromedriver/mac64/105.0.5195.52/chromedriver] found in cache\n",
      "Message: element not interactable\n",
      "  (Session info: chrome=105.0.5195.125)\n",
      "Stacktrace:\n",
      "0   chromedriver                        0x0000000104ae0788 chromedriver + 4515720\n",
      "1   chromedriver                        0x0000000104a649d3 chromedriver + 4008403\n",
      "2   chromedriver                        0x00000001046f6feb chromedriver + 413675\n",
      "3   chromedriver                        0x000000010472fa1e chromedriver + 645662\n",
      "4   chromedriver                        0x0000000104723861 chromedriver + 596065\n",
      "5   chromedriver                        0x000000010474b7d2 chromedriver + 759762\n",
      "6   chromedriver                        0x0000000104723075 chromedriver + 594037\n",
      "7   chromedriver                        0x000000010474b92e chromedriver + 760110\n",
      "8   chromedriver                        0x000000010475ebd9 chromedriver + 838617\n",
      "9   chromedriver                        0x000000010474b603 chromedriver + 759299\n",
      "10  chromedriver                        0x0000000104721990 chromedriver + 588176\n",
      "11  chromedriver                        0x0000000104722a75 chromedriver + 592501\n",
      "12  chromedriver                        0x0000000104ab06cd chromedriver + 4318925\n",
      "13  chromedriver                        0x0000000104ab4f35 chromedriver + 4337461\n",
      "14  chromedriver                        0x0000000104abc1ff chromedriver + 4366847\n",
      "15  chromedriver                        0x0000000104ab5c5a chromedriver + 4340826\n",
      "16  chromedriver                        0x0000000104a8bc2c chromedriver + 4168748\n",
      "17  chromedriver                        0x0000000104ad24f8 chromedriver + 4457720\n",
      "18  chromedriver                        0x0000000104ad2693 chromedriver + 4458131\n",
      "19  chromedriver                        0x0000000104ae7a3e chromedriver + 4545086\n",
      "20  libsystem_pthread.dylib             0x00007ff80c43d4e1 _pthread_start + 125\n",
      "21  libsystem_pthread.dylib             0x00007ff80c438f6b thread_start + 15\n",
      "\n",
      "\n"
     ]
    },
    {
     "name": "stderr",
     "output_type": "stream",
     "text": [
      "[WDM] - ====== WebDriver manager ======\n"
     ]
    },
    {
     "name": "stdout",
     "output_type": "stream",
     "text": [
      "2022-09-27 02:53:12,433 INFO ====== WebDriver manager ======\n"
     ]
    },
    {
     "name": "stderr",
     "output_type": "stream",
     "text": [
      "[WDM] - Current google-chrome version is 105.0.5195\n"
     ]
    },
    {
     "name": "stdout",
     "output_type": "stream",
     "text": [
      "2022-09-27 02:53:12,475 INFO Current google-chrome version is 105.0.5195\n"
     ]
    },
    {
     "name": "stderr",
     "output_type": "stream",
     "text": [
      "[WDM] - Get LATEST chromedriver version for 105.0.5195 google-chrome\n"
     ]
    },
    {
     "name": "stdout",
     "output_type": "stream",
     "text": [
      "2022-09-27 02:53:12,477 INFO Get LATEST chromedriver version for 105.0.5195 google-chrome\n"
     ]
    },
    {
     "name": "stderr",
     "output_type": "stream",
     "text": [
      "[WDM] - Driver [/Users/percyd/.wdm/drivers/chromedriver/mac64/105.0.5195.52/chromedriver] found in cache\n"
     ]
    },
    {
     "name": "stdout",
     "output_type": "stream",
     "text": [
      "2022-09-27 02:53:12,529 INFO Driver [/Users/percyd/.wdm/drivers/chromedriver/mac64/105.0.5195.52/chromedriver] found in cache\n",
      "Message: element not interactable\n",
      "  (Session info: chrome=105.0.5195.125)\n",
      "Stacktrace:\n",
      "0   chromedriver                        0x0000000104b4c788 chromedriver + 4515720\n",
      "1   chromedriver                        0x0000000104ad09d3 chromedriver + 4008403\n",
      "2   chromedriver                        0x0000000104762feb chromedriver + 413675\n",
      "3   chromedriver                        0x000000010479ba1e chromedriver + 645662\n",
      "4   chromedriver                        0x000000010478f861 chromedriver + 596065\n",
      "5   chromedriver                        0x00000001047b77d2 chromedriver + 759762\n",
      "6   chromedriver                        0x000000010478f075 chromedriver + 594037\n",
      "7   chromedriver                        0x00000001047b792e chromedriver + 760110\n",
      "8   chromedriver                        0x00000001047cabd9 chromedriver + 838617\n",
      "9   chromedriver                        0x00000001047b7603 chromedriver + 759299\n",
      "10  chromedriver                        0x000000010478d990 chromedriver + 588176\n",
      "11  chromedriver                        0x000000010478ea75 chromedriver + 592501\n",
      "12  chromedriver                        0x0000000104b1c6cd chromedriver + 4318925\n",
      "13  chromedriver                        0x0000000104b20f35 chromedriver + 4337461\n",
      "14  chromedriver                        0x0000000104b281ff chromedriver + 4366847\n",
      "15  chromedriver                        0x0000000104b21c5a chromedriver + 4340826\n",
      "16  chromedriver                        0x0000000104af7c2c chromedriver + 4168748\n",
      "17  chromedriver                        0x0000000104b3e4f8 chromedriver + 4457720\n",
      "18  chromedriver                        0x0000000104b3e693 chromedriver + 4458131\n",
      "19  chromedriver                        0x0000000104b53a3e chromedriver + 4545086\n",
      "20  libsystem_pthread.dylib             0x00007ff80c43d4e1 _pthread_start + 125\n",
      "21  libsystem_pthread.dylib             0x00007ff80c438f6b thread_start + 15\n",
      "\n",
      "\n"
     ]
    },
    {
     "name": "stderr",
     "output_type": "stream",
     "text": [
      "[WDM] - ====== WebDriver manager ======\n"
     ]
    },
    {
     "name": "stdout",
     "output_type": "stream",
     "text": [
      "2022-09-27 03:00:59,212 INFO ====== WebDriver manager ======\n"
     ]
    },
    {
     "name": "stderr",
     "output_type": "stream",
     "text": [
      "[WDM] - Current google-chrome version is 105.0.5195\n"
     ]
    },
    {
     "name": "stdout",
     "output_type": "stream",
     "text": [
      "2022-09-27 03:00:59,257 INFO Current google-chrome version is 105.0.5195\n"
     ]
    },
    {
     "name": "stderr",
     "output_type": "stream",
     "text": [
      "[WDM] - Get LATEST chromedriver version for 105.0.5195 google-chrome\n"
     ]
    },
    {
     "name": "stdout",
     "output_type": "stream",
     "text": [
      "2022-09-27 03:00:59,258 INFO Get LATEST chromedriver version for 105.0.5195 google-chrome\n"
     ]
    },
    {
     "name": "stderr",
     "output_type": "stream",
     "text": [
      "[WDM] - Driver [/Users/percyd/.wdm/drivers/chromedriver/mac64/105.0.5195.52/chromedriver] found in cache\n"
     ]
    },
    {
     "name": "stdout",
     "output_type": "stream",
     "text": [
      "2022-09-27 03:00:59,330 INFO Driver [/Users/percyd/.wdm/drivers/chromedriver/mac64/105.0.5195.52/chromedriver] found in cache\n",
      "Message: element not interactable\n",
      "  (Session info: chrome=105.0.5195.125)\n",
      "Stacktrace:\n",
      "0   chromedriver                        0x0000000102478788 chromedriver + 4515720\n",
      "1   chromedriver                        0x00000001023fc9d3 chromedriver + 4008403\n",
      "2   chromedriver                        0x000000010208efeb chromedriver + 413675\n",
      "3   chromedriver                        0x00000001020c7a1e chromedriver + 645662\n",
      "4   chromedriver                        0x00000001020bb861 chromedriver + 596065\n",
      "5   chromedriver                        0x00000001020e37d2 chromedriver + 759762\n",
      "6   chromedriver                        0x00000001020bb075 chromedriver + 594037\n",
      "7   chromedriver                        0x00000001020e392e chromedriver + 760110\n",
      "8   chromedriver                        0x00000001020f6bd9 chromedriver + 838617\n",
      "9   chromedriver                        0x00000001020e3603 chromedriver + 759299\n",
      "10  chromedriver                        0x00000001020b9990 chromedriver + 588176\n",
      "11  chromedriver                        0x00000001020baa75 chromedriver + 592501\n",
      "12  chromedriver                        0x00000001024486cd chromedriver + 4318925\n",
      "13  chromedriver                        0x000000010244cf35 chromedriver + 4337461\n",
      "14  chromedriver                        0x00000001024541ff chromedriver + 4366847\n",
      "15  chromedriver                        0x000000010244dc5a chromedriver + 4340826\n",
      "16  chromedriver                        0x0000000102423c2c chromedriver + 4168748\n",
      "17  chromedriver                        0x000000010246a4f8 chromedriver + 4457720\n",
      "18  chromedriver                        0x000000010246a693 chromedriver + 4458131\n",
      "19  chromedriver                        0x000000010247fa3e chromedriver + 4545086\n",
      "20  libsystem_pthread.dylib             0x00007ff80c43d4e1 _pthread_start + 125\n",
      "21  libsystem_pthread.dylib             0x00007ff80c438f6b thread_start + 15\n",
      "\n",
      "\n"
     ]
    },
    {
     "name": "stderr",
     "output_type": "stream",
     "text": [
      "[WDM] - ====== WebDriver manager ======\n"
     ]
    },
    {
     "name": "stdout",
     "output_type": "stream",
     "text": [
      "2022-09-27 03:07:05,543 INFO ====== WebDriver manager ======\n"
     ]
    },
    {
     "name": "stderr",
     "output_type": "stream",
     "text": [
      "[WDM] - Current google-chrome version is 105.0.5195\n"
     ]
    },
    {
     "name": "stdout",
     "output_type": "stream",
     "text": [
      "2022-09-27 03:07:05,588 INFO Current google-chrome version is 105.0.5195\n"
     ]
    },
    {
     "name": "stderr",
     "output_type": "stream",
     "text": [
      "[WDM] - Get LATEST chromedriver version for 105.0.5195 google-chrome\n"
     ]
    },
    {
     "name": "stdout",
     "output_type": "stream",
     "text": [
      "2022-09-27 03:07:05,590 INFO Get LATEST chromedriver version for 105.0.5195 google-chrome\n"
     ]
    },
    {
     "name": "stderr",
     "output_type": "stream",
     "text": [
      "[WDM] - Driver [/Users/percyd/.wdm/drivers/chromedriver/mac64/105.0.5195.52/chromedriver] found in cache\n"
     ]
    },
    {
     "name": "stdout",
     "output_type": "stream",
     "text": [
      "2022-09-27 03:07:05,644 INFO Driver [/Users/percyd/.wdm/drivers/chromedriver/mac64/105.0.5195.52/chromedriver] found in cache\n",
      "Message: element not interactable\n",
      "  (Session info: chrome=105.0.5195.125)\n",
      "Stacktrace:\n",
      "0   chromedriver                        0x000000010542f788 chromedriver + 4515720\n",
      "1   chromedriver                        0x00000001053b39d3 chromedriver + 4008403\n",
      "2   chromedriver                        0x0000000105045feb chromedriver + 413675\n",
      "3   chromedriver                        0x000000010507ea1e chromedriver + 645662\n",
      "4   chromedriver                        0x0000000105072861 chromedriver + 596065\n",
      "5   chromedriver                        0x000000010509a7d2 chromedriver + 759762\n",
      "6   chromedriver                        0x0000000105072075 chromedriver + 594037\n",
      "7   chromedriver                        0x000000010509a92e chromedriver + 760110\n",
      "8   chromedriver                        0x00000001050adbd9 chromedriver + 838617\n",
      "9   chromedriver                        0x000000010509a603 chromedriver + 759299\n",
      "10  chromedriver                        0x0000000105070990 chromedriver + 588176\n",
      "11  chromedriver                        0x0000000105071a75 chromedriver + 592501\n",
      "12  chromedriver                        0x00000001053ff6cd chromedriver + 4318925\n",
      "13  chromedriver                        0x0000000105403f35 chromedriver + 4337461\n",
      "14  chromedriver                        0x000000010540b1ff chromedriver + 4366847\n",
      "15  chromedriver                        0x0000000105404c5a chromedriver + 4340826\n",
      "16  chromedriver                        0x00000001053dac2c chromedriver + 4168748\n",
      "17  chromedriver                        0x00000001054214f8 chromedriver + 4457720\n",
      "18  chromedriver                        0x0000000105421693 chromedriver + 4458131\n",
      "19  chromedriver                        0x0000000105436a3e chromedriver + 4545086\n",
      "20  libsystem_pthread.dylib             0x00007ff80c43d4e1 _pthread_start + 125\n",
      "21  libsystem_pthread.dylib             0x00007ff80c438f6b thread_start + 15\n",
      "\n",
      "\n"
     ]
    },
    {
     "name": "stderr",
     "output_type": "stream",
     "text": [
      "[WDM] - ====== WebDriver manager ======\n"
     ]
    },
    {
     "name": "stdout",
     "output_type": "stream",
     "text": [
      "2022-09-27 03:07:54,294 INFO ====== WebDriver manager ======\n"
     ]
    },
    {
     "name": "stderr",
     "output_type": "stream",
     "text": [
      "[WDM] - Current google-chrome version is 105.0.5195\n"
     ]
    },
    {
     "name": "stdout",
     "output_type": "stream",
     "text": [
      "2022-09-27 03:07:54,336 INFO Current google-chrome version is 105.0.5195\n"
     ]
    },
    {
     "name": "stderr",
     "output_type": "stream",
     "text": [
      "[WDM] - Get LATEST chromedriver version for 105.0.5195 google-chrome\n"
     ]
    },
    {
     "name": "stdout",
     "output_type": "stream",
     "text": [
      "2022-09-27 03:07:54,338 INFO Get LATEST chromedriver version for 105.0.5195 google-chrome\n"
     ]
    },
    {
     "name": "stderr",
     "output_type": "stream",
     "text": [
      "[WDM] - Driver [/Users/percyd/.wdm/drivers/chromedriver/mac64/105.0.5195.52/chromedriver] found in cache\n"
     ]
    },
    {
     "name": "stdout",
     "output_type": "stream",
     "text": [
      "2022-09-27 03:07:54,390 INFO Driver [/Users/percyd/.wdm/drivers/chromedriver/mac64/105.0.5195.52/chromedriver] found in cache\n",
      "Message: element not interactable\n",
      "  (Session info: chrome=105.0.5195.125)\n",
      "Stacktrace:\n",
      "0   chromedriver                        0x0000000101320788 chromedriver + 4515720\n",
      "1   chromedriver                        0x00000001012a49d3 chromedriver + 4008403\n",
      "2   chromedriver                        0x0000000100f36feb chromedriver + 413675\n",
      "3   chromedriver                        0x0000000100f6fa1e chromedriver + 645662\n",
      "4   chromedriver                        0x0000000100f63861 chromedriver + 596065\n",
      "5   chromedriver                        0x0000000100f8b7d2 chromedriver + 759762\n",
      "6   chromedriver                        0x0000000100f63075 chromedriver + 594037\n",
      "7   chromedriver                        0x0000000100f8b92e chromedriver + 760110\n",
      "8   chromedriver                        0x0000000100f9ebd9 chromedriver + 838617\n",
      "9   chromedriver                        0x0000000100f8b603 chromedriver + 759299\n",
      "10  chromedriver                        0x0000000100f61990 chromedriver + 588176\n",
      "11  chromedriver                        0x0000000100f62a75 chromedriver + 592501\n",
      "12  chromedriver                        0x00000001012f06cd chromedriver + 4318925\n",
      "13  chromedriver                        0x00000001012f4f35 chromedriver + 4337461\n",
      "14  chromedriver                        0x00000001012fc1ff chromedriver + 4366847\n",
      "15  chromedriver                        0x00000001012f5c5a chromedriver + 4340826\n",
      "16  chromedriver                        0x00000001012cbc2c chromedriver + 4168748\n",
      "17  chromedriver                        0x00000001013124f8 chromedriver + 4457720\n",
      "18  chromedriver                        0x0000000101312693 chromedriver + 4458131\n",
      "19  chromedriver                        0x0000000101327a3e chromedriver + 4545086\n",
      "20  libsystem_pthread.dylib             0x00007ff80c43d4e1 _pthread_start + 125\n",
      "21  libsystem_pthread.dylib             0x00007ff80c438f6b thread_start + 15\n",
      "\n",
      "\n"
     ]
    },
    {
     "name": "stderr",
     "output_type": "stream",
     "text": [
      "[WDM] - ====== WebDriver manager ======\n"
     ]
    },
    {
     "name": "stdout",
     "output_type": "stream",
     "text": [
      "2022-09-27 03:09:02,322 INFO ====== WebDriver manager ======\n"
     ]
    },
    {
     "name": "stderr",
     "output_type": "stream",
     "text": [
      "[WDM] - Current google-chrome version is 105.0.5195\n"
     ]
    },
    {
     "name": "stdout",
     "output_type": "stream",
     "text": [
      "2022-09-27 03:09:02,362 INFO Current google-chrome version is 105.0.5195\n"
     ]
    },
    {
     "name": "stderr",
     "output_type": "stream",
     "text": [
      "[WDM] - Get LATEST chromedriver version for 105.0.5195 google-chrome\n"
     ]
    },
    {
     "name": "stdout",
     "output_type": "stream",
     "text": [
      "2022-09-27 03:09:02,363 INFO Get LATEST chromedriver version for 105.0.5195 google-chrome\n"
     ]
    },
    {
     "name": "stderr",
     "output_type": "stream",
     "text": [
      "[WDM] - Driver [/Users/percyd/.wdm/drivers/chromedriver/mac64/105.0.5195.52/chromedriver] found in cache\n"
     ]
    },
    {
     "name": "stdout",
     "output_type": "stream",
     "text": [
      "2022-09-27 03:09:02,416 INFO Driver [/Users/percyd/.wdm/drivers/chromedriver/mac64/105.0.5195.52/chromedriver] found in cache\n",
      "Message: element not interactable\n",
      "  (Session info: chrome=105.0.5195.125)\n",
      "Stacktrace:\n",
      "0   chromedriver                        0x0000000105370788 chromedriver + 4515720\n",
      "1   chromedriver                        0x00000001052f49d3 chromedriver + 4008403\n",
      "2   chromedriver                        0x0000000104f86feb chromedriver + 413675\n",
      "3   chromedriver                        0x0000000104fbfa1e chromedriver + 645662\n",
      "4   chromedriver                        0x0000000104fb3861 chromedriver + 596065\n",
      "5   chromedriver                        0x0000000104fdb7d2 chromedriver + 759762\n",
      "6   chromedriver                        0x0000000104fb3075 chromedriver + 594037\n",
      "7   chromedriver                        0x0000000104fdb92e chromedriver + 760110\n",
      "8   chromedriver                        0x0000000104feebd9 chromedriver + 838617\n",
      "9   chromedriver                        0x0000000104fdb603 chromedriver + 759299\n",
      "10  chromedriver                        0x0000000104fb1990 chromedriver + 588176\n",
      "11  chromedriver                        0x0000000104fb2a75 chromedriver + 592501\n",
      "12  chromedriver                        0x00000001053406cd chromedriver + 4318925\n",
      "13  chromedriver                        0x0000000105344f35 chromedriver + 4337461\n",
      "14  chromedriver                        0x000000010534c1ff chromedriver + 4366847\n",
      "15  chromedriver                        0x0000000105345c5a chromedriver + 4340826\n",
      "16  chromedriver                        0x000000010531bc2c chromedriver + 4168748\n",
      "17  chromedriver                        0x00000001053624f8 chromedriver + 4457720\n",
      "18  chromedriver                        0x0000000105362693 chromedriver + 4458131\n",
      "19  chromedriver                        0x0000000105377a3e chromedriver + 4545086\n",
      "20  libsystem_pthread.dylib             0x00007ff80c43d4e1 _pthread_start + 125\n",
      "21  libsystem_pthread.dylib             0x00007ff80c438f6b thread_start + 15\n",
      "\n",
      "\n"
     ]
    },
    {
     "name": "stderr",
     "output_type": "stream",
     "text": [
      "[WDM] - ====== WebDriver manager ======\n"
     ]
    },
    {
     "name": "stdout",
     "output_type": "stream",
     "text": [
      "2022-09-27 03:12:45,460 INFO ====== WebDriver manager ======\n"
     ]
    },
    {
     "name": "stderr",
     "output_type": "stream",
     "text": [
      "[WDM] - Current google-chrome version is 105.0.5195\n"
     ]
    },
    {
     "name": "stdout",
     "output_type": "stream",
     "text": [
      "2022-09-27 03:12:45,500 INFO Current google-chrome version is 105.0.5195\n"
     ]
    },
    {
     "name": "stderr",
     "output_type": "stream",
     "text": [
      "[WDM] - Get LATEST chromedriver version for 105.0.5195 google-chrome\n"
     ]
    },
    {
     "name": "stdout",
     "output_type": "stream",
     "text": [
      "2022-09-27 03:12:45,502 INFO Get LATEST chromedriver version for 105.0.5195 google-chrome\n"
     ]
    },
    {
     "name": "stderr",
     "output_type": "stream",
     "text": [
      "[WDM] - Driver [/Users/percyd/.wdm/drivers/chromedriver/mac64/105.0.5195.52/chromedriver] found in cache\n"
     ]
    },
    {
     "name": "stdout",
     "output_type": "stream",
     "text": [
      "2022-09-27 03:12:45,552 INFO Driver [/Users/percyd/.wdm/drivers/chromedriver/mac64/105.0.5195.52/chromedriver] found in cache\n",
      "Message: element not interactable\n",
      "  (Session info: chrome=105.0.5195.125)\n",
      "Stacktrace:\n",
      "0   chromedriver                        0x00000001032d5788 chromedriver + 4515720\n",
      "1   chromedriver                        0x00000001032599d3 chromedriver + 4008403\n",
      "2   chromedriver                        0x0000000102eebfeb chromedriver + 413675\n",
      "3   chromedriver                        0x0000000102f24a1e chromedriver + 645662\n",
      "4   chromedriver                        0x0000000102f18861 chromedriver + 596065\n",
      "5   chromedriver                        0x0000000102f407d2 chromedriver + 759762\n",
      "6   chromedriver                        0x0000000102f18075 chromedriver + 594037\n",
      "7   chromedriver                        0x0000000102f4092e chromedriver + 760110\n",
      "8   chromedriver                        0x0000000102f53bd9 chromedriver + 838617\n",
      "9   chromedriver                        0x0000000102f40603 chromedriver + 759299\n",
      "10  chromedriver                        0x0000000102f16990 chromedriver + 588176\n",
      "11  chromedriver                        0x0000000102f17a75 chromedriver + 592501\n",
      "12  chromedriver                        0x00000001032a56cd chromedriver + 4318925\n",
      "13  chromedriver                        0x00000001032a9f35 chromedriver + 4337461\n",
      "14  chromedriver                        0x00000001032b11ff chromedriver + 4366847\n",
      "15  chromedriver                        0x00000001032aac5a chromedriver + 4340826\n",
      "16  chromedriver                        0x0000000103280c2c chromedriver + 4168748\n",
      "17  chromedriver                        0x00000001032c74f8 chromedriver + 4457720\n",
      "18  chromedriver                        0x00000001032c7693 chromedriver + 4458131\n",
      "19  chromedriver                        0x00000001032dca3e chromedriver + 4545086\n",
      "20  libsystem_pthread.dylib             0x00007ff80c43d4e1 _pthread_start + 125\n",
      "21  libsystem_pthread.dylib             0x00007ff80c438f6b thread_start + 15\n",
      "\n",
      "\n"
     ]
    },
    {
     "name": "stderr",
     "output_type": "stream",
     "text": [
      "[WDM] - ====== WebDriver manager ======\n"
     ]
    },
    {
     "name": "stdout",
     "output_type": "stream",
     "text": [
      "2022-09-27 03:15:14,496 INFO ====== WebDriver manager ======\n"
     ]
    },
    {
     "name": "stderr",
     "output_type": "stream",
     "text": [
      "[WDM] - Current google-chrome version is 105.0.5195\n"
     ]
    },
    {
     "name": "stdout",
     "output_type": "stream",
     "text": [
      "2022-09-27 03:15:14,537 INFO Current google-chrome version is 105.0.5195\n"
     ]
    },
    {
     "name": "stderr",
     "output_type": "stream",
     "text": [
      "[WDM] - Get LATEST chromedriver version for 105.0.5195 google-chrome\n"
     ]
    },
    {
     "name": "stdout",
     "output_type": "stream",
     "text": [
      "2022-09-27 03:15:14,539 INFO Get LATEST chromedriver version for 105.0.5195 google-chrome\n"
     ]
    },
    {
     "name": "stderr",
     "output_type": "stream",
     "text": [
      "[WDM] - Driver [/Users/percyd/.wdm/drivers/chromedriver/mac64/105.0.5195.52/chromedriver] found in cache\n"
     ]
    },
    {
     "name": "stdout",
     "output_type": "stream",
     "text": [
      "2022-09-27 03:15:14,610 INFO Driver [/Users/percyd/.wdm/drivers/chromedriver/mac64/105.0.5195.52/chromedriver] found in cache\n",
      "Message: element not interactable\n",
      "  (Session info: chrome=105.0.5195.125)\n",
      "Stacktrace:\n",
      "0   chromedriver                        0x00000001005c5788 chromedriver + 4515720\n",
      "1   chromedriver                        0x00000001005499d3 chromedriver + 4008403\n",
      "2   chromedriver                        0x00000001001dbfeb chromedriver + 413675\n",
      "3   chromedriver                        0x0000000100214a1e chromedriver + 645662\n",
      "4   chromedriver                        0x0000000100208861 chromedriver + 596065\n",
      "5   chromedriver                        0x00000001002307d2 chromedriver + 759762\n",
      "6   chromedriver                        0x0000000100208075 chromedriver + 594037\n",
      "7   chromedriver                        0x000000010023092e chromedriver + 760110\n",
      "8   chromedriver                        0x0000000100243bd9 chromedriver + 838617\n",
      "9   chromedriver                        0x0000000100230603 chromedriver + 759299\n",
      "10  chromedriver                        0x0000000100206990 chromedriver + 588176\n",
      "11  chromedriver                        0x0000000100207a75 chromedriver + 592501\n",
      "12  chromedriver                        0x00000001005956cd chromedriver + 4318925\n",
      "13  chromedriver                        0x0000000100599f35 chromedriver + 4337461\n",
      "14  chromedriver                        0x00000001005a11ff chromedriver + 4366847\n",
      "15  chromedriver                        0x000000010059ac5a chromedriver + 4340826\n",
      "16  chromedriver                        0x0000000100570c2c chromedriver + 4168748\n",
      "17  chromedriver                        0x00000001005b74f8 chromedriver + 4457720\n",
      "18  chromedriver                        0x00000001005b7693 chromedriver + 4458131\n",
      "19  chromedriver                        0x00000001005cca3e chromedriver + 4545086\n",
      "20  libsystem_pthread.dylib             0x00007ff80c43d4e1 _pthread_start + 125\n",
      "21  libsystem_pthread.dylib             0x00007ff80c438f6b thread_start + 15\n",
      "\n",
      "\n"
     ]
    },
    {
     "name": "stderr",
     "output_type": "stream",
     "text": [
      "[WDM] - ====== WebDriver manager ======\n"
     ]
    },
    {
     "name": "stdout",
     "output_type": "stream",
     "text": [
      "2022-09-27 03:56:03,580 INFO ====== WebDriver manager ======\n"
     ]
    },
    {
     "name": "stderr",
     "output_type": "stream",
     "text": [
      "[WDM] - Current google-chrome version is 105.0.5195\n"
     ]
    },
    {
     "name": "stdout",
     "output_type": "stream",
     "text": [
      "2022-09-27 03:56:03,636 INFO Current google-chrome version is 105.0.5195\n"
     ]
    },
    {
     "name": "stderr",
     "output_type": "stream",
     "text": [
      "[WDM] - Get LATEST chromedriver version for 105.0.5195 google-chrome\n"
     ]
    },
    {
     "name": "stdout",
     "output_type": "stream",
     "text": [
      "2022-09-27 03:56:03,638 INFO Get LATEST chromedriver version for 105.0.5195 google-chrome\n"
     ]
    },
    {
     "name": "stderr",
     "output_type": "stream",
     "text": [
      "[WDM] - Driver [/Users/percyd/.wdm/drivers/chromedriver/mac64/105.0.5195.52/chromedriver] found in cache\n"
     ]
    },
    {
     "name": "stdout",
     "output_type": "stream",
     "text": [
      "2022-09-27 03:56:03,713 INFO Driver [/Users/percyd/.wdm/drivers/chromedriver/mac64/105.0.5195.52/chromedriver] found in cache\n",
      "Message: element not interactable\n",
      "  (Session info: chrome=105.0.5195.125)\n",
      "Stacktrace:\n",
      "0   chromedriver                        0x0000000104971788 chromedriver + 4515720\n",
      "1   chromedriver                        0x00000001048f59d3 chromedriver + 4008403\n",
      "2   chromedriver                        0x0000000104587feb chromedriver + 413675\n",
      "3   chromedriver                        0x00000001045c0a1e chromedriver + 645662\n",
      "4   chromedriver                        0x00000001045b4861 chromedriver + 596065\n",
      "5   chromedriver                        0x00000001045dc7d2 chromedriver + 759762\n",
      "6   chromedriver                        0x00000001045b4075 chromedriver + 594037\n",
      "7   chromedriver                        0x00000001045dc92e chromedriver + 760110\n",
      "8   chromedriver                        0x00000001045efbd9 chromedriver + 838617\n",
      "9   chromedriver                        0x00000001045dc603 chromedriver + 759299\n",
      "10  chromedriver                        0x00000001045b2990 chromedriver + 588176\n",
      "11  chromedriver                        0x00000001045b3a75 chromedriver + 592501\n",
      "12  chromedriver                        0x00000001049416cd chromedriver + 4318925\n",
      "13  chromedriver                        0x0000000104945f35 chromedriver + 4337461\n",
      "14  chromedriver                        0x000000010494d1ff chromedriver + 4366847\n",
      "15  chromedriver                        0x0000000104946c5a chromedriver + 4340826\n",
      "16  chromedriver                        0x000000010491cc2c chromedriver + 4168748\n",
      "17  chromedriver                        0x00000001049634f8 chromedriver + 4457720\n",
      "18  chromedriver                        0x0000000104963693 chromedriver + 4458131\n",
      "19  chromedriver                        0x0000000104978a3e chromedriver + 4545086\n",
      "20  libsystem_pthread.dylib             0x00007ff80c43d4e1 _pthread_start + 125\n",
      "21  libsystem_pthread.dylib             0x00007ff80c438f6b thread_start + 15\n",
      "\n",
      "\n"
     ]
    },
    {
     "name": "stderr",
     "output_type": "stream",
     "text": [
      "[WDM] - ====== WebDriver manager ======\n"
     ]
    },
    {
     "name": "stdout",
     "output_type": "stream",
     "text": [
      "2022-09-27 03:58:17,666 INFO ====== WebDriver manager ======\n"
     ]
    },
    {
     "name": "stderr",
     "output_type": "stream",
     "text": [
      "[WDM] - Current google-chrome version is 105.0.5195\n"
     ]
    },
    {
     "name": "stdout",
     "output_type": "stream",
     "text": [
      "2022-09-27 03:58:17,709 INFO Current google-chrome version is 105.0.5195\n"
     ]
    },
    {
     "name": "stderr",
     "output_type": "stream",
     "text": [
      "[WDM] - Get LATEST chromedriver version for 105.0.5195 google-chrome\n"
     ]
    },
    {
     "name": "stdout",
     "output_type": "stream",
     "text": [
      "2022-09-27 03:58:17,710 INFO Get LATEST chromedriver version for 105.0.5195 google-chrome\n"
     ]
    },
    {
     "name": "stderr",
     "output_type": "stream",
     "text": [
      "[WDM] - Driver [/Users/percyd/.wdm/drivers/chromedriver/mac64/105.0.5195.52/chromedriver] found in cache\n"
     ]
    },
    {
     "name": "stdout",
     "output_type": "stream",
     "text": [
      "2022-09-27 03:58:17,763 INFO Driver [/Users/percyd/.wdm/drivers/chromedriver/mac64/105.0.5195.52/chromedriver] found in cache\n",
      "Message: element not interactable\n",
      "  (Session info: chrome=105.0.5195.125)\n",
      "Stacktrace:\n",
      "0   chromedriver                        0x00000001046db788 chromedriver + 4515720\n",
      "1   chromedriver                        0x000000010465f9d3 chromedriver + 4008403\n",
      "2   chromedriver                        0x00000001042f1feb chromedriver + 413675\n",
      "3   chromedriver                        0x000000010432aa1e chromedriver + 645662\n",
      "4   chromedriver                        0x000000010431e861 chromedriver + 596065\n",
      "5   chromedriver                        0x00000001043467d2 chromedriver + 759762\n",
      "6   chromedriver                        0x000000010431e075 chromedriver + 594037\n",
      "7   chromedriver                        0x000000010434692e chromedriver + 760110\n",
      "8   chromedriver                        0x0000000104359bd9 chromedriver + 838617\n",
      "9   chromedriver                        0x0000000104346603 chromedriver + 759299\n",
      "10  chromedriver                        0x000000010431c990 chromedriver + 588176\n",
      "11  chromedriver                        0x000000010431da75 chromedriver + 592501\n",
      "12  chromedriver                        0x00000001046ab6cd chromedriver + 4318925\n",
      "13  chromedriver                        0x00000001046aff35 chromedriver + 4337461\n",
      "14  chromedriver                        0x00000001046b71ff chromedriver + 4366847\n",
      "15  chromedriver                        0x00000001046b0c5a chromedriver + 4340826\n",
      "16  chromedriver                        0x0000000104686c2c chromedriver + 4168748\n",
      "17  chromedriver                        0x00000001046cd4f8 chromedriver + 4457720\n",
      "18  chromedriver                        0x00000001046cd693 chromedriver + 4458131\n",
      "19  chromedriver                        0x00000001046e2a3e chromedriver + 4545086\n",
      "20  libsystem_pthread.dylib             0x00007ff80c43d4e1 _pthread_start + 125\n",
      "21  libsystem_pthread.dylib             0x00007ff80c438f6b thread_start + 15\n",
      "\n",
      "\n"
     ]
    },
    {
     "name": "stderr",
     "output_type": "stream",
     "text": [
      "[WDM] - ====== WebDriver manager ======\n"
     ]
    },
    {
     "name": "stdout",
     "output_type": "stream",
     "text": [
      "2022-09-27 04:02:32,707 INFO ====== WebDriver manager ======\n"
     ]
    },
    {
     "name": "stderr",
     "output_type": "stream",
     "text": [
      "[WDM] - Current google-chrome version is 105.0.5195\n"
     ]
    },
    {
     "name": "stdout",
     "output_type": "stream",
     "text": [
      "2022-09-27 04:02:32,748 INFO Current google-chrome version is 105.0.5195\n"
     ]
    },
    {
     "name": "stderr",
     "output_type": "stream",
     "text": [
      "[WDM] - Get LATEST chromedriver version for 105.0.5195 google-chrome\n"
     ]
    },
    {
     "name": "stdout",
     "output_type": "stream",
     "text": [
      "2022-09-27 04:02:32,750 INFO Get LATEST chromedriver version for 105.0.5195 google-chrome\n"
     ]
    },
    {
     "name": "stderr",
     "output_type": "stream",
     "text": [
      "[WDM] - Driver [/Users/percyd/.wdm/drivers/chromedriver/mac64/105.0.5195.52/chromedriver] found in cache\n"
     ]
    },
    {
     "name": "stdout",
     "output_type": "stream",
     "text": [
      "2022-09-27 04:02:32,823 INFO Driver [/Users/percyd/.wdm/drivers/chromedriver/mac64/105.0.5195.52/chromedriver] found in cache\n",
      "Message: element not interactable\n",
      "  (Session info: chrome=105.0.5195.125)\n",
      "Stacktrace:\n",
      "0   chromedriver                        0x0000000104b87788 chromedriver + 4515720\n",
      "1   chromedriver                        0x0000000104b0b9d3 chromedriver + 4008403\n",
      "2   chromedriver                        0x000000010479dfeb chromedriver + 413675\n",
      "3   chromedriver                        0x00000001047d6a1e chromedriver + 645662\n",
      "4   chromedriver                        0x00000001047ca861 chromedriver + 596065\n",
      "5   chromedriver                        0x00000001047f27d2 chromedriver + 759762\n",
      "6   chromedriver                        0x00000001047ca075 chromedriver + 594037\n",
      "7   chromedriver                        0x00000001047f292e chromedriver + 760110\n",
      "8   chromedriver                        0x0000000104805bd9 chromedriver + 838617\n",
      "9   chromedriver                        0x00000001047f2603 chromedriver + 759299\n",
      "10  chromedriver                        0x00000001047c8990 chromedriver + 588176\n",
      "11  chromedriver                        0x00000001047c9a75 chromedriver + 592501\n",
      "12  chromedriver                        0x0000000104b576cd chromedriver + 4318925\n",
      "13  chromedriver                        0x0000000104b5bf35 chromedriver + 4337461\n",
      "14  chromedriver                        0x0000000104b631ff chromedriver + 4366847\n",
      "15  chromedriver                        0x0000000104b5cc5a chromedriver + 4340826\n",
      "16  chromedriver                        0x0000000104b32c2c chromedriver + 4168748\n",
      "17  chromedriver                        0x0000000104b794f8 chromedriver + 4457720\n",
      "18  chromedriver                        0x0000000104b79693 chromedriver + 4458131\n",
      "19  chromedriver                        0x0000000104b8ea3e chromedriver + 4545086\n",
      "20  libsystem_pthread.dylib             0x00007ff80c43d4e1 _pthread_start + 125\n",
      "21  libsystem_pthread.dylib             0x00007ff80c438f6b thread_start + 15\n",
      "\n",
      "\n"
     ]
    },
    {
     "name": "stderr",
     "output_type": "stream",
     "text": [
      "[WDM] - ====== WebDriver manager ======\n"
     ]
    },
    {
     "name": "stdout",
     "output_type": "stream",
     "text": [
      "2022-09-27 04:05:03,054 INFO ====== WebDriver manager ======\n"
     ]
    },
    {
     "name": "stderr",
     "output_type": "stream",
     "text": [
      "[WDM] - Current google-chrome version is 105.0.5195\n"
     ]
    },
    {
     "name": "stdout",
     "output_type": "stream",
     "text": [
      "2022-09-27 04:05:03,097 INFO Current google-chrome version is 105.0.5195\n"
     ]
    },
    {
     "name": "stderr",
     "output_type": "stream",
     "text": [
      "[WDM] - Get LATEST chromedriver version for 105.0.5195 google-chrome\n"
     ]
    },
    {
     "name": "stdout",
     "output_type": "stream",
     "text": [
      "2022-09-27 04:05:03,099 INFO Get LATEST chromedriver version for 105.0.5195 google-chrome\n"
     ]
    },
    {
     "name": "stderr",
     "output_type": "stream",
     "text": [
      "[WDM] - Driver [/Users/percyd/.wdm/drivers/chromedriver/mac64/105.0.5195.52/chromedriver] found in cache\n"
     ]
    },
    {
     "name": "stdout",
     "output_type": "stream",
     "text": [
      "2022-09-27 04:05:03,152 INFO Driver [/Users/percyd/.wdm/drivers/chromedriver/mac64/105.0.5195.52/chromedriver] found in cache\n",
      "Message: element not interactable\n",
      "  (Session info: chrome=105.0.5195.125)\n",
      "Stacktrace:\n",
      "0   chromedriver                        0x00000001044e3788 chromedriver + 4515720\n",
      "1   chromedriver                        0x00000001044679d3 chromedriver + 4008403\n",
      "2   chromedriver                        0x00000001040f9feb chromedriver + 413675\n",
      "3   chromedriver                        0x0000000104132a1e chromedriver + 645662\n",
      "4   chromedriver                        0x0000000104126861 chromedriver + 596065\n",
      "5   chromedriver                        0x000000010414e7d2 chromedriver + 759762\n",
      "6   chromedriver                        0x0000000104126075 chromedriver + 594037\n",
      "7   chromedriver                        0x000000010414e92e chromedriver + 760110\n",
      "8   chromedriver                        0x0000000104161bd9 chromedriver + 838617\n",
      "9   chromedriver                        0x000000010414e603 chromedriver + 759299\n",
      "10  chromedriver                        0x0000000104124990 chromedriver + 588176\n",
      "11  chromedriver                        0x0000000104125a75 chromedriver + 592501\n",
      "12  chromedriver                        0x00000001044b36cd chromedriver + 4318925\n",
      "13  chromedriver                        0x00000001044b7f35 chromedriver + 4337461\n",
      "14  chromedriver                        0x00000001044bf1ff chromedriver + 4366847\n",
      "15  chromedriver                        0x00000001044b8c5a chromedriver + 4340826\n",
      "16  chromedriver                        0x000000010448ec2c chromedriver + 4168748\n",
      "17  chromedriver                        0x00000001044d54f8 chromedriver + 4457720\n",
      "18  chromedriver                        0x00000001044d5693 chromedriver + 4458131\n",
      "19  chromedriver                        0x00000001044eaa3e chromedriver + 4545086\n",
      "20  libsystem_pthread.dylib             0x00007ff80c43d4e1 _pthread_start + 125\n",
      "21  libsystem_pthread.dylib             0x00007ff80c438f6b thread_start + 15\n",
      "\n",
      "\n"
     ]
    },
    {
     "name": "stderr",
     "output_type": "stream",
     "text": [
      "[WDM] - ====== WebDriver manager ======\n"
     ]
    },
    {
     "name": "stdout",
     "output_type": "stream",
     "text": [
      "2022-09-27 04:08:34,431 INFO ====== WebDriver manager ======\n"
     ]
    },
    {
     "name": "stderr",
     "output_type": "stream",
     "text": [
      "[WDM] - Current google-chrome version is 105.0.5195\n"
     ]
    },
    {
     "name": "stdout",
     "output_type": "stream",
     "text": [
      "2022-09-27 04:08:34,489 INFO Current google-chrome version is 105.0.5195\n"
     ]
    },
    {
     "name": "stderr",
     "output_type": "stream",
     "text": [
      "[WDM] - Get LATEST chromedriver version for 105.0.5195 google-chrome\n"
     ]
    },
    {
     "name": "stdout",
     "output_type": "stream",
     "text": [
      "2022-09-27 04:08:34,491 INFO Get LATEST chromedriver version for 105.0.5195 google-chrome\n"
     ]
    },
    {
     "name": "stderr",
     "output_type": "stream",
     "text": [
      "[WDM] - Driver [/Users/percyd/.wdm/drivers/chromedriver/mac64/105.0.5195.52/chromedriver] found in cache\n"
     ]
    },
    {
     "name": "stdout",
     "output_type": "stream",
     "text": [
      "2022-09-27 04:08:34,538 INFO Driver [/Users/percyd/.wdm/drivers/chromedriver/mac64/105.0.5195.52/chromedriver] found in cache\n",
      "Message: element not interactable\n",
      "  (Session info: chrome=105.0.5195.125)\n",
      "Stacktrace:\n",
      "0   chromedriver                        0x0000000102665788 chromedriver + 4515720\n",
      "1   chromedriver                        0x00000001025e99d3 chromedriver + 4008403\n",
      "2   chromedriver                        0x000000010227bfeb chromedriver + 413675\n",
      "3   chromedriver                        0x00000001022b4a1e chromedriver + 645662\n",
      "4   chromedriver                        0x00000001022a8861 chromedriver + 596065\n",
      "5   chromedriver                        0x00000001022d07d2 chromedriver + 759762\n",
      "6   chromedriver                        0x00000001022a8075 chromedriver + 594037\n",
      "7   chromedriver                        0x00000001022d092e chromedriver + 760110\n",
      "8   chromedriver                        0x00000001022e3bd9 chromedriver + 838617\n",
      "9   chromedriver                        0x00000001022d0603 chromedriver + 759299\n",
      "10  chromedriver                        0x00000001022a6990 chromedriver + 588176\n",
      "11  chromedriver                        0x00000001022a7a75 chromedriver + 592501\n",
      "12  chromedriver                        0x00000001026356cd chromedriver + 4318925\n",
      "13  chromedriver                        0x0000000102639f35 chromedriver + 4337461\n",
      "14  chromedriver                        0x00000001026411ff chromedriver + 4366847\n",
      "15  chromedriver                        0x000000010263ac5a chromedriver + 4340826\n",
      "16  chromedriver                        0x0000000102610c2c chromedriver + 4168748\n",
      "17  chromedriver                        0x00000001026574f8 chromedriver + 4457720\n",
      "18  chromedriver                        0x0000000102657693 chromedriver + 4458131\n",
      "19  chromedriver                        0x000000010266ca3e chromedriver + 4545086\n",
      "20  libsystem_pthread.dylib             0x00007ff80c43d4e1 _pthread_start + 125\n",
      "21  libsystem_pthread.dylib             0x00007ff80c438f6b thread_start + 15\n",
      "\n",
      "\n"
     ]
    },
    {
     "name": "stderr",
     "output_type": "stream",
     "text": [
      "[WDM] - ====== WebDriver manager ======\n"
     ]
    },
    {
     "name": "stdout",
     "output_type": "stream",
     "text": [
      "2022-09-27 04:12:04,872 INFO ====== WebDriver manager ======\n"
     ]
    },
    {
     "name": "stderr",
     "output_type": "stream",
     "text": [
      "[WDM] - Current google-chrome version is 105.0.5195\n"
     ]
    },
    {
     "name": "stdout",
     "output_type": "stream",
     "text": [
      "2022-09-27 04:12:04,958 INFO Current google-chrome version is 105.0.5195\n"
     ]
    },
    {
     "name": "stderr",
     "output_type": "stream",
     "text": [
      "[WDM] - Get LATEST chromedriver version for 105.0.5195 google-chrome\n"
     ]
    },
    {
     "name": "stdout",
     "output_type": "stream",
     "text": [
      "2022-09-27 04:12:04,960 INFO Get LATEST chromedriver version for 105.0.5195 google-chrome\n"
     ]
    },
    {
     "name": "stderr",
     "output_type": "stream",
     "text": [
      "[WDM] - Driver [/Users/percyd/.wdm/drivers/chromedriver/mac64/105.0.5195.52/chromedriver] found in cache\n"
     ]
    },
    {
     "name": "stdout",
     "output_type": "stream",
     "text": [
      "2022-09-27 04:12:05,007 INFO Driver [/Users/percyd/.wdm/drivers/chromedriver/mac64/105.0.5195.52/chromedriver] found in cache\n",
      "Message: element not interactable\n",
      "  (Session info: chrome=105.0.5195.125)\n",
      "Stacktrace:\n",
      "0   chromedriver                        0x0000000102aba788 chromedriver + 4515720\n",
      "1   chromedriver                        0x0000000102a3e9d3 chromedriver + 4008403\n",
      "2   chromedriver                        0x00000001026d0feb chromedriver + 413675\n",
      "3   chromedriver                        0x0000000102709a1e chromedriver + 645662\n",
      "4   chromedriver                        0x00000001026fd861 chromedriver + 596065\n",
      "5   chromedriver                        0x00000001027257d2 chromedriver + 759762\n",
      "6   chromedriver                        0x00000001026fd075 chromedriver + 594037\n",
      "7   chromedriver                        0x000000010272592e chromedriver + 760110\n",
      "8   chromedriver                        0x0000000102738bd9 chromedriver + 838617\n",
      "9   chromedriver                        0x0000000102725603 chromedriver + 759299\n",
      "10  chromedriver                        0x00000001026fb990 chromedriver + 588176\n",
      "11  chromedriver                        0x00000001026fca75 chromedriver + 592501\n",
      "12  chromedriver                        0x0000000102a8a6cd chromedriver + 4318925\n",
      "13  chromedriver                        0x0000000102a8ef35 chromedriver + 4337461\n",
      "14  chromedriver                        0x0000000102a961ff chromedriver + 4366847\n",
      "15  chromedriver                        0x0000000102a8fc5a chromedriver + 4340826\n",
      "16  chromedriver                        0x0000000102a65c2c chromedriver + 4168748\n",
      "17  chromedriver                        0x0000000102aac4f8 chromedriver + 4457720\n",
      "18  chromedriver                        0x0000000102aac693 chromedriver + 4458131\n",
      "19  chromedriver                        0x0000000102ac1a3e chromedriver + 4545086\n",
      "20  libsystem_pthread.dylib             0x00007ff80c43d4e1 _pthread_start + 125\n",
      "21  libsystem_pthread.dylib             0x00007ff80c438f6b thread_start + 15\n",
      "\n",
      "\n"
     ]
    },
    {
     "name": "stderr",
     "output_type": "stream",
     "text": [
      "[WDM] - ====== WebDriver manager ======\n"
     ]
    },
    {
     "name": "stdout",
     "output_type": "stream",
     "text": [
      "2022-09-27 04:22:54,064 INFO ====== WebDriver manager ======\n"
     ]
    },
    {
     "name": "stderr",
     "output_type": "stream",
     "text": [
      "[WDM] - Current google-chrome version is 105.0.5195\n"
     ]
    },
    {
     "name": "stdout",
     "output_type": "stream",
     "text": [
      "2022-09-27 04:22:54,107 INFO Current google-chrome version is 105.0.5195\n"
     ]
    },
    {
     "name": "stderr",
     "output_type": "stream",
     "text": [
      "[WDM] - Get LATEST chromedriver version for 105.0.5195 google-chrome\n"
     ]
    },
    {
     "name": "stdout",
     "output_type": "stream",
     "text": [
      "2022-09-27 04:22:54,108 INFO Get LATEST chromedriver version for 105.0.5195 google-chrome\n"
     ]
    },
    {
     "name": "stderr",
     "output_type": "stream",
     "text": [
      "[WDM] - Driver [/Users/percyd/.wdm/drivers/chromedriver/mac64/105.0.5195.52/chromedriver] found in cache\n"
     ]
    },
    {
     "name": "stdout",
     "output_type": "stream",
     "text": [
      "2022-09-27 04:22:54,176 INFO Driver [/Users/percyd/.wdm/drivers/chromedriver/mac64/105.0.5195.52/chromedriver] found in cache\n",
      "Message: element not interactable\n",
      "  (Session info: chrome=105.0.5195.125)\n",
      "Stacktrace:\n",
      "0   chromedriver                        0x000000010091e788 chromedriver + 4515720\n",
      "1   chromedriver                        0x00000001008a29d3 chromedriver + 4008403\n",
      "2   chromedriver                        0x0000000100534feb chromedriver + 413675\n",
      "3   chromedriver                        0x000000010056da1e chromedriver + 645662\n",
      "4   chromedriver                        0x0000000100561861 chromedriver + 596065\n",
      "5   chromedriver                        0x00000001005897d2 chromedriver + 759762\n",
      "6   chromedriver                        0x0000000100561075 chromedriver + 594037\n",
      "7   chromedriver                        0x000000010058992e chromedriver + 760110\n",
      "8   chromedriver                        0x000000010059cbd9 chromedriver + 838617\n",
      "9   chromedriver                        0x0000000100589603 chromedriver + 759299\n",
      "10  chromedriver                        0x000000010055f990 chromedriver + 588176\n",
      "11  chromedriver                        0x0000000100560a75 chromedriver + 592501\n",
      "12  chromedriver                        0x00000001008ee6cd chromedriver + 4318925\n",
      "13  chromedriver                        0x00000001008f2f35 chromedriver + 4337461\n",
      "14  chromedriver                        0x00000001008fa1ff chromedriver + 4366847\n",
      "15  chromedriver                        0x00000001008f3c5a chromedriver + 4340826\n",
      "16  chromedriver                        0x00000001008c9c2c chromedriver + 4168748\n",
      "17  chromedriver                        0x00000001009104f8 chromedriver + 4457720\n",
      "18  chromedriver                        0x0000000100910693 chromedriver + 4458131\n",
      "19  chromedriver                        0x0000000100925a3e chromedriver + 4545086\n",
      "20  libsystem_pthread.dylib             0x00007ff80c43d4e1 _pthread_start + 125\n",
      "21  libsystem_pthread.dylib             0x00007ff80c438f6b thread_start + 15\n",
      "\n",
      "\n"
     ]
    },
    {
     "name": "stderr",
     "output_type": "stream",
     "text": [
      "[WDM] - ====== WebDriver manager ======\n"
     ]
    },
    {
     "name": "stdout",
     "output_type": "stream",
     "text": [
      "2022-09-27 04:25:42,641 INFO ====== WebDriver manager ======\n"
     ]
    },
    {
     "name": "stderr",
     "output_type": "stream",
     "text": [
      "[WDM] - Current google-chrome version is 105.0.5195\n"
     ]
    },
    {
     "name": "stdout",
     "output_type": "stream",
     "text": [
      "2022-09-27 04:25:42,686 INFO Current google-chrome version is 105.0.5195\n"
     ]
    },
    {
     "name": "stderr",
     "output_type": "stream",
     "text": [
      "[WDM] - Get LATEST chromedriver version for 105.0.5195 google-chrome\n"
     ]
    },
    {
     "name": "stdout",
     "output_type": "stream",
     "text": [
      "2022-09-27 04:25:42,688 INFO Get LATEST chromedriver version for 105.0.5195 google-chrome\n"
     ]
    },
    {
     "name": "stderr",
     "output_type": "stream",
     "text": [
      "[WDM] - Driver [/Users/percyd/.wdm/drivers/chromedriver/mac64/105.0.5195.52/chromedriver] found in cache\n"
     ]
    },
    {
     "name": "stdout",
     "output_type": "stream",
     "text": [
      "2022-09-27 04:25:42,749 INFO Driver [/Users/percyd/.wdm/drivers/chromedriver/mac64/105.0.5195.52/chromedriver] found in cache\n",
      "Message: element not interactable\n",
      "  (Session info: chrome=105.0.5195.125)\n",
      "Stacktrace:\n",
      "0   chromedriver                        0x000000010507d788 chromedriver + 4515720\n",
      "1   chromedriver                        0x00000001050019d3 chromedriver + 4008403\n",
      "2   chromedriver                        0x0000000104c93feb chromedriver + 413675\n",
      "3   chromedriver                        0x0000000104ccca1e chromedriver + 645662\n",
      "4   chromedriver                        0x0000000104cc0861 chromedriver + 596065\n",
      "5   chromedriver                        0x0000000104ce87d2 chromedriver + 759762\n",
      "6   chromedriver                        0x0000000104cc0075 chromedriver + 594037\n",
      "7   chromedriver                        0x0000000104ce892e chromedriver + 760110\n",
      "8   chromedriver                        0x0000000104cfbbd9 chromedriver + 838617\n",
      "9   chromedriver                        0x0000000104ce8603 chromedriver + 759299\n",
      "10  chromedriver                        0x0000000104cbe990 chromedriver + 588176\n",
      "11  chromedriver                        0x0000000104cbfa75 chromedriver + 592501\n",
      "12  chromedriver                        0x000000010504d6cd chromedriver + 4318925\n",
      "13  chromedriver                        0x0000000105051f35 chromedriver + 4337461\n",
      "14  chromedriver                        0x00000001050591ff chromedriver + 4366847\n",
      "15  chromedriver                        0x0000000105052c5a chromedriver + 4340826\n",
      "16  chromedriver                        0x0000000105028c2c chromedriver + 4168748\n",
      "17  chromedriver                        0x000000010506f4f8 chromedriver + 4457720\n",
      "18  chromedriver                        0x000000010506f693 chromedriver + 4458131\n",
      "19  chromedriver                        0x0000000105084a3e chromedriver + 4545086\n",
      "20  libsystem_pthread.dylib             0x00007ff80c43d4e1 _pthread_start + 125\n",
      "21  libsystem_pthread.dylib             0x00007ff80c438f6b thread_start + 15\n",
      "\n",
      "\n"
     ]
    },
    {
     "name": "stderr",
     "output_type": "stream",
     "text": [
      "[WDM] - ====== WebDriver manager ======\n"
     ]
    },
    {
     "name": "stdout",
     "output_type": "stream",
     "text": [
      "2022-09-27 04:31:17,444 INFO ====== WebDriver manager ======\n"
     ]
    },
    {
     "name": "stderr",
     "output_type": "stream",
     "text": [
      "[WDM] - Current google-chrome version is 105.0.5195\n"
     ]
    },
    {
     "name": "stdout",
     "output_type": "stream",
     "text": [
      "2022-09-27 04:31:17,484 INFO Current google-chrome version is 105.0.5195\n"
     ]
    },
    {
     "name": "stderr",
     "output_type": "stream",
     "text": [
      "[WDM] - Get LATEST chromedriver version for 105.0.5195 google-chrome\n"
     ]
    },
    {
     "name": "stdout",
     "output_type": "stream",
     "text": [
      "2022-09-27 04:31:17,486 INFO Get LATEST chromedriver version for 105.0.5195 google-chrome\n"
     ]
    },
    {
     "name": "stderr",
     "output_type": "stream",
     "text": [
      "[WDM] - Driver [/Users/percyd/.wdm/drivers/chromedriver/mac64/105.0.5195.52/chromedriver] found in cache\n"
     ]
    },
    {
     "name": "stdout",
     "output_type": "stream",
     "text": [
      "2022-09-27 04:31:17,553 INFO Driver [/Users/percyd/.wdm/drivers/chromedriver/mac64/105.0.5195.52/chromedriver] found in cache\n",
      "Message: element not interactable\n",
      "  (Session info: chrome=105.0.5195.125)\n",
      "Stacktrace:\n",
      "0   chromedriver                        0x0000000104946788 chromedriver + 4515720\n",
      "1   chromedriver                        0x00000001048ca9d3 chromedriver + 4008403\n",
      "2   chromedriver                        0x000000010455cfeb chromedriver + 413675\n",
      "3   chromedriver                        0x0000000104595a1e chromedriver + 645662\n",
      "4   chromedriver                        0x0000000104589861 chromedriver + 596065\n",
      "5   chromedriver                        0x00000001045b17d2 chromedriver + 759762\n",
      "6   chromedriver                        0x0000000104589075 chromedriver + 594037\n",
      "7   chromedriver                        0x00000001045b192e chromedriver + 760110\n",
      "8   chromedriver                        0x00000001045c4bd9 chromedriver + 838617\n",
      "9   chromedriver                        0x00000001045b1603 chromedriver + 759299\n",
      "10  chromedriver                        0x0000000104587990 chromedriver + 588176\n",
      "11  chromedriver                        0x0000000104588a75 chromedriver + 592501\n",
      "12  chromedriver                        0x00000001049166cd chromedriver + 4318925\n",
      "13  chromedriver                        0x000000010491af35 chromedriver + 4337461\n",
      "14  chromedriver                        0x00000001049221ff chromedriver + 4366847\n",
      "15  chromedriver                        0x000000010491bc5a chromedriver + 4340826\n",
      "16  chromedriver                        0x00000001048f1c2c chromedriver + 4168748\n",
      "17  chromedriver                        0x00000001049384f8 chromedriver + 4457720\n",
      "18  chromedriver                        0x0000000104938693 chromedriver + 4458131\n",
      "19  chromedriver                        0x000000010494da3e chromedriver + 4545086\n",
      "20  libsystem_pthread.dylib             0x00007ff80c43d4e1 _pthread_start + 125\n",
      "21  libsystem_pthread.dylib             0x00007ff80c438f6b thread_start + 15\n",
      "\n",
      "\n"
     ]
    },
    {
     "name": "stderr",
     "output_type": "stream",
     "text": [
      "[WDM] - ====== WebDriver manager ======\n"
     ]
    },
    {
     "name": "stdout",
     "output_type": "stream",
     "text": [
      "2022-09-27 04:48:10,366 INFO ====== WebDriver manager ======\n"
     ]
    },
    {
     "name": "stderr",
     "output_type": "stream",
     "text": [
      "[WDM] - Current google-chrome version is 105.0.5195\n"
     ]
    },
    {
     "name": "stdout",
     "output_type": "stream",
     "text": [
      "2022-09-27 04:48:10,416 INFO Current google-chrome version is 105.0.5195\n"
     ]
    },
    {
     "name": "stderr",
     "output_type": "stream",
     "text": [
      "[WDM] - Get LATEST chromedriver version for 105.0.5195 google-chrome\n"
     ]
    },
    {
     "name": "stdout",
     "output_type": "stream",
     "text": [
      "2022-09-27 04:48:10,418 INFO Get LATEST chromedriver version for 105.0.5195 google-chrome\n"
     ]
    },
    {
     "name": "stderr",
     "output_type": "stream",
     "text": [
      "[WDM] - Driver [/Users/percyd/.wdm/drivers/chromedriver/mac64/105.0.5195.52/chromedriver] found in cache\n"
     ]
    },
    {
     "name": "stdout",
     "output_type": "stream",
     "text": [
      "2022-09-27 04:48:10,485 INFO Driver [/Users/percyd/.wdm/drivers/chromedriver/mac64/105.0.5195.52/chromedriver] found in cache\n",
      "Message: element not interactable\n",
      "  (Session info: chrome=105.0.5195.125)\n",
      "Stacktrace:\n",
      "0   chromedriver                        0x00000001051d2788 chromedriver + 4515720\n",
      "1   chromedriver                        0x00000001051569d3 chromedriver + 4008403\n",
      "2   chromedriver                        0x0000000104de8feb chromedriver + 413675\n",
      "3   chromedriver                        0x0000000104e21a1e chromedriver + 645662\n",
      "4   chromedriver                        0x0000000104e15861 chromedriver + 596065\n",
      "5   chromedriver                        0x0000000104e3d7d2 chromedriver + 759762\n",
      "6   chromedriver                        0x0000000104e15075 chromedriver + 594037\n",
      "7   chromedriver                        0x0000000104e3d92e chromedriver + 760110\n",
      "8   chromedriver                        0x0000000104e50bd9 chromedriver + 838617\n",
      "9   chromedriver                        0x0000000104e3d603 chromedriver + 759299\n",
      "10  chromedriver                        0x0000000104e13990 chromedriver + 588176\n",
      "11  chromedriver                        0x0000000104e14a75 chromedriver + 592501\n",
      "12  chromedriver                        0x00000001051a26cd chromedriver + 4318925\n",
      "13  chromedriver                        0x00000001051a6f35 chromedriver + 4337461\n",
      "14  chromedriver                        0x00000001051ae1ff chromedriver + 4366847\n",
      "15  chromedriver                        0x00000001051a7c5a chromedriver + 4340826\n",
      "16  chromedriver                        0x000000010517dc2c chromedriver + 4168748\n",
      "17  chromedriver                        0x00000001051c44f8 chromedriver + 4457720\n",
      "18  chromedriver                        0x00000001051c4693 chromedriver + 4458131\n",
      "19  chromedriver                        0x00000001051d9a3e chromedriver + 4545086\n",
      "20  libsystem_pthread.dylib             0x00007ff80c43d4e1 _pthread_start + 125\n",
      "21  libsystem_pthread.dylib             0x00007ff80c438f6b thread_start + 15\n",
      "\n",
      "\n"
     ]
    },
    {
     "name": "stderr",
     "output_type": "stream",
     "text": [
      "[WDM] - ====== WebDriver manager ======\n"
     ]
    },
    {
     "name": "stdout",
     "output_type": "stream",
     "text": [
      "2022-09-27 04:54:45,015 INFO ====== WebDriver manager ======\n"
     ]
    },
    {
     "name": "stderr",
     "output_type": "stream",
     "text": [
      "[WDM] - Current google-chrome version is 105.0.5195\n"
     ]
    },
    {
     "name": "stdout",
     "output_type": "stream",
     "text": [
      "2022-09-27 04:54:45,058 INFO Current google-chrome version is 105.0.5195\n"
     ]
    },
    {
     "name": "stderr",
     "output_type": "stream",
     "text": [
      "[WDM] - Get LATEST chromedriver version for 105.0.5195 google-chrome\n"
     ]
    },
    {
     "name": "stdout",
     "output_type": "stream",
     "text": [
      "2022-09-27 04:54:45,060 INFO Get LATEST chromedriver version for 105.0.5195 google-chrome\n"
     ]
    },
    {
     "name": "stderr",
     "output_type": "stream",
     "text": [
      "[WDM] - Driver [/Users/percyd/.wdm/drivers/chromedriver/mac64/105.0.5195.52/chromedriver] found in cache\n"
     ]
    },
    {
     "name": "stdout",
     "output_type": "stream",
     "text": [
      "2022-09-27 04:54:45,124 INFO Driver [/Users/percyd/.wdm/drivers/chromedriver/mac64/105.0.5195.52/chromedriver] found in cache\n",
      "Message: element not interactable\n",
      "  (Session info: chrome=105.0.5195.125)\n",
      "Stacktrace:\n",
      "0   chromedriver                        0x0000000102c1e788 chromedriver + 4515720\n",
      "1   chromedriver                        0x0000000102ba29d3 chromedriver + 4008403\n",
      "2   chromedriver                        0x0000000102834feb chromedriver + 413675\n",
      "3   chromedriver                        0x000000010286da1e chromedriver + 645662\n",
      "4   chromedriver                        0x0000000102861861 chromedriver + 596065\n",
      "5   chromedriver                        0x00000001028897d2 chromedriver + 759762\n",
      "6   chromedriver                        0x0000000102861075 chromedriver + 594037\n",
      "7   chromedriver                        0x000000010288992e chromedriver + 760110\n",
      "8   chromedriver                        0x000000010289cbd9 chromedriver + 838617\n",
      "9   chromedriver                        0x0000000102889603 chromedriver + 759299\n",
      "10  chromedriver                        0x000000010285f990 chromedriver + 588176\n",
      "11  chromedriver                        0x0000000102860a75 chromedriver + 592501\n",
      "12  chromedriver                        0x0000000102bee6cd chromedriver + 4318925\n",
      "13  chromedriver                        0x0000000102bf2f35 chromedriver + 4337461\n",
      "14  chromedriver                        0x0000000102bfa1ff chromedriver + 4366847\n",
      "15  chromedriver                        0x0000000102bf3c5a chromedriver + 4340826\n",
      "16  chromedriver                        0x0000000102bc9c2c chromedriver + 4168748\n",
      "17  chromedriver                        0x0000000102c104f8 chromedriver + 4457720\n",
      "18  chromedriver                        0x0000000102c10693 chromedriver + 4458131\n",
      "19  chromedriver                        0x0000000102c25a3e chromedriver + 4545086\n",
      "20  libsystem_pthread.dylib             0x00007ff80c43d4e1 _pthread_start + 125\n",
      "21  libsystem_pthread.dylib             0x00007ff80c438f6b thread_start + 15\n",
      "\n",
      "\n"
     ]
    },
    {
     "name": "stderr",
     "output_type": "stream",
     "text": [
      "[WDM] - ====== WebDriver manager ======\n"
     ]
    },
    {
     "name": "stdout",
     "output_type": "stream",
     "text": [
      "2022-09-27 04:55:17,013 INFO ====== WebDriver manager ======\n"
     ]
    },
    {
     "name": "stderr",
     "output_type": "stream",
     "text": [
      "[WDM] - Current google-chrome version is 105.0.5195\n"
     ]
    },
    {
     "name": "stdout",
     "output_type": "stream",
     "text": [
      "2022-09-27 04:55:17,056 INFO Current google-chrome version is 105.0.5195\n"
     ]
    },
    {
     "name": "stderr",
     "output_type": "stream",
     "text": [
      "[WDM] - Get LATEST chromedriver version for 105.0.5195 google-chrome\n"
     ]
    },
    {
     "name": "stdout",
     "output_type": "stream",
     "text": [
      "2022-09-27 04:55:17,058 INFO Get LATEST chromedriver version for 105.0.5195 google-chrome\n"
     ]
    },
    {
     "name": "stderr",
     "output_type": "stream",
     "text": [
      "[WDM] - Driver [/Users/percyd/.wdm/drivers/chromedriver/mac64/105.0.5195.52/chromedriver] found in cache\n"
     ]
    },
    {
     "name": "stdout",
     "output_type": "stream",
     "text": [
      "2022-09-27 04:55:17,105 INFO Driver [/Users/percyd/.wdm/drivers/chromedriver/mac64/105.0.5195.52/chromedriver] found in cache\n",
      "Message: element not interactable\n",
      "  (Session info: chrome=105.0.5195.125)\n",
      "Stacktrace:\n",
      "0   chromedriver                        0x00000001052ff788 chromedriver + 4515720\n",
      "1   chromedriver                        0x00000001052839d3 chromedriver + 4008403\n",
      "2   chromedriver                        0x0000000104f15feb chromedriver + 413675\n",
      "3   chromedriver                        0x0000000104f4ea1e chromedriver + 645662\n",
      "4   chromedriver                        0x0000000104f42861 chromedriver + 596065\n",
      "5   chromedriver                        0x0000000104f6a7d2 chromedriver + 759762\n",
      "6   chromedriver                        0x0000000104f42075 chromedriver + 594037\n",
      "7   chromedriver                        0x0000000104f6a92e chromedriver + 760110\n",
      "8   chromedriver                        0x0000000104f7dbd9 chromedriver + 838617\n",
      "9   chromedriver                        0x0000000104f6a603 chromedriver + 759299\n",
      "10  chromedriver                        0x0000000104f40990 chromedriver + 588176\n",
      "11  chromedriver                        0x0000000104f41a75 chromedriver + 592501\n",
      "12  chromedriver                        0x00000001052cf6cd chromedriver + 4318925\n",
      "13  chromedriver                        0x00000001052d3f35 chromedriver + 4337461\n",
      "14  chromedriver                        0x00000001052db1ff chromedriver + 4366847\n",
      "15  chromedriver                        0x00000001052d4c5a chromedriver + 4340826\n",
      "16  chromedriver                        0x00000001052aac2c chromedriver + 4168748\n",
      "17  chromedriver                        0x00000001052f14f8 chromedriver + 4457720\n",
      "18  chromedriver                        0x00000001052f1693 chromedriver + 4458131\n",
      "19  chromedriver                        0x0000000105306a3e chromedriver + 4545086\n",
      "20  libsystem_pthread.dylib             0x00007ff80c43d4e1 _pthread_start + 125\n",
      "21  libsystem_pthread.dylib             0x00007ff80c438f6b thread_start + 15\n",
      "\n",
      "\n"
     ]
    },
    {
     "name": "stderr",
     "output_type": "stream",
     "text": [
      "[WDM] - ====== WebDriver manager ======\n"
     ]
    },
    {
     "name": "stdout",
     "output_type": "stream",
     "text": [
      "2022-09-27 04:57:06,749 INFO ====== WebDriver manager ======\n"
     ]
    },
    {
     "name": "stderr",
     "output_type": "stream",
     "text": [
      "[WDM] - Current google-chrome version is 105.0.5195\n"
     ]
    },
    {
     "name": "stdout",
     "output_type": "stream",
     "text": [
      "2022-09-27 04:57:06,798 INFO Current google-chrome version is 105.0.5195\n"
     ]
    },
    {
     "name": "stderr",
     "output_type": "stream",
     "text": [
      "[WDM] - Get LATEST chromedriver version for 105.0.5195 google-chrome\n"
     ]
    },
    {
     "name": "stdout",
     "output_type": "stream",
     "text": [
      "2022-09-27 04:57:06,800 INFO Get LATEST chromedriver version for 105.0.5195 google-chrome\n"
     ]
    },
    {
     "name": "stderr",
     "output_type": "stream",
     "text": [
      "[WDM] - Driver [/Users/percyd/.wdm/drivers/chromedriver/mac64/105.0.5195.52/chromedriver] found in cache\n"
     ]
    },
    {
     "name": "stdout",
     "output_type": "stream",
     "text": [
      "2022-09-27 04:57:06,849 INFO Driver [/Users/percyd/.wdm/drivers/chromedriver/mac64/105.0.5195.52/chromedriver] found in cache\n",
      "Message: element not interactable\n",
      "  (Session info: chrome=105.0.5195.125)\n",
      "Stacktrace:\n",
      "0   chromedriver                        0x00000001049a3788 chromedriver + 4515720\n",
      "1   chromedriver                        0x00000001049279d3 chromedriver + 4008403\n",
      "2   chromedriver                        0x00000001045b9feb chromedriver + 413675\n",
      "3   chromedriver                        0x00000001045f2a1e chromedriver + 645662\n",
      "4   chromedriver                        0x00000001045e6861 chromedriver + 596065\n",
      "5   chromedriver                        0x000000010460e7d2 chromedriver + 759762\n",
      "6   chromedriver                        0x00000001045e6075 chromedriver + 594037\n",
      "7   chromedriver                        0x000000010460e92e chromedriver + 760110\n",
      "8   chromedriver                        0x0000000104621bd9 chromedriver + 838617\n",
      "9   chromedriver                        0x000000010460e603 chromedriver + 759299\n",
      "10  chromedriver                        0x00000001045e4990 chromedriver + 588176\n",
      "11  chromedriver                        0x00000001045e5a75 chromedriver + 592501\n",
      "12  chromedriver                        0x00000001049736cd chromedriver + 4318925\n",
      "13  chromedriver                        0x0000000104977f35 chromedriver + 4337461\n",
      "14  chromedriver                        0x000000010497f1ff chromedriver + 4366847\n",
      "15  chromedriver                        0x0000000104978c5a chromedriver + 4340826\n",
      "16  chromedriver                        0x000000010494ec2c chromedriver + 4168748\n",
      "17  chromedriver                        0x00000001049954f8 chromedriver + 4457720\n",
      "18  chromedriver                        0x0000000104995693 chromedriver + 4458131\n",
      "19  chromedriver                        0x00000001049aaa3e chromedriver + 4545086\n",
      "20  libsystem_pthread.dylib             0x00007ff80c43d4e1 _pthread_start + 125\n",
      "21  libsystem_pthread.dylib             0x00007ff80c438f6b thread_start + 15\n",
      "\n",
      "\n"
     ]
    },
    {
     "name": "stderr",
     "output_type": "stream",
     "text": [
      "[WDM] - ====== WebDriver manager ======\n"
     ]
    },
    {
     "name": "stdout",
     "output_type": "stream",
     "text": [
      "2022-09-27 05:00:53,277 INFO ====== WebDriver manager ======\n"
     ]
    },
    {
     "name": "stderr",
     "output_type": "stream",
     "text": [
      "[WDM] - Current google-chrome version is 105.0.5195\n"
     ]
    },
    {
     "name": "stdout",
     "output_type": "stream",
     "text": [
      "2022-09-27 05:00:53,329 INFO Current google-chrome version is 105.0.5195\n"
     ]
    },
    {
     "name": "stderr",
     "output_type": "stream",
     "text": [
      "[WDM] - Get LATEST chromedriver version for 105.0.5195 google-chrome\n"
     ]
    },
    {
     "name": "stdout",
     "output_type": "stream",
     "text": [
      "2022-09-27 05:00:53,330 INFO Get LATEST chromedriver version for 105.0.5195 google-chrome\n"
     ]
    },
    {
     "name": "stderr",
     "output_type": "stream",
     "text": [
      "[WDM] - Driver [/Users/percyd/.wdm/drivers/chromedriver/mac64/105.0.5195.52/chromedriver] found in cache\n"
     ]
    },
    {
     "name": "stdout",
     "output_type": "stream",
     "text": [
      "2022-09-27 05:00:53,388 INFO Driver [/Users/percyd/.wdm/drivers/chromedriver/mac64/105.0.5195.52/chromedriver] found in cache\n",
      "Message: element not interactable\n",
      "  (Session info: chrome=105.0.5195.125)\n",
      "Stacktrace:\n",
      "0   chromedriver                        0x0000000105103788 chromedriver + 4515720\n",
      "1   chromedriver                        0x00000001050879d3 chromedriver + 4008403\n",
      "2   chromedriver                        0x0000000104d19feb chromedriver + 413675\n",
      "3   chromedriver                        0x0000000104d52a1e chromedriver + 645662\n",
      "4   chromedriver                        0x0000000104d46861 chromedriver + 596065\n",
      "5   chromedriver                        0x0000000104d6e7d2 chromedriver + 759762\n",
      "6   chromedriver                        0x0000000104d46075 chromedriver + 594037\n",
      "7   chromedriver                        0x0000000104d6e92e chromedriver + 760110\n",
      "8   chromedriver                        0x0000000104d81bd9 chromedriver + 838617\n",
      "9   chromedriver                        0x0000000104d6e603 chromedriver + 759299\n",
      "10  chromedriver                        0x0000000104d44990 chromedriver + 588176\n",
      "11  chromedriver                        0x0000000104d45a75 chromedriver + 592501\n",
      "12  chromedriver                        0x00000001050d36cd chromedriver + 4318925\n",
      "13  chromedriver                        0x00000001050d7f35 chromedriver + 4337461\n",
      "14  chromedriver                        0x00000001050df1ff chromedriver + 4366847\n",
      "15  chromedriver                        0x00000001050d8c5a chromedriver + 4340826\n",
      "16  chromedriver                        0x00000001050aec2c chromedriver + 4168748\n",
      "17  chromedriver                        0x00000001050f54f8 chromedriver + 4457720\n",
      "18  chromedriver                        0x00000001050f5693 chromedriver + 4458131\n",
      "19  chromedriver                        0x000000010510aa3e chromedriver + 4545086\n",
      "20  libsystem_pthread.dylib             0x00007ff80c43d4e1 _pthread_start + 125\n",
      "21  libsystem_pthread.dylib             0x00007ff80c438f6b thread_start + 15\n",
      "\n",
      "\n"
     ]
    },
    {
     "name": "stderr",
     "output_type": "stream",
     "text": [
      "[WDM] - ====== WebDriver manager ======\n"
     ]
    },
    {
     "name": "stdout",
     "output_type": "stream",
     "text": [
      "2022-09-27 05:06:58,533 INFO ====== WebDriver manager ======\n"
     ]
    },
    {
     "name": "stderr",
     "output_type": "stream",
     "text": [
      "[WDM] - Current google-chrome version is 105.0.5195\n"
     ]
    },
    {
     "name": "stdout",
     "output_type": "stream",
     "text": [
      "2022-09-27 05:06:58,576 INFO Current google-chrome version is 105.0.5195\n"
     ]
    },
    {
     "name": "stderr",
     "output_type": "stream",
     "text": [
      "[WDM] - Get LATEST chromedriver version for 105.0.5195 google-chrome\n"
     ]
    },
    {
     "name": "stdout",
     "output_type": "stream",
     "text": [
      "2022-09-27 05:06:58,578 INFO Get LATEST chromedriver version for 105.0.5195 google-chrome\n"
     ]
    },
    {
     "name": "stderr",
     "output_type": "stream",
     "text": [
      "[WDM] - Driver [/Users/percyd/.wdm/drivers/chromedriver/mac64/105.0.5195.52/chromedriver] found in cache\n"
     ]
    },
    {
     "name": "stdout",
     "output_type": "stream",
     "text": [
      "2022-09-27 05:06:58,653 INFO Driver [/Users/percyd/.wdm/drivers/chromedriver/mac64/105.0.5195.52/chromedriver] found in cache\n",
      "Message: element not interactable\n",
      "  (Session info: chrome=105.0.5195.125)\n",
      "Stacktrace:\n",
      "0   chromedriver                        0x000000010269e788 chromedriver + 4515720\n",
      "1   chromedriver                        0x00000001026229d3 chromedriver + 4008403\n",
      "2   chromedriver                        0x00000001022b4feb chromedriver + 413675\n",
      "3   chromedriver                        0x00000001022eda1e chromedriver + 645662\n",
      "4   chromedriver                        0x00000001022e1861 chromedriver + 596065\n",
      "5   chromedriver                        0x00000001023097d2 chromedriver + 759762\n",
      "6   chromedriver                        0x00000001022e1075 chromedriver + 594037\n",
      "7   chromedriver                        0x000000010230992e chromedriver + 760110\n",
      "8   chromedriver                        0x000000010231cbd9 chromedriver + 838617\n",
      "9   chromedriver                        0x0000000102309603 chromedriver + 759299\n",
      "10  chromedriver                        0x00000001022df990 chromedriver + 588176\n",
      "11  chromedriver                        0x00000001022e0a75 chromedriver + 592501\n",
      "12  chromedriver                        0x000000010266e6cd chromedriver + 4318925\n",
      "13  chromedriver                        0x0000000102672f35 chromedriver + 4337461\n",
      "14  chromedriver                        0x000000010267a1ff chromedriver + 4366847\n",
      "15  chromedriver                        0x0000000102673c5a chromedriver + 4340826\n",
      "16  chromedriver                        0x0000000102649c2c chromedriver + 4168748\n",
      "17  chromedriver                        0x00000001026904f8 chromedriver + 4457720\n",
      "18  chromedriver                        0x0000000102690693 chromedriver + 4458131\n",
      "19  chromedriver                        0x00000001026a5a3e chromedriver + 4545086\n",
      "20  libsystem_pthread.dylib             0x00007ff80c43d4e1 _pthread_start + 125\n",
      "21  libsystem_pthread.dylib             0x00007ff80c438f6b thread_start + 15\n",
      "\n"
     ]
    }
   ],
   "source": [
    "data1 = pd.read_csv('./df1.csv', parse_dates=['FRI_RELEASE_DAYBO', 'TUE_V_RELEASE'])\n",
    "df1, exception1 = handle_data('./data1.html', data1, hdr)"
   ]
  },
  {
   "cell_type": "code",
   "execution_count": 14,
   "id": "16cbe17e-e267-41b2-8ae5-bcdbf4240ec2",
   "metadata": {},
   "outputs": [
    {
     "name": "stdout",
     "output_type": "stream",
     "text": [
      "\n"
     ]
    },
    {
     "name": "stderr",
     "output_type": "stream",
     "text": [
      "[WDM] - ====== WebDriver manager ======\n"
     ]
    },
    {
     "name": "stdout",
     "output_type": "stream",
     "text": [
      "2022-09-27 05:08:34,448 INFO ====== WebDriver manager ======\n"
     ]
    },
    {
     "name": "stderr",
     "output_type": "stream",
     "text": [
      "[WDM] - Current google-chrome version is 105.0.5195\n"
     ]
    },
    {
     "name": "stdout",
     "output_type": "stream",
     "text": [
      "2022-09-27 05:08:34,492 INFO Current google-chrome version is 105.0.5195\n"
     ]
    },
    {
     "name": "stderr",
     "output_type": "stream",
     "text": [
      "[WDM] - Get LATEST chromedriver version for 105.0.5195 google-chrome\n"
     ]
    },
    {
     "name": "stdout",
     "output_type": "stream",
     "text": [
      "2022-09-27 05:08:34,493 INFO Get LATEST chromedriver version for 105.0.5195 google-chrome\n"
     ]
    },
    {
     "name": "stderr",
     "output_type": "stream",
     "text": [
      "[WDM] - Driver [/Users/percyd/.wdm/drivers/chromedriver/mac64/105.0.5195.52/chromedriver] found in cache\n"
     ]
    },
    {
     "name": "stdout",
     "output_type": "stream",
     "text": [
      "2022-09-27 05:08:34,539 INFO Driver [/Users/percyd/.wdm/drivers/chromedriver/mac64/105.0.5195.52/chromedriver] found in cache\n"
     ]
    },
    {
     "name": "stderr",
     "output_type": "stream",
     "text": [
      "/var/folders/tl/jg9ncc9x4vnfwb17tjw2ms480000gn/T/ipykernel_47546/4198984808.py:2: DeprecationWarning: executable_path has been deprecated, please pass in a Service object\n",
      "  driver = webdriver.Chrome(ChromeDriverManager().install())\n"
     ]
    },
    {
     "name": "stdout",
     "output_type": "stream",
     "text": [
      "Message: element not interactable\n",
      "  (Session info: chrome=105.0.5195.125)\n",
      "Stacktrace:\n",
      "0   chromedriver                        0x00000001053d7788 chromedriver + 4515720\n",
      "1   chromedriver                        0x000000010535b9d3 chromedriver + 4008403\n",
      "2   chromedriver                        0x0000000104fedfeb chromedriver + 413675\n",
      "3   chromedriver                        0x0000000105026a1e chromedriver + 645662\n",
      "4   chromedriver                        0x000000010501a861 chromedriver + 596065\n",
      "5   chromedriver                        0x00000001050427d2 chromedriver + 759762\n",
      "6   chromedriver                        0x000000010501a075 chromedriver + 594037\n",
      "7   chromedriver                        0x000000010504292e chromedriver + 760110\n",
      "8   chromedriver                        0x0000000105055bd9 chromedriver + 838617\n",
      "9   chromedriver                        0x0000000105042603 chromedriver + 759299\n",
      "10  chromedriver                        0x0000000105018990 chromedriver + 588176\n",
      "11  chromedriver                        0x0000000105019a75 chromedriver + 592501\n",
      "12  chromedriver                        0x00000001053a76cd chromedriver + 4318925\n",
      "13  chromedriver                        0x00000001053abf35 chromedriver + 4337461\n",
      "14  chromedriver                        0x00000001053b31ff chromedriver + 4366847\n",
      "15  chromedriver                        0x00000001053acc5a chromedriver + 4340826\n",
      "16  chromedriver                        0x0000000105382c2c chromedriver + 4168748\n",
      "17  chromedriver                        0x00000001053c94f8 chromedriver + 4457720\n",
      "18  chromedriver                        0x00000001053c9693 chromedriver + 4458131\n",
      "19  chromedriver                        0x00000001053dea3e chromedriver + 4545086\n",
      "20  libsystem_pthread.dylib             0x00007ff80c43d4e1 _pthread_start + 125\n",
      "21  libsystem_pthread.dylib             0x00007ff80c438f6b thread_start + 15\n",
      "\n",
      "\n"
     ]
    },
    {
     "name": "stderr",
     "output_type": "stream",
     "text": [
      "[WDM] - ====== WebDriver manager ======\n"
     ]
    },
    {
     "name": "stdout",
     "output_type": "stream",
     "text": [
      "2022-09-27 05:11:02,322 INFO ====== WebDriver manager ======\n"
     ]
    },
    {
     "name": "stderr",
     "output_type": "stream",
     "text": [
      "[WDM] - Current google-chrome version is 105.0.5195\n"
     ]
    },
    {
     "name": "stdout",
     "output_type": "stream",
     "text": [
      "2022-09-27 05:11:02,365 INFO Current google-chrome version is 105.0.5195\n"
     ]
    },
    {
     "name": "stderr",
     "output_type": "stream",
     "text": [
      "[WDM] - Get LATEST chromedriver version for 105.0.5195 google-chrome\n"
     ]
    },
    {
     "name": "stdout",
     "output_type": "stream",
     "text": [
      "2022-09-27 05:11:02,366 INFO Get LATEST chromedriver version for 105.0.5195 google-chrome\n"
     ]
    },
    {
     "name": "stderr",
     "output_type": "stream",
     "text": [
      "[WDM] - Driver [/Users/percyd/.wdm/drivers/chromedriver/mac64/105.0.5195.52/chromedriver] found in cache\n"
     ]
    },
    {
     "name": "stdout",
     "output_type": "stream",
     "text": [
      "2022-09-27 05:11:02,416 INFO Driver [/Users/percyd/.wdm/drivers/chromedriver/mac64/105.0.5195.52/chromedriver] found in cache\n",
      "Message: element not interactable\n",
      "  (Session info: chrome=105.0.5195.125)\n",
      "Stacktrace:\n",
      "0   chromedriver                        0x0000000102a4e788 chromedriver + 4515720\n",
      "1   chromedriver                        0x00000001029d29d3 chromedriver + 4008403\n",
      "2   chromedriver                        0x0000000102664feb chromedriver + 413675\n",
      "3   chromedriver                        0x000000010269da1e chromedriver + 645662\n",
      "4   chromedriver                        0x0000000102691861 chromedriver + 596065\n",
      "5   chromedriver                        0x00000001026b97d2 chromedriver + 759762\n",
      "6   chromedriver                        0x0000000102691075 chromedriver + 594037\n",
      "7   chromedriver                        0x00000001026b992e chromedriver + 760110\n",
      "8   chromedriver                        0x00000001026ccbd9 chromedriver + 838617\n",
      "9   chromedriver                        0x00000001026b9603 chromedriver + 759299\n",
      "10  chromedriver                        0x000000010268f990 chromedriver + 588176\n",
      "11  chromedriver                        0x0000000102690a75 chromedriver + 592501\n",
      "12  chromedriver                        0x0000000102a1e6cd chromedriver + 4318925\n",
      "13  chromedriver                        0x0000000102a22f35 chromedriver + 4337461\n",
      "14  chromedriver                        0x0000000102a2a1ff chromedriver + 4366847\n",
      "15  chromedriver                        0x0000000102a23c5a chromedriver + 4340826\n",
      "16  chromedriver                        0x00000001029f9c2c chromedriver + 4168748\n",
      "17  chromedriver                        0x0000000102a404f8 chromedriver + 4457720\n",
      "18  chromedriver                        0x0000000102a40693 chromedriver + 4458131\n",
      "19  chromedriver                        0x0000000102a55a3e chromedriver + 4545086\n",
      "20  libsystem_pthread.dylib             0x00007ff80c43d4e1 _pthread_start + 125\n",
      "21  libsystem_pthread.dylib             0x00007ff80c438f6b thread_start + 15\n",
      "\n",
      "\n"
     ]
    },
    {
     "name": "stderr",
     "output_type": "stream",
     "text": [
      "[WDM] - ====== WebDriver manager ======\n"
     ]
    },
    {
     "name": "stdout",
     "output_type": "stream",
     "text": [
      "2022-09-27 05:25:40,698 INFO ====== WebDriver manager ======\n"
     ]
    },
    {
     "name": "stderr",
     "output_type": "stream",
     "text": [
      "[WDM] - Current google-chrome version is 105.0.5195\n"
     ]
    },
    {
     "name": "stdout",
     "output_type": "stream",
     "text": [
      "2022-09-27 05:25:40,751 INFO Current google-chrome version is 105.0.5195\n"
     ]
    },
    {
     "name": "stderr",
     "output_type": "stream",
     "text": [
      "[WDM] - Get LATEST chromedriver version for 105.0.5195 google-chrome\n"
     ]
    },
    {
     "name": "stdout",
     "output_type": "stream",
     "text": [
      "2022-09-27 05:25:40,752 INFO Get LATEST chromedriver version for 105.0.5195 google-chrome\n"
     ]
    },
    {
     "name": "stderr",
     "output_type": "stream",
     "text": [
      "[WDM] - Driver [/Users/percyd/.wdm/drivers/chromedriver/mac64/105.0.5195.52/chromedriver] found in cache\n"
     ]
    },
    {
     "name": "stdout",
     "output_type": "stream",
     "text": [
      "2022-09-27 05:25:40,829 INFO Driver [/Users/percyd/.wdm/drivers/chromedriver/mac64/105.0.5195.52/chromedriver] found in cache\n",
      "Message: element not interactable\n",
      "  (Session info: chrome=105.0.5195.125)\n",
      "Stacktrace:\n",
      "0   chromedriver                        0x00000001029e0788 chromedriver + 4515720\n",
      "1   chromedriver                        0x00000001029649d3 chromedriver + 4008403\n",
      "2   chromedriver                        0x00000001025f6feb chromedriver + 413675\n",
      "3   chromedriver                        0x000000010262fa1e chromedriver + 645662\n",
      "4   chromedriver                        0x0000000102623861 chromedriver + 596065\n",
      "5   chromedriver                        0x000000010264b7d2 chromedriver + 759762\n",
      "6   chromedriver                        0x0000000102623075 chromedriver + 594037\n",
      "7   chromedriver                        0x000000010264b92e chromedriver + 760110\n",
      "8   chromedriver                        0x000000010265ebd9 chromedriver + 838617\n",
      "9   chromedriver                        0x000000010264b603 chromedriver + 759299\n",
      "10  chromedriver                        0x0000000102621990 chromedriver + 588176\n",
      "11  chromedriver                        0x0000000102622a75 chromedriver + 592501\n",
      "12  chromedriver                        0x00000001029b06cd chromedriver + 4318925\n",
      "13  chromedriver                        0x00000001029b4f35 chromedriver + 4337461\n",
      "14  chromedriver                        0x00000001029bc1ff chromedriver + 4366847\n",
      "15  chromedriver                        0x00000001029b5c5a chromedriver + 4340826\n",
      "16  chromedriver                        0x000000010298bc2c chromedriver + 4168748\n",
      "17  chromedriver                        0x00000001029d24f8 chromedriver + 4457720\n",
      "18  chromedriver                        0x00000001029d2693 chromedriver + 4458131\n",
      "19  chromedriver                        0x00000001029e7a3e chromedriver + 4545086\n",
      "20  libsystem_pthread.dylib             0x00007ff80c43d4e1 _pthread_start + 125\n",
      "21  libsystem_pthread.dylib             0x00007ff80c438f6b thread_start + 15\n",
      "\n",
      "\n"
     ]
    },
    {
     "name": "stderr",
     "output_type": "stream",
     "text": [
      "[WDM] - ====== WebDriver manager ======\n"
     ]
    },
    {
     "name": "stdout",
     "output_type": "stream",
     "text": [
      "2022-09-27 05:36:37,087 INFO ====== WebDriver manager ======\n"
     ]
    },
    {
     "name": "stderr",
     "output_type": "stream",
     "text": [
      "[WDM] - Current google-chrome version is 105.0.5195\n"
     ]
    },
    {
     "name": "stdout",
     "output_type": "stream",
     "text": [
      "2022-09-27 05:36:37,135 INFO Current google-chrome version is 105.0.5195\n"
     ]
    },
    {
     "name": "stderr",
     "output_type": "stream",
     "text": [
      "[WDM] - Get LATEST chromedriver version for 105.0.5195 google-chrome\n"
     ]
    },
    {
     "name": "stdout",
     "output_type": "stream",
     "text": [
      "2022-09-27 05:36:37,137 INFO Get LATEST chromedriver version for 105.0.5195 google-chrome\n"
     ]
    },
    {
     "name": "stderr",
     "output_type": "stream",
     "text": [
      "[WDM] - Driver [/Users/percyd/.wdm/drivers/chromedriver/mac64/105.0.5195.52/chromedriver] found in cache\n"
     ]
    },
    {
     "name": "stdout",
     "output_type": "stream",
     "text": [
      "2022-09-27 05:36:37,204 INFO Driver [/Users/percyd/.wdm/drivers/chromedriver/mac64/105.0.5195.52/chromedriver] found in cache\n",
      "Message: element not interactable\n",
      "  (Session info: chrome=105.0.5195.125)\n",
      "Stacktrace:\n",
      "0   chromedriver                        0x0000000100b84788 chromedriver + 4515720\n",
      "1   chromedriver                        0x0000000100b089d3 chromedriver + 4008403\n",
      "2   chromedriver                        0x000000010079afeb chromedriver + 413675\n",
      "3   chromedriver                        0x00000001007d3a1e chromedriver + 645662\n",
      "4   chromedriver                        0x00000001007c7861 chromedriver + 596065\n",
      "5   chromedriver                        0x00000001007ef7d2 chromedriver + 759762\n",
      "6   chromedriver                        0x00000001007c7075 chromedriver + 594037\n",
      "7   chromedriver                        0x00000001007ef92e chromedriver + 760110\n",
      "8   chromedriver                        0x0000000100802bd9 chromedriver + 838617\n",
      "9   chromedriver                        0x00000001007ef603 chromedriver + 759299\n",
      "10  chromedriver                        0x00000001007c5990 chromedriver + 588176\n",
      "11  chromedriver                        0x00000001007c6a75 chromedriver + 592501\n",
      "12  chromedriver                        0x0000000100b546cd chromedriver + 4318925\n",
      "13  chromedriver                        0x0000000100b58f35 chromedriver + 4337461\n",
      "14  chromedriver                        0x0000000100b601ff chromedriver + 4366847\n",
      "15  chromedriver                        0x0000000100b59c5a chromedriver + 4340826\n",
      "16  chromedriver                        0x0000000100b2fc2c chromedriver + 4168748\n",
      "17  chromedriver                        0x0000000100b764f8 chromedriver + 4457720\n",
      "18  chromedriver                        0x0000000100b76693 chromedriver + 4458131\n",
      "19  chromedriver                        0x0000000100b8ba3e chromedriver + 4545086\n",
      "20  libsystem_pthread.dylib             0x00007ff80c43d4e1 _pthread_start + 125\n",
      "21  libsystem_pthread.dylib             0x00007ff80c438f6b thread_start + 15\n",
      "\n",
      "\n"
     ]
    },
    {
     "name": "stderr",
     "output_type": "stream",
     "text": [
      "[WDM] - ====== WebDriver manager ======\n"
     ]
    },
    {
     "name": "stdout",
     "output_type": "stream",
     "text": [
      "2022-09-27 05:38:27,982 INFO ====== WebDriver manager ======\n"
     ]
    },
    {
     "name": "stderr",
     "output_type": "stream",
     "text": [
      "[WDM] - Current google-chrome version is 105.0.5195\n"
     ]
    },
    {
     "name": "stdout",
     "output_type": "stream",
     "text": [
      "2022-09-27 05:38:28,023 INFO Current google-chrome version is 105.0.5195\n"
     ]
    },
    {
     "name": "stderr",
     "output_type": "stream",
     "text": [
      "[WDM] - Get LATEST chromedriver version for 105.0.5195 google-chrome\n"
     ]
    },
    {
     "name": "stdout",
     "output_type": "stream",
     "text": [
      "2022-09-27 05:38:28,024 INFO Get LATEST chromedriver version for 105.0.5195 google-chrome\n"
     ]
    },
    {
     "name": "stderr",
     "output_type": "stream",
     "text": [
      "[WDM] - Driver [/Users/percyd/.wdm/drivers/chromedriver/mac64/105.0.5195.52/chromedriver] found in cache\n"
     ]
    },
    {
     "name": "stdout",
     "output_type": "stream",
     "text": [
      "2022-09-27 05:38:28,724 INFO Driver [/Users/percyd/.wdm/drivers/chromedriver/mac64/105.0.5195.52/chromedriver] found in cache\n",
      "Message: element not interactable\n",
      "  (Session info: chrome=105.0.5195.125)\n",
      "Stacktrace:\n",
      "0   chromedriver                        0x00000001007dc788 chromedriver + 4515720\n",
      "1   chromedriver                        0x00000001007609d3 chromedriver + 4008403\n",
      "2   chromedriver                        0x00000001003f2feb chromedriver + 413675\n",
      "3   chromedriver                        0x000000010042ba1e chromedriver + 645662\n",
      "4   chromedriver                        0x000000010041f861 chromedriver + 596065\n",
      "5   chromedriver                        0x00000001004477d2 chromedriver + 759762\n",
      "6   chromedriver                        0x000000010041f075 chromedriver + 594037\n",
      "7   chromedriver                        0x000000010044792e chromedriver + 760110\n",
      "8   chromedriver                        0x000000010045abd9 chromedriver + 838617\n",
      "9   chromedriver                        0x0000000100447603 chromedriver + 759299\n",
      "10  chromedriver                        0x000000010041d990 chromedriver + 588176\n",
      "11  chromedriver                        0x000000010041ea75 chromedriver + 592501\n",
      "12  chromedriver                        0x00000001007ac6cd chromedriver + 4318925\n",
      "13  chromedriver                        0x00000001007b0f35 chromedriver + 4337461\n",
      "14  chromedriver                        0x00000001007b81ff chromedriver + 4366847\n",
      "15  chromedriver                        0x00000001007b1c5a chromedriver + 4340826\n",
      "16  chromedriver                        0x0000000100787c2c chromedriver + 4168748\n",
      "17  chromedriver                        0x00000001007ce4f8 chromedriver + 4457720\n",
      "18  chromedriver                        0x00000001007ce693 chromedriver + 4458131\n",
      "19  chromedriver                        0x00000001007e3a3e chromedriver + 4545086\n",
      "20  libsystem_pthread.dylib             0x00007ff80c43d4e1 _pthread_start + 125\n",
      "21  libsystem_pthread.dylib             0x00007ff80c438f6b thread_start + 15\n",
      "\n",
      "\n"
     ]
    },
    {
     "name": "stderr",
     "output_type": "stream",
     "text": [
      "[WDM] - ====== WebDriver manager ======\n"
     ]
    },
    {
     "name": "stdout",
     "output_type": "stream",
     "text": [
      "2022-09-27 05:45:02,385 INFO ====== WebDriver manager ======\n"
     ]
    },
    {
     "name": "stderr",
     "output_type": "stream",
     "text": [
      "[WDM] - Current google-chrome version is 105.0.5195\n"
     ]
    },
    {
     "name": "stdout",
     "output_type": "stream",
     "text": [
      "2022-09-27 05:45:02,429 INFO Current google-chrome version is 105.0.5195\n"
     ]
    },
    {
     "name": "stderr",
     "output_type": "stream",
     "text": [
      "[WDM] - Get LATEST chromedriver version for 105.0.5195 google-chrome\n"
     ]
    },
    {
     "name": "stdout",
     "output_type": "stream",
     "text": [
      "2022-09-27 05:45:02,431 INFO Get LATEST chromedriver version for 105.0.5195 google-chrome\n"
     ]
    },
    {
     "name": "stderr",
     "output_type": "stream",
     "text": [
      "[WDM] - Driver [/Users/percyd/.wdm/drivers/chromedriver/mac64/105.0.5195.52/chromedriver] found in cache\n"
     ]
    },
    {
     "name": "stdout",
     "output_type": "stream",
     "text": [
      "2022-09-27 05:45:02,510 INFO Driver [/Users/percyd/.wdm/drivers/chromedriver/mac64/105.0.5195.52/chromedriver] found in cache\n",
      "Message: element not interactable\n",
      "  (Session info: chrome=105.0.5195.125)\n",
      "Stacktrace:\n",
      "0   chromedriver                        0x0000000101088788 chromedriver + 4515720\n",
      "1   chromedriver                        0x000000010100c9d3 chromedriver + 4008403\n",
      "2   chromedriver                        0x0000000100c9efeb chromedriver + 413675\n",
      "3   chromedriver                        0x0000000100cd7a1e chromedriver + 645662\n",
      "4   chromedriver                        0x0000000100ccb861 chromedriver + 596065\n",
      "5   chromedriver                        0x0000000100cf37d2 chromedriver + 759762\n",
      "6   chromedriver                        0x0000000100ccb075 chromedriver + 594037\n",
      "7   chromedriver                        0x0000000100cf392e chromedriver + 760110\n",
      "8   chromedriver                        0x0000000100d06bd9 chromedriver + 838617\n",
      "9   chromedriver                        0x0000000100cf3603 chromedriver + 759299\n",
      "10  chromedriver                        0x0000000100cc9990 chromedriver + 588176\n",
      "11  chromedriver                        0x0000000100ccaa75 chromedriver + 592501\n",
      "12  chromedriver                        0x00000001010586cd chromedriver + 4318925\n",
      "13  chromedriver                        0x000000010105cf35 chromedriver + 4337461\n",
      "14  chromedriver                        0x00000001010641ff chromedriver + 4366847\n",
      "15  chromedriver                        0x000000010105dc5a chromedriver + 4340826\n",
      "16  chromedriver                        0x0000000101033c2c chromedriver + 4168748\n",
      "17  chromedriver                        0x000000010107a4f8 chromedriver + 4457720\n",
      "18  chromedriver                        0x000000010107a693 chromedriver + 4458131\n",
      "19  chromedriver                        0x000000010108fa3e chromedriver + 4545086\n",
      "20  libsystem_pthread.dylib             0x00007ff80c43d4e1 _pthread_start + 125\n",
      "21  libsystem_pthread.dylib             0x00007ff80c438f6b thread_start + 15\n",
      "\n",
      "\n"
     ]
    },
    {
     "name": "stderr",
     "output_type": "stream",
     "text": [
      "[WDM] - ====== WebDriver manager ======\n"
     ]
    },
    {
     "name": "stdout",
     "output_type": "stream",
     "text": [
      "2022-09-27 05:46:26,121 INFO ====== WebDriver manager ======\n"
     ]
    },
    {
     "name": "stderr",
     "output_type": "stream",
     "text": [
      "[WDM] - Current google-chrome version is 105.0.5195\n"
     ]
    },
    {
     "name": "stdout",
     "output_type": "stream",
     "text": [
      "2022-09-27 05:46:26,165 INFO Current google-chrome version is 105.0.5195\n"
     ]
    },
    {
     "name": "stderr",
     "output_type": "stream",
     "text": [
      "[WDM] - Get LATEST chromedriver version for 105.0.5195 google-chrome\n"
     ]
    },
    {
     "name": "stdout",
     "output_type": "stream",
     "text": [
      "2022-09-27 05:46:26,166 INFO Get LATEST chromedriver version for 105.0.5195 google-chrome\n"
     ]
    },
    {
     "name": "stderr",
     "output_type": "stream",
     "text": [
      "[WDM] - Driver [/Users/percyd/.wdm/drivers/chromedriver/mac64/105.0.5195.52/chromedriver] found in cache\n"
     ]
    },
    {
     "name": "stdout",
     "output_type": "stream",
     "text": [
      "2022-09-27 05:46:26,225 INFO Driver [/Users/percyd/.wdm/drivers/chromedriver/mac64/105.0.5195.52/chromedriver] found in cache\n",
      "Message: element not interactable\n",
      "  (Session info: chrome=105.0.5195.125)\n",
      "Stacktrace:\n",
      "0   chromedriver                        0x000000010061f788 chromedriver + 4515720\n",
      "1   chromedriver                        0x00000001005a39d3 chromedriver + 4008403\n",
      "2   chromedriver                        0x0000000100235feb chromedriver + 413675\n",
      "3   chromedriver                        0x000000010026ea1e chromedriver + 645662\n",
      "4   chromedriver                        0x0000000100262861 chromedriver + 596065\n",
      "5   chromedriver                        0x000000010028a7d2 chromedriver + 759762\n",
      "6   chromedriver                        0x0000000100262075 chromedriver + 594037\n",
      "7   chromedriver                        0x000000010028a92e chromedriver + 760110\n",
      "8   chromedriver                        0x000000010029dbd9 chromedriver + 838617\n",
      "9   chromedriver                        0x000000010028a603 chromedriver + 759299\n",
      "10  chromedriver                        0x0000000100260990 chromedriver + 588176\n",
      "11  chromedriver                        0x0000000100261a75 chromedriver + 592501\n",
      "12  chromedriver                        0x00000001005ef6cd chromedriver + 4318925\n",
      "13  chromedriver                        0x00000001005f3f35 chromedriver + 4337461\n",
      "14  chromedriver                        0x00000001005fb1ff chromedriver + 4366847\n",
      "15  chromedriver                        0x00000001005f4c5a chromedriver + 4340826\n",
      "16  chromedriver                        0x00000001005cac2c chromedriver + 4168748\n",
      "17  chromedriver                        0x00000001006114f8 chromedriver + 4457720\n",
      "18  chromedriver                        0x0000000100611693 chromedriver + 4458131\n",
      "19  chromedriver                        0x0000000100626a3e chromedriver + 4545086\n",
      "20  libsystem_pthread.dylib             0x00007ff80c43d4e1 _pthread_start + 125\n",
      "21  libsystem_pthread.dylib             0x00007ff80c438f6b thread_start + 15\n",
      "\n",
      "\n"
     ]
    },
    {
     "name": "stderr",
     "output_type": "stream",
     "text": [
      "[WDM] - ====== WebDriver manager ======\n"
     ]
    },
    {
     "name": "stdout",
     "output_type": "stream",
     "text": [
      "2022-09-27 05:51:25,578 INFO ====== WebDriver manager ======\n"
     ]
    },
    {
     "name": "stderr",
     "output_type": "stream",
     "text": [
      "[WDM] - Current google-chrome version is 105.0.5195\n"
     ]
    },
    {
     "name": "stdout",
     "output_type": "stream",
     "text": [
      "2022-09-27 05:51:25,624 INFO Current google-chrome version is 105.0.5195\n"
     ]
    },
    {
     "name": "stderr",
     "output_type": "stream",
     "text": [
      "[WDM] - Get LATEST chromedriver version for 105.0.5195 google-chrome\n"
     ]
    },
    {
     "name": "stdout",
     "output_type": "stream",
     "text": [
      "2022-09-27 05:51:25,626 INFO Get LATEST chromedriver version for 105.0.5195 google-chrome\n"
     ]
    },
    {
     "name": "stderr",
     "output_type": "stream",
     "text": [
      "[WDM] - Driver [/Users/percyd/.wdm/drivers/chromedriver/mac64/105.0.5195.52/chromedriver] found in cache\n"
     ]
    },
    {
     "name": "stdout",
     "output_type": "stream",
     "text": [
      "2022-09-27 05:51:25,703 INFO Driver [/Users/percyd/.wdm/drivers/chromedriver/mac64/105.0.5195.52/chromedriver] found in cache\n",
      "Message: element not interactable\n",
      "  (Session info: chrome=105.0.5195.125)\n",
      "Stacktrace:\n",
      "0   chromedriver                        0x00000001053c8788 chromedriver + 4515720\n",
      "1   chromedriver                        0x000000010534c9d3 chromedriver + 4008403\n",
      "2   chromedriver                        0x0000000104fdefeb chromedriver + 413675\n",
      "3   chromedriver                        0x0000000105017a1e chromedriver + 645662\n",
      "4   chromedriver                        0x000000010500b861 chromedriver + 596065\n",
      "5   chromedriver                        0x00000001050337d2 chromedriver + 759762\n",
      "6   chromedriver                        0x000000010500b075 chromedriver + 594037\n",
      "7   chromedriver                        0x000000010503392e chromedriver + 760110\n",
      "8   chromedriver                        0x0000000105046bd9 chromedriver + 838617\n",
      "9   chromedriver                        0x0000000105033603 chromedriver + 759299\n",
      "10  chromedriver                        0x0000000105009990 chromedriver + 588176\n",
      "11  chromedriver                        0x000000010500aa75 chromedriver + 592501\n",
      "12  chromedriver                        0x00000001053986cd chromedriver + 4318925\n",
      "13  chromedriver                        0x000000010539cf35 chromedriver + 4337461\n",
      "14  chromedriver                        0x00000001053a41ff chromedriver + 4366847\n",
      "15  chromedriver                        0x000000010539dc5a chromedriver + 4340826\n",
      "16  chromedriver                        0x0000000105373c2c chromedriver + 4168748\n",
      "17  chromedriver                        0x00000001053ba4f8 chromedriver + 4457720\n",
      "18  chromedriver                        0x00000001053ba693 chromedriver + 4458131\n",
      "19  chromedriver                        0x00000001053cfa3e chromedriver + 4545086\n",
      "20  libsystem_pthread.dylib             0x00007ff80c43d4e1 _pthread_start + 125\n",
      "21  libsystem_pthread.dylib             0x00007ff80c438f6b thread_start + 15\n",
      "\n",
      "\n"
     ]
    },
    {
     "name": "stderr",
     "output_type": "stream",
     "text": [
      "[WDM] - ====== WebDriver manager ======\n"
     ]
    },
    {
     "name": "stdout",
     "output_type": "stream",
     "text": [
      "2022-09-27 05:53:53,926 INFO ====== WebDriver manager ======\n"
     ]
    },
    {
     "name": "stderr",
     "output_type": "stream",
     "text": [
      "[WDM] - Current google-chrome version is 105.0.5195\n"
     ]
    },
    {
     "name": "stdout",
     "output_type": "stream",
     "text": [
      "2022-09-27 05:53:53,969 INFO Current google-chrome version is 105.0.5195\n"
     ]
    },
    {
     "name": "stderr",
     "output_type": "stream",
     "text": [
      "[WDM] - Get LATEST chromedriver version for 105.0.5195 google-chrome\n"
     ]
    },
    {
     "name": "stdout",
     "output_type": "stream",
     "text": [
      "2022-09-27 05:53:53,971 INFO Get LATEST chromedriver version for 105.0.5195 google-chrome\n"
     ]
    },
    {
     "name": "stderr",
     "output_type": "stream",
     "text": [
      "[WDM] - Driver [/Users/percyd/.wdm/drivers/chromedriver/mac64/105.0.5195.52/chromedriver] found in cache\n"
     ]
    },
    {
     "name": "stdout",
     "output_type": "stream",
     "text": [
      "2022-09-27 05:53:54,024 INFO Driver [/Users/percyd/.wdm/drivers/chromedriver/mac64/105.0.5195.52/chromedriver] found in cache\n",
      "Message: element not interactable\n",
      "  (Session info: chrome=105.0.5195.125)\n",
      "Stacktrace:\n",
      "0   chromedriver                        0x00000001050c5788 chromedriver + 4515720\n",
      "1   chromedriver                        0x00000001050499d3 chromedriver + 4008403\n",
      "2   chromedriver                        0x0000000104cdbfeb chromedriver + 413675\n",
      "3   chromedriver                        0x0000000104d14a1e chromedriver + 645662\n",
      "4   chromedriver                        0x0000000104d08861 chromedriver + 596065\n",
      "5   chromedriver                        0x0000000104d307d2 chromedriver + 759762\n",
      "6   chromedriver                        0x0000000104d08075 chromedriver + 594037\n",
      "7   chromedriver                        0x0000000104d3092e chromedriver + 760110\n",
      "8   chromedriver                        0x0000000104d43bd9 chromedriver + 838617\n",
      "9   chromedriver                        0x0000000104d30603 chromedriver + 759299\n",
      "10  chromedriver                        0x0000000104d06990 chromedriver + 588176\n",
      "11  chromedriver                        0x0000000104d07a75 chromedriver + 592501\n",
      "12  chromedriver                        0x00000001050956cd chromedriver + 4318925\n",
      "13  chromedriver                        0x0000000105099f35 chromedriver + 4337461\n",
      "14  chromedriver                        0x00000001050a11ff chromedriver + 4366847\n",
      "15  chromedriver                        0x000000010509ac5a chromedriver + 4340826\n",
      "16  chromedriver                        0x0000000105070c2c chromedriver + 4168748\n",
      "17  chromedriver                        0x00000001050b74f8 chromedriver + 4457720\n",
      "18  chromedriver                        0x00000001050b7693 chromedriver + 4458131\n",
      "19  chromedriver                        0x00000001050cca3e chromedriver + 4545086\n",
      "20  libsystem_pthread.dylib             0x00007ff80c43d4e1 _pthread_start + 125\n",
      "21  libsystem_pthread.dylib             0x00007ff80c438f6b thread_start + 15\n",
      "\n",
      "\n"
     ]
    },
    {
     "name": "stderr",
     "output_type": "stream",
     "text": [
      "[WDM] - ====== WebDriver manager ======\n"
     ]
    },
    {
     "name": "stdout",
     "output_type": "stream",
     "text": [
      "2022-09-27 06:00:22,016 INFO ====== WebDriver manager ======\n"
     ]
    },
    {
     "name": "stderr",
     "output_type": "stream",
     "text": [
      "[WDM] - Current google-chrome version is 105.0.5195\n"
     ]
    },
    {
     "name": "stdout",
     "output_type": "stream",
     "text": [
      "2022-09-27 06:00:22,068 INFO Current google-chrome version is 105.0.5195\n"
     ]
    },
    {
     "name": "stderr",
     "output_type": "stream",
     "text": [
      "[WDM] - Get LATEST chromedriver version for 105.0.5195 google-chrome\n"
     ]
    },
    {
     "name": "stdout",
     "output_type": "stream",
     "text": [
      "2022-09-27 06:00:22,070 INFO Get LATEST chromedriver version for 105.0.5195 google-chrome\n"
     ]
    },
    {
     "name": "stderr",
     "output_type": "stream",
     "text": [
      "[WDM] - Driver [/Users/percyd/.wdm/drivers/chromedriver/mac64/105.0.5195.52/chromedriver] found in cache\n"
     ]
    },
    {
     "name": "stdout",
     "output_type": "stream",
     "text": [
      "2022-09-27 06:00:22,141 INFO Driver [/Users/percyd/.wdm/drivers/chromedriver/mac64/105.0.5195.52/chromedriver] found in cache\n",
      "Message: element not interactable\n",
      "  (Session info: chrome=105.0.5195.125)\n",
      "Stacktrace:\n",
      "0   chromedriver                        0x0000000102730788 chromedriver + 4515720\n",
      "1   chromedriver                        0x00000001026b49d3 chromedriver + 4008403\n",
      "2   chromedriver                        0x0000000102346feb chromedriver + 413675\n",
      "3   chromedriver                        0x000000010237fa1e chromedriver + 645662\n",
      "4   chromedriver                        0x0000000102373861 chromedriver + 596065\n",
      "5   chromedriver                        0x000000010239b7d2 chromedriver + 759762\n",
      "6   chromedriver                        0x0000000102373075 chromedriver + 594037\n",
      "7   chromedriver                        0x000000010239b92e chromedriver + 760110\n",
      "8   chromedriver                        0x00000001023aebd9 chromedriver + 838617\n",
      "9   chromedriver                        0x000000010239b603 chromedriver + 759299\n",
      "10  chromedriver                        0x0000000102371990 chromedriver + 588176\n",
      "11  chromedriver                        0x0000000102372a75 chromedriver + 592501\n",
      "12  chromedriver                        0x00000001027006cd chromedriver + 4318925\n",
      "13  chromedriver                        0x0000000102704f35 chromedriver + 4337461\n",
      "14  chromedriver                        0x000000010270c1ff chromedriver + 4366847\n",
      "15  chromedriver                        0x0000000102705c5a chromedriver + 4340826\n",
      "16  chromedriver                        0x00000001026dbc2c chromedriver + 4168748\n",
      "17  chromedriver                        0x00000001027224f8 chromedriver + 4457720\n",
      "18  chromedriver                        0x0000000102722693 chromedriver + 4458131\n",
      "19  chromedriver                        0x0000000102737a3e chromedriver + 4545086\n",
      "20  libsystem_pthread.dylib             0x00007ff80c43d4e1 _pthread_start + 125\n",
      "21  libsystem_pthread.dylib             0x00007ff80c438f6b thread_start + 15\n",
      "\n",
      "\n"
     ]
    },
    {
     "name": "stderr",
     "output_type": "stream",
     "text": [
      "[WDM] - ====== WebDriver manager ======\n"
     ]
    },
    {
     "name": "stdout",
     "output_type": "stream",
     "text": [
      "2022-09-27 06:02:43,687 INFO ====== WebDriver manager ======\n"
     ]
    },
    {
     "name": "stderr",
     "output_type": "stream",
     "text": [
      "[WDM] - Current google-chrome version is 105.0.5195\n"
     ]
    },
    {
     "name": "stdout",
     "output_type": "stream",
     "text": [
      "2022-09-27 06:02:43,729 INFO Current google-chrome version is 105.0.5195\n"
     ]
    },
    {
     "name": "stderr",
     "output_type": "stream",
     "text": [
      "[WDM] - Get LATEST chromedriver version for 105.0.5195 google-chrome\n"
     ]
    },
    {
     "name": "stdout",
     "output_type": "stream",
     "text": [
      "2022-09-27 06:02:43,731 INFO Get LATEST chromedriver version for 105.0.5195 google-chrome\n"
     ]
    },
    {
     "name": "stderr",
     "output_type": "stream",
     "text": [
      "[WDM] - Driver [/Users/percyd/.wdm/drivers/chromedriver/mac64/105.0.5195.52/chromedriver] found in cache\n"
     ]
    },
    {
     "name": "stdout",
     "output_type": "stream",
     "text": [
      "2022-09-27 06:02:43,778 INFO Driver [/Users/percyd/.wdm/drivers/chromedriver/mac64/105.0.5195.52/chromedriver] found in cache\n",
      "Message: element not interactable\n",
      "  (Session info: chrome=105.0.5195.125)\n",
      "Stacktrace:\n",
      "0   chromedriver                        0x0000000105422788 chromedriver + 4515720\n",
      "1   chromedriver                        0x00000001053a69d3 chromedriver + 4008403\n",
      "2   chromedriver                        0x0000000105038feb chromedriver + 413675\n",
      "3   chromedriver                        0x0000000105071a1e chromedriver + 645662\n",
      "4   chromedriver                        0x0000000105065861 chromedriver + 596065\n",
      "5   chromedriver                        0x000000010508d7d2 chromedriver + 759762\n",
      "6   chromedriver                        0x0000000105065075 chromedriver + 594037\n",
      "7   chromedriver                        0x000000010508d92e chromedriver + 760110\n",
      "8   chromedriver                        0x00000001050a0bd9 chromedriver + 838617\n",
      "9   chromedriver                        0x000000010508d603 chromedriver + 759299\n",
      "10  chromedriver                        0x0000000105063990 chromedriver + 588176\n",
      "11  chromedriver                        0x0000000105064a75 chromedriver + 592501\n",
      "12  chromedriver                        0x00000001053f26cd chromedriver + 4318925\n",
      "13  chromedriver                        0x00000001053f6f35 chromedriver + 4337461\n",
      "14  chromedriver                        0x00000001053fe1ff chromedriver + 4366847\n",
      "15  chromedriver                        0x00000001053f7c5a chromedriver + 4340826\n",
      "16  chromedriver                        0x00000001053cdc2c chromedriver + 4168748\n",
      "17  chromedriver                        0x00000001054144f8 chromedriver + 4457720\n",
      "18  chromedriver                        0x0000000105414693 chromedriver + 4458131\n",
      "19  chromedriver                        0x0000000105429a3e chromedriver + 4545086\n",
      "20  libsystem_pthread.dylib             0x00007ff80c43d4e1 _pthread_start + 125\n",
      "21  libsystem_pthread.dylib             0x00007ff80c438f6b thread_start + 15\n",
      "\n",
      "\n"
     ]
    },
    {
     "name": "stderr",
     "output_type": "stream",
     "text": [
      "[WDM] - ====== WebDriver manager ======\n"
     ]
    },
    {
     "name": "stdout",
     "output_type": "stream",
     "text": [
      "2022-09-27 06:12:50,887 INFO ====== WebDriver manager ======\n"
     ]
    },
    {
     "name": "stderr",
     "output_type": "stream",
     "text": [
      "[WDM] - Current google-chrome version is 105.0.5195\n"
     ]
    },
    {
     "name": "stdout",
     "output_type": "stream",
     "text": [
      "2022-09-27 06:12:50,940 INFO Current google-chrome version is 105.0.5195\n"
     ]
    },
    {
     "name": "stderr",
     "output_type": "stream",
     "text": [
      "[WDM] - Get LATEST chromedriver version for 105.0.5195 google-chrome\n"
     ]
    },
    {
     "name": "stdout",
     "output_type": "stream",
     "text": [
      "2022-09-27 06:12:50,942 INFO Get LATEST chromedriver version for 105.0.5195 google-chrome\n"
     ]
    },
    {
     "name": "stderr",
     "output_type": "stream",
     "text": [
      "[WDM] - Driver [/Users/percyd/.wdm/drivers/chromedriver/mac64/105.0.5195.52/chromedriver] found in cache\n"
     ]
    },
    {
     "name": "stdout",
     "output_type": "stream",
     "text": [
      "2022-09-27 06:12:51,016 INFO Driver [/Users/percyd/.wdm/drivers/chromedriver/mac64/105.0.5195.52/chromedriver] found in cache\n",
      "Message: element not interactable\n",
      "  (Session info: chrome=105.0.5195.125)\n",
      "Stacktrace:\n",
      "0   chromedriver                        0x0000000104a19788 chromedriver + 4515720\n",
      "1   chromedriver                        0x000000010499d9d3 chromedriver + 4008403\n",
      "2   chromedriver                        0x000000010462ffeb chromedriver + 413675\n",
      "3   chromedriver                        0x0000000104668a1e chromedriver + 645662\n",
      "4   chromedriver                        0x000000010465c861 chromedriver + 596065\n",
      "5   chromedriver                        0x00000001046847d2 chromedriver + 759762\n",
      "6   chromedriver                        0x000000010465c075 chromedriver + 594037\n",
      "7   chromedriver                        0x000000010468492e chromedriver + 760110\n",
      "8   chromedriver                        0x0000000104697bd9 chromedriver + 838617\n",
      "9   chromedriver                        0x0000000104684603 chromedriver + 759299\n",
      "10  chromedriver                        0x000000010465a990 chromedriver + 588176\n",
      "11  chromedriver                        0x000000010465ba75 chromedriver + 592501\n",
      "12  chromedriver                        0x00000001049e96cd chromedriver + 4318925\n",
      "13  chromedriver                        0x00000001049edf35 chromedriver + 4337461\n",
      "14  chromedriver                        0x00000001049f51ff chromedriver + 4366847\n",
      "15  chromedriver                        0x00000001049eec5a chromedriver + 4340826\n",
      "16  chromedriver                        0x00000001049c4c2c chromedriver + 4168748\n",
      "17  chromedriver                        0x0000000104a0b4f8 chromedriver + 4457720\n",
      "18  chromedriver                        0x0000000104a0b693 chromedriver + 4458131\n",
      "19  chromedriver                        0x0000000104a20a3e chromedriver + 4545086\n",
      "20  libsystem_pthread.dylib             0x00007ff80c43d4e1 _pthread_start + 125\n",
      "21  libsystem_pthread.dylib             0x00007ff80c438f6b thread_start + 15\n",
      "\n",
      "\n"
     ]
    },
    {
     "name": "stderr",
     "output_type": "stream",
     "text": [
      "[WDM] - ====== WebDriver manager ======\n"
     ]
    },
    {
     "name": "stdout",
     "output_type": "stream",
     "text": [
      "2022-09-27 06:14:25,821 INFO ====== WebDriver manager ======\n"
     ]
    },
    {
     "name": "stderr",
     "output_type": "stream",
     "text": [
      "[WDM] - Current google-chrome version is 105.0.5195\n"
     ]
    },
    {
     "name": "stdout",
     "output_type": "stream",
     "text": [
      "2022-09-27 06:14:25,864 INFO Current google-chrome version is 105.0.5195\n"
     ]
    },
    {
     "name": "stderr",
     "output_type": "stream",
     "text": [
      "[WDM] - Get LATEST chromedriver version for 105.0.5195 google-chrome\n"
     ]
    },
    {
     "name": "stdout",
     "output_type": "stream",
     "text": [
      "2022-09-27 06:14:25,865 INFO Get LATEST chromedriver version for 105.0.5195 google-chrome\n"
     ]
    },
    {
     "name": "stderr",
     "output_type": "stream",
     "text": [
      "[WDM] - Driver [/Users/percyd/.wdm/drivers/chromedriver/mac64/105.0.5195.52/chromedriver] found in cache\n"
     ]
    },
    {
     "name": "stdout",
     "output_type": "stream",
     "text": [
      "2022-09-27 06:14:25,921 INFO Driver [/Users/percyd/.wdm/drivers/chromedriver/mac64/105.0.5195.52/chromedriver] found in cache\n",
      "Message: element not interactable\n",
      "  (Session info: chrome=105.0.5195.125)\n",
      "Stacktrace:\n",
      "0   chromedriver                        0x0000000102f97788 chromedriver + 4515720\n",
      "1   chromedriver                        0x0000000102f1b9d3 chromedriver + 4008403\n",
      "2   chromedriver                        0x0000000102badfeb chromedriver + 413675\n",
      "3   chromedriver                        0x0000000102be6a1e chromedriver + 645662\n",
      "4   chromedriver                        0x0000000102bda861 chromedriver + 596065\n",
      "5   chromedriver                        0x0000000102c027d2 chromedriver + 759762\n",
      "6   chromedriver                        0x0000000102bda075 chromedriver + 594037\n",
      "7   chromedriver                        0x0000000102c0292e chromedriver + 760110\n",
      "8   chromedriver                        0x0000000102c15bd9 chromedriver + 838617\n",
      "9   chromedriver                        0x0000000102c02603 chromedriver + 759299\n",
      "10  chromedriver                        0x0000000102bd8990 chromedriver + 588176\n",
      "11  chromedriver                        0x0000000102bd9a75 chromedriver + 592501\n",
      "12  chromedriver                        0x0000000102f676cd chromedriver + 4318925\n",
      "13  chromedriver                        0x0000000102f6bf35 chromedriver + 4337461\n",
      "14  chromedriver                        0x0000000102f731ff chromedriver + 4366847\n",
      "15  chromedriver                        0x0000000102f6cc5a chromedriver + 4340826\n",
      "16  chromedriver                        0x0000000102f42c2c chromedriver + 4168748\n",
      "17  chromedriver                        0x0000000102f894f8 chromedriver + 4457720\n",
      "18  chromedriver                        0x0000000102f89693 chromedriver + 4458131\n",
      "19  chromedriver                        0x0000000102f9ea3e chromedriver + 4545086\n",
      "20  libsystem_pthread.dylib             0x00007ff80c43d4e1 _pthread_start + 125\n",
      "21  libsystem_pthread.dylib             0x00007ff80c438f6b thread_start + 15\n",
      "\n",
      "\n"
     ]
    },
    {
     "name": "stderr",
     "output_type": "stream",
     "text": [
      "[WDM] - ====== WebDriver manager ======\n"
     ]
    },
    {
     "name": "stdout",
     "output_type": "stream",
     "text": [
      "2022-09-27 06:18:11,788 INFO ====== WebDriver manager ======\n"
     ]
    },
    {
     "name": "stderr",
     "output_type": "stream",
     "text": [
      "[WDM] - Current google-chrome version is 105.0.5195\n"
     ]
    },
    {
     "name": "stdout",
     "output_type": "stream",
     "text": [
      "2022-09-27 06:18:11,831 INFO Current google-chrome version is 105.0.5195\n"
     ]
    },
    {
     "name": "stderr",
     "output_type": "stream",
     "text": [
      "[WDM] - Get LATEST chromedriver version for 105.0.5195 google-chrome\n"
     ]
    },
    {
     "name": "stdout",
     "output_type": "stream",
     "text": [
      "2022-09-27 06:18:11,833 INFO Get LATEST chromedriver version for 105.0.5195 google-chrome\n"
     ]
    },
    {
     "name": "stderr",
     "output_type": "stream",
     "text": [
      "[WDM] - Driver [/Users/percyd/.wdm/drivers/chromedriver/mac64/105.0.5195.52/chromedriver] found in cache\n"
     ]
    },
    {
     "name": "stdout",
     "output_type": "stream",
     "text": [
      "2022-09-27 06:18:11,888 INFO Driver [/Users/percyd/.wdm/drivers/chromedriver/mac64/105.0.5195.52/chromedriver] found in cache\n",
      "Message: element not interactable\n",
      "  (Session info: chrome=105.0.5195.125)\n",
      "Stacktrace:\n",
      "0   chromedriver                        0x0000000100747788 chromedriver + 4515720\n",
      "1   chromedriver                        0x00000001006cb9d3 chromedriver + 4008403\n",
      "2   chromedriver                        0x000000010035dfeb chromedriver + 413675\n",
      "3   chromedriver                        0x0000000100396a1e chromedriver + 645662\n",
      "4   chromedriver                        0x000000010038a861 chromedriver + 596065\n",
      "5   chromedriver                        0x00000001003b27d2 chromedriver + 759762\n",
      "6   chromedriver                        0x000000010038a075 chromedriver + 594037\n",
      "7   chromedriver                        0x00000001003b292e chromedriver + 760110\n",
      "8   chromedriver                        0x00000001003c5bd9 chromedriver + 838617\n",
      "9   chromedriver                        0x00000001003b2603 chromedriver + 759299\n",
      "10  chromedriver                        0x0000000100388990 chromedriver + 588176\n",
      "11  chromedriver                        0x0000000100389a75 chromedriver + 592501\n",
      "12  chromedriver                        0x00000001007176cd chromedriver + 4318925\n",
      "13  chromedriver                        0x000000010071bf35 chromedriver + 4337461\n",
      "14  chromedriver                        0x00000001007231ff chromedriver + 4366847\n",
      "15  chromedriver                        0x000000010071cc5a chromedriver + 4340826\n",
      "16  chromedriver                        0x00000001006f2c2c chromedriver + 4168748\n",
      "17  chromedriver                        0x00000001007394f8 chromedriver + 4457720\n",
      "18  chromedriver                        0x0000000100739693 chromedriver + 4458131\n",
      "19  chromedriver                        0x000000010074ea3e chromedriver + 4545086\n",
      "20  libsystem_pthread.dylib             0x00007ff80c43d4e1 _pthread_start + 125\n",
      "21  libsystem_pthread.dylib             0x00007ff80c438f6b thread_start + 15\n",
      "\n",
      "\n"
     ]
    },
    {
     "name": "stderr",
     "output_type": "stream",
     "text": [
      "[WDM] - ====== WebDriver manager ======\n"
     ]
    },
    {
     "name": "stdout",
     "output_type": "stream",
     "text": [
      "2022-09-27 06:26:49,956 INFO ====== WebDriver manager ======\n"
     ]
    },
    {
     "name": "stderr",
     "output_type": "stream",
     "text": [
      "[WDM] - Current google-chrome version is 105.0.5195\n"
     ]
    },
    {
     "name": "stdout",
     "output_type": "stream",
     "text": [
      "2022-09-27 06:26:50,009 INFO Current google-chrome version is 105.0.5195\n"
     ]
    },
    {
     "name": "stderr",
     "output_type": "stream",
     "text": [
      "[WDM] - Get LATEST chromedriver version for 105.0.5195 google-chrome\n"
     ]
    },
    {
     "name": "stdout",
     "output_type": "stream",
     "text": [
      "2022-09-27 06:26:50,011 INFO Get LATEST chromedriver version for 105.0.5195 google-chrome\n"
     ]
    },
    {
     "name": "stderr",
     "output_type": "stream",
     "text": [
      "[WDM] - Driver [/Users/percyd/.wdm/drivers/chromedriver/mac64/105.0.5195.52/chromedriver] found in cache\n"
     ]
    },
    {
     "name": "stdout",
     "output_type": "stream",
     "text": [
      "2022-09-27 06:26:50,074 INFO Driver [/Users/percyd/.wdm/drivers/chromedriver/mac64/105.0.5195.52/chromedriver] found in cache\n",
      "Message: element not interactable\n",
      "  (Session info: chrome=105.0.5195.125)\n",
      "Stacktrace:\n",
      "0   chromedriver                        0x000000010246e788 chromedriver + 4515720\n",
      "1   chromedriver                        0x00000001023f29d3 chromedriver + 4008403\n",
      "2   chromedriver                        0x0000000102084feb chromedriver + 413675\n",
      "3   chromedriver                        0x00000001020bda1e chromedriver + 645662\n",
      "4   chromedriver                        0x00000001020b1861 chromedriver + 596065\n",
      "5   chromedriver                        0x00000001020d97d2 chromedriver + 759762\n",
      "6   chromedriver                        0x00000001020b1075 chromedriver + 594037\n",
      "7   chromedriver                        0x00000001020d992e chromedriver + 760110\n",
      "8   chromedriver                        0x00000001020ecbd9 chromedriver + 838617\n",
      "9   chromedriver                        0x00000001020d9603 chromedriver + 759299\n",
      "10  chromedriver                        0x00000001020af990 chromedriver + 588176\n",
      "11  chromedriver                        0x00000001020b0a75 chromedriver + 592501\n",
      "12  chromedriver                        0x000000010243e6cd chromedriver + 4318925\n",
      "13  chromedriver                        0x0000000102442f35 chromedriver + 4337461\n",
      "14  chromedriver                        0x000000010244a1ff chromedriver + 4366847\n",
      "15  chromedriver                        0x0000000102443c5a chromedriver + 4340826\n",
      "16  chromedriver                        0x0000000102419c2c chromedriver + 4168748\n",
      "17  chromedriver                        0x00000001024604f8 chromedriver + 4457720\n",
      "18  chromedriver                        0x0000000102460693 chromedriver + 4458131\n",
      "19  chromedriver                        0x0000000102475a3e chromedriver + 4545086\n",
      "20  libsystem_pthread.dylib             0x00007ff80c43d4e1 _pthread_start + 125\n",
      "21  libsystem_pthread.dylib             0x00007ff80c438f6b thread_start + 15\n",
      "\n",
      "\n"
     ]
    },
    {
     "name": "stderr",
     "output_type": "stream",
     "text": [
      "[WDM] - ====== WebDriver manager ======\n"
     ]
    },
    {
     "name": "stdout",
     "output_type": "stream",
     "text": [
      "2022-09-27 06:33:59,818 INFO ====== WebDriver manager ======\n"
     ]
    },
    {
     "name": "stderr",
     "output_type": "stream",
     "text": [
      "[WDM] - Current google-chrome version is 105.0.5195\n"
     ]
    },
    {
     "name": "stdout",
     "output_type": "stream",
     "text": [
      "2022-09-27 06:33:59,860 INFO Current google-chrome version is 105.0.5195\n"
     ]
    },
    {
     "name": "stderr",
     "output_type": "stream",
     "text": [
      "[WDM] - Get LATEST chromedriver version for 105.0.5195 google-chrome\n"
     ]
    },
    {
     "name": "stdout",
     "output_type": "stream",
     "text": [
      "2022-09-27 06:33:59,862 INFO Get LATEST chromedriver version for 105.0.5195 google-chrome\n"
     ]
    },
    {
     "name": "stderr",
     "output_type": "stream",
     "text": [
      "[WDM] - Driver [/Users/percyd/.wdm/drivers/chromedriver/mac64/105.0.5195.52/chromedriver] found in cache\n"
     ]
    },
    {
     "name": "stdout",
     "output_type": "stream",
     "text": [
      "2022-09-27 06:33:59,931 INFO Driver [/Users/percyd/.wdm/drivers/chromedriver/mac64/105.0.5195.52/chromedriver] found in cache\n",
      "Message: element not interactable\n",
      "  (Session info: chrome=105.0.5195.125)\n",
      "Stacktrace:\n",
      "0   chromedriver                        0x0000000102c81788 chromedriver + 4515720\n",
      "1   chromedriver                        0x0000000102c059d3 chromedriver + 4008403\n",
      "2   chromedriver                        0x0000000102897feb chromedriver + 413675\n",
      "3   chromedriver                        0x00000001028d0a1e chromedriver + 645662\n",
      "4   chromedriver                        0x00000001028c4861 chromedriver + 596065\n",
      "5   chromedriver                        0x00000001028ec7d2 chromedriver + 759762\n",
      "6   chromedriver                        0x00000001028c4075 chromedriver + 594037\n",
      "7   chromedriver                        0x00000001028ec92e chromedriver + 760110\n",
      "8   chromedriver                        0x00000001028ffbd9 chromedriver + 838617\n",
      "9   chromedriver                        0x00000001028ec603 chromedriver + 759299\n",
      "10  chromedriver                        0x00000001028c2990 chromedriver + 588176\n",
      "11  chromedriver                        0x00000001028c3a75 chromedriver + 592501\n",
      "12  chromedriver                        0x0000000102c516cd chromedriver + 4318925\n",
      "13  chromedriver                        0x0000000102c55f35 chromedriver + 4337461\n",
      "14  chromedriver                        0x0000000102c5d1ff chromedriver + 4366847\n",
      "15  chromedriver                        0x0000000102c56c5a chromedriver + 4340826\n",
      "16  chromedriver                        0x0000000102c2cc2c chromedriver + 4168748\n",
      "17  chromedriver                        0x0000000102c734f8 chromedriver + 4457720\n",
      "18  chromedriver                        0x0000000102c73693 chromedriver + 4458131\n",
      "19  chromedriver                        0x0000000102c88a3e chromedriver + 4545086\n",
      "20  libsystem_pthread.dylib             0x00007ff80c43d4e1 _pthread_start + 125\n",
      "21  libsystem_pthread.dylib             0x00007ff80c438f6b thread_start + 15\n",
      "\n",
      "\n"
     ]
    },
    {
     "name": "stderr",
     "output_type": "stream",
     "text": [
      "[WDM] - ====== WebDriver manager ======\n"
     ]
    },
    {
     "name": "stdout",
     "output_type": "stream",
     "text": [
      "2022-09-27 06:39:13,928 INFO ====== WebDriver manager ======\n"
     ]
    },
    {
     "name": "stderr",
     "output_type": "stream",
     "text": [
      "[WDM] - Current google-chrome version is 105.0.5195\n"
     ]
    },
    {
     "name": "stdout",
     "output_type": "stream",
     "text": [
      "2022-09-27 06:39:13,975 INFO Current google-chrome version is 105.0.5195\n"
     ]
    },
    {
     "name": "stderr",
     "output_type": "stream",
     "text": [
      "[WDM] - Get LATEST chromedriver version for 105.0.5195 google-chrome\n"
     ]
    },
    {
     "name": "stdout",
     "output_type": "stream",
     "text": [
      "2022-09-27 06:39:13,977 INFO Get LATEST chromedriver version for 105.0.5195 google-chrome\n"
     ]
    },
    {
     "name": "stderr",
     "output_type": "stream",
     "text": [
      "[WDM] - Driver [/Users/percyd/.wdm/drivers/chromedriver/mac64/105.0.5195.52/chromedriver] found in cache\n"
     ]
    },
    {
     "name": "stdout",
     "output_type": "stream",
     "text": [
      "2022-09-27 06:39:14,037 INFO Driver [/Users/percyd/.wdm/drivers/chromedriver/mac64/105.0.5195.52/chromedriver] found in cache\n",
      "Message: element not interactable\n",
      "  (Session info: chrome=105.0.5195.125)\n",
      "Stacktrace:\n",
      "0   chromedriver                        0x00000001028ce788 chromedriver + 4515720\n",
      "1   chromedriver                        0x00000001028529d3 chromedriver + 4008403\n",
      "2   chromedriver                        0x00000001024e4feb chromedriver + 413675\n",
      "3   chromedriver                        0x000000010251da1e chromedriver + 645662\n",
      "4   chromedriver                        0x0000000102511861 chromedriver + 596065\n",
      "5   chromedriver                        0x00000001025397d2 chromedriver + 759762\n",
      "6   chromedriver                        0x0000000102511075 chromedriver + 594037\n",
      "7   chromedriver                        0x000000010253992e chromedriver + 760110\n",
      "8   chromedriver                        0x000000010254cbd9 chromedriver + 838617\n",
      "9   chromedriver                        0x0000000102539603 chromedriver + 759299\n",
      "10  chromedriver                        0x000000010250f990 chromedriver + 588176\n",
      "11  chromedriver                        0x0000000102510a75 chromedriver + 592501\n",
      "12  chromedriver                        0x000000010289e6cd chromedriver + 4318925\n",
      "13  chromedriver                        0x00000001028a2f35 chromedriver + 4337461\n",
      "14  chromedriver                        0x00000001028aa1ff chromedriver + 4366847\n",
      "15  chromedriver                        0x00000001028a3c5a chromedriver + 4340826\n",
      "16  chromedriver                        0x0000000102879c2c chromedriver + 4168748\n",
      "17  chromedriver                        0x00000001028c04f8 chromedriver + 4457720\n",
      "18  chromedriver                        0x00000001028c0693 chromedriver + 4458131\n",
      "19  chromedriver                        0x00000001028d5a3e chromedriver + 4545086\n",
      "20  libsystem_pthread.dylib             0x00007ff80c43d4e1 _pthread_start + 125\n",
      "21  libsystem_pthread.dylib             0x00007ff80c438f6b thread_start + 15\n",
      "\n",
      "<span class=\"display-name-link\"></span>\n",
      "Den of Thieves\n",
      "'NoneType' object has no attribute 'text'\n"
     ]
    },
    {
     "name": "stderr",
     "output_type": "stream",
     "text": [
      "/var/folders/tl/jg9ncc9x4vnfwb17tjw2ms480000gn/T/ipykernel_47546/1803501279.py:13: VisibleDeprecationWarning: Creating an ndarray from ragged nested sequences (which is a list-or-tuple of lists-or-tuples-or ndarrays with different lengths or shapes) is deprecated. If you meant to do this, you must specify 'dtype=object' when creating the ndarray.\n",
      "  temp_df = pd.DataFrame(np.array([usr, usr_url, rv_date, rv_title, rv, rv_len, is_spoilerwarn]).T, columns=['user', 'user_url', 'review_date', 'review_title', 'review', 'review_len', 'is_spoilerwarn'])\n"
     ]
    },
    {
     "ename": "ValueError",
     "evalue": "Shape of passed values is (7, 1), indices imply (7, 7)",
     "output_type": "error",
     "traceback": [
      "\u001b[0;31m---------------------------------------------------------------------------\u001b[0m",
      "\u001b[0;31mValueError\u001b[0m                                Traceback (most recent call last)",
      "\u001b[0;32m/opt/anaconda3/lib/python3.8/site-packages/pandas/core/internals/managers.py\u001b[0m in \u001b[0;36mcreate_block_manager_from_blocks\u001b[0;34m(blocks, axes)\u001b[0m\n\u001b[1;32m   1674\u001b[0m                 blocks = [\n\u001b[0;32m-> 1675\u001b[0;31m                     make_block(\n\u001b[0m\u001b[1;32m   1676\u001b[0m                         \u001b[0mvalues\u001b[0m\u001b[0;34m=\u001b[0m\u001b[0mblocks\u001b[0m\u001b[0;34m[\u001b[0m\u001b[0;36m0\u001b[0m\u001b[0;34m]\u001b[0m\u001b[0;34m,\u001b[0m \u001b[0mplacement\u001b[0m\u001b[0;34m=\u001b[0m\u001b[0mslice\u001b[0m\u001b[0;34m(\u001b[0m\u001b[0;36m0\u001b[0m\u001b[0;34m,\u001b[0m \u001b[0mlen\u001b[0m\u001b[0;34m(\u001b[0m\u001b[0maxes\u001b[0m\u001b[0;34m[\u001b[0m\u001b[0;36m0\u001b[0m\u001b[0;34m]\u001b[0m\u001b[0;34m)\u001b[0m\u001b[0;34m)\u001b[0m\u001b[0;34m,\u001b[0m \u001b[0mndim\u001b[0m\u001b[0;34m=\u001b[0m\u001b[0;36m2\u001b[0m\u001b[0;34m\u001b[0m\u001b[0;34m\u001b[0m\u001b[0m\n",
      "\u001b[0;32m/opt/anaconda3/lib/python3.8/site-packages/pandas/core/internals/blocks.py\u001b[0m in \u001b[0;36mmake_block\u001b[0;34m(values, placement, klass, ndim, dtype)\u001b[0m\n\u001b[1;32m   2741\u001b[0m \u001b[0;34m\u001b[0m\u001b[0m\n\u001b[0;32m-> 2742\u001b[0;31m     \u001b[0;32mreturn\u001b[0m \u001b[0mklass\u001b[0m\u001b[0;34m(\u001b[0m\u001b[0mvalues\u001b[0m\u001b[0;34m,\u001b[0m \u001b[0mndim\u001b[0m\u001b[0;34m=\u001b[0m\u001b[0mndim\u001b[0m\u001b[0;34m,\u001b[0m \u001b[0mplacement\u001b[0m\u001b[0;34m=\u001b[0m\u001b[0mplacement\u001b[0m\u001b[0;34m)\u001b[0m\u001b[0;34m\u001b[0m\u001b[0;34m\u001b[0m\u001b[0m\n\u001b[0m\u001b[1;32m   2743\u001b[0m \u001b[0;34m\u001b[0m\u001b[0m\n",
      "\u001b[0;32m/opt/anaconda3/lib/python3.8/site-packages/pandas/core/internals/blocks.py\u001b[0m in \u001b[0;36m__init__\u001b[0;34m(self, values, placement, ndim)\u001b[0m\n\u001b[1;32m    141\u001b[0m         \u001b[0;32mif\u001b[0m \u001b[0mself\u001b[0m\u001b[0;34m.\u001b[0m\u001b[0m_validate_ndim\u001b[0m \u001b[0;32mand\u001b[0m \u001b[0mself\u001b[0m\u001b[0;34m.\u001b[0m\u001b[0mndim\u001b[0m \u001b[0;32mand\u001b[0m \u001b[0mlen\u001b[0m\u001b[0;34m(\u001b[0m\u001b[0mself\u001b[0m\u001b[0;34m.\u001b[0m\u001b[0mmgr_locs\u001b[0m\u001b[0;34m)\u001b[0m \u001b[0;34m!=\u001b[0m \u001b[0mlen\u001b[0m\u001b[0;34m(\u001b[0m\u001b[0mself\u001b[0m\u001b[0;34m.\u001b[0m\u001b[0mvalues\u001b[0m\u001b[0;34m)\u001b[0m\u001b[0;34m:\u001b[0m\u001b[0;34m\u001b[0m\u001b[0;34m\u001b[0m\u001b[0m\n\u001b[0;32m--> 142\u001b[0;31m             raise ValueError(\n\u001b[0m\u001b[1;32m    143\u001b[0m                 \u001b[0;34mf\"Wrong number of items passed {len(self.values)}, \"\u001b[0m\u001b[0;34m\u001b[0m\u001b[0;34m\u001b[0m\u001b[0m\n",
      "\u001b[0;31mValueError\u001b[0m: Wrong number of items passed 1, placement implies 7",
      "\nDuring handling of the above exception, another exception occurred:\n",
      "\u001b[0;31mValueError\u001b[0m                                Traceback (most recent call last)",
      "\u001b[0;32m/var/folders/tl/jg9ncc9x4vnfwb17tjw2ms480000gn/T/ipykernel_47546/4215209206.py\u001b[0m in \u001b[0;36m<module>\u001b[0;34m\u001b[0m\n\u001b[1;32m      1\u001b[0m \u001b[0mdata0\u001b[0m \u001b[0;34m=\u001b[0m \u001b[0mpd\u001b[0m\u001b[0;34m.\u001b[0m\u001b[0mread_csv\u001b[0m\u001b[0;34m(\u001b[0m\u001b[0;34m'./df0.csv'\u001b[0m\u001b[0;34m,\u001b[0m \u001b[0mparse_dates\u001b[0m\u001b[0;34m=\u001b[0m\u001b[0;34m[\u001b[0m\u001b[0;34m'FRI_RELEASE_DAYBO'\u001b[0m\u001b[0;34m,\u001b[0m \u001b[0;34m'TUE_V_RELEASE'\u001b[0m\u001b[0;34m]\u001b[0m\u001b[0;34m)\u001b[0m\u001b[0;34m\u001b[0m\u001b[0;34m\u001b[0m\u001b[0m\n\u001b[0;32m----> 2\u001b[0;31m \u001b[0mdf0\u001b[0m\u001b[0;34m,\u001b[0m \u001b[0mexception0\u001b[0m \u001b[0;34m=\u001b[0m \u001b[0mhandle_data\u001b[0m\u001b[0;34m(\u001b[0m\u001b[0;34m'./data.html'\u001b[0m\u001b[0;34m,\u001b[0m \u001b[0mdata0\u001b[0m\u001b[0;34m,\u001b[0m \u001b[0mhdr\u001b[0m\u001b[0;34m)\u001b[0m\u001b[0;34m\u001b[0m\u001b[0;34m\u001b[0m\u001b[0m\n\u001b[0m",
      "\u001b[0;32m/var/folders/tl/jg9ncc9x4vnfwb17tjw2ms480000gn/T/ipykernel_47546/1803501279.py\u001b[0m in \u001b[0;36mhandle_data\u001b[0;34m(output_file, df, hdr)\u001b[0m\n\u001b[1;32m     11\u001b[0m         \u001b[0mdup_len\u001b[0m\u001b[0;34m.\u001b[0m\u001b[0mappend\u001b[0m\u001b[0;34m(\u001b[0m\u001b[0mlen\u001b[0m\u001b[0;34m(\u001b[0m\u001b[0musr\u001b[0m\u001b[0;34m)\u001b[0m\u001b[0;34m)\u001b[0m\u001b[0;34m\u001b[0m\u001b[0;34m\u001b[0m\u001b[0m\n\u001b[1;32m     12\u001b[0m \u001b[0;31m#         temp_df = pd.DataFrame(np.array([usr, usr_url, rv_date, rv_title, rv, rv_len, pos_rat, neg_rat]).T, columns=['user', 'user_url', 'review_date', 'review_title', 'review', 'review_len', 'pos_rating', 'neg_rating'])\u001b[0m\u001b[0;34m\u001b[0m\u001b[0;34m\u001b[0m\u001b[0;34m\u001b[0m\u001b[0m\n\u001b[0;32m---> 13\u001b[0;31m         \u001b[0mtemp_df\u001b[0m \u001b[0;34m=\u001b[0m \u001b[0mpd\u001b[0m\u001b[0;34m.\u001b[0m\u001b[0mDataFrame\u001b[0m\u001b[0;34m(\u001b[0m\u001b[0mnp\u001b[0m\u001b[0;34m.\u001b[0m\u001b[0marray\u001b[0m\u001b[0;34m(\u001b[0m\u001b[0;34m[\u001b[0m\u001b[0musr\u001b[0m\u001b[0;34m,\u001b[0m \u001b[0musr_url\u001b[0m\u001b[0;34m,\u001b[0m \u001b[0mrv_date\u001b[0m\u001b[0;34m,\u001b[0m \u001b[0mrv_title\u001b[0m\u001b[0;34m,\u001b[0m \u001b[0mrv\u001b[0m\u001b[0;34m,\u001b[0m \u001b[0mrv_len\u001b[0m\u001b[0;34m,\u001b[0m \u001b[0mis_spoilerwarn\u001b[0m\u001b[0;34m]\u001b[0m\u001b[0;34m)\u001b[0m\u001b[0;34m.\u001b[0m\u001b[0mT\u001b[0m\u001b[0;34m,\u001b[0m \u001b[0mcolumns\u001b[0m\u001b[0;34m=\u001b[0m\u001b[0;34m[\u001b[0m\u001b[0;34m'user'\u001b[0m\u001b[0;34m,\u001b[0m \u001b[0;34m'user_url'\u001b[0m\u001b[0;34m,\u001b[0m \u001b[0;34m'review_date'\u001b[0m\u001b[0;34m,\u001b[0m \u001b[0;34m'review_title'\u001b[0m\u001b[0;34m,\u001b[0m \u001b[0;34m'review'\u001b[0m\u001b[0;34m,\u001b[0m \u001b[0;34m'review_len'\u001b[0m\u001b[0;34m,\u001b[0m \u001b[0;34m'is_spoilerwarn'\u001b[0m\u001b[0;34m]\u001b[0m\u001b[0;34m)\u001b[0m\u001b[0;34m\u001b[0m\u001b[0;34m\u001b[0m\u001b[0m\n\u001b[0m\u001b[1;32m     14\u001b[0m         \u001b[0mnew_df\u001b[0m \u001b[0;34m=\u001b[0m \u001b[0mpd\u001b[0m\u001b[0;34m.\u001b[0m\u001b[0mconcat\u001b[0m\u001b[0;34m(\u001b[0m\u001b[0;34m[\u001b[0m\u001b[0mnew_df\u001b[0m\u001b[0;34m,\u001b[0m \u001b[0mtemp_df\u001b[0m\u001b[0;34m]\u001b[0m\u001b[0;34m,\u001b[0m \u001b[0mignore_index\u001b[0m\u001b[0;34m=\u001b[0m\u001b[0;32mTrue\u001b[0m\u001b[0;34m)\u001b[0m\u001b[0;34m\u001b[0m\u001b[0;34m\u001b[0m\u001b[0m\n\u001b[1;32m     15\u001b[0m         \u001b[0me\u001b[0m \u001b[0;34m+=\u001b[0m \u001b[0mexception\u001b[0m\u001b[0;34m\u001b[0m\u001b[0;34m\u001b[0m\u001b[0m\n",
      "\u001b[0;32m/opt/anaconda3/lib/python3.8/site-packages/pandas/core/frame.py\u001b[0m in \u001b[0;36m__init__\u001b[0;34m(self, data, index, columns, dtype, copy)\u001b[0m\n\u001b[1;32m    556\u001b[0m                 \u001b[0mmgr\u001b[0m \u001b[0;34m=\u001b[0m \u001b[0minit_dict\u001b[0m\u001b[0;34m(\u001b[0m\u001b[0;34m{\u001b[0m\u001b[0mdata\u001b[0m\u001b[0;34m.\u001b[0m\u001b[0mname\u001b[0m\u001b[0;34m:\u001b[0m \u001b[0mdata\u001b[0m\u001b[0;34m}\u001b[0m\u001b[0;34m,\u001b[0m \u001b[0mindex\u001b[0m\u001b[0;34m,\u001b[0m \u001b[0mcolumns\u001b[0m\u001b[0;34m,\u001b[0m \u001b[0mdtype\u001b[0m\u001b[0;34m=\u001b[0m\u001b[0mdtype\u001b[0m\u001b[0;34m)\u001b[0m\u001b[0;34m\u001b[0m\u001b[0;34m\u001b[0m\u001b[0m\n\u001b[1;32m    557\u001b[0m             \u001b[0;32melse\u001b[0m\u001b[0;34m:\u001b[0m\u001b[0;34m\u001b[0m\u001b[0;34m\u001b[0m\u001b[0m\n\u001b[0;32m--> 558\u001b[0;31m                 \u001b[0mmgr\u001b[0m \u001b[0;34m=\u001b[0m \u001b[0minit_ndarray\u001b[0m\u001b[0;34m(\u001b[0m\u001b[0mdata\u001b[0m\u001b[0;34m,\u001b[0m \u001b[0mindex\u001b[0m\u001b[0;34m,\u001b[0m \u001b[0mcolumns\u001b[0m\u001b[0;34m,\u001b[0m \u001b[0mdtype\u001b[0m\u001b[0;34m=\u001b[0m\u001b[0mdtype\u001b[0m\u001b[0;34m,\u001b[0m \u001b[0mcopy\u001b[0m\u001b[0;34m=\u001b[0m\u001b[0mcopy\u001b[0m\u001b[0;34m)\u001b[0m\u001b[0;34m\u001b[0m\u001b[0;34m\u001b[0m\u001b[0m\n\u001b[0m\u001b[1;32m    559\u001b[0m \u001b[0;34m\u001b[0m\u001b[0m\n\u001b[1;32m    560\u001b[0m         \u001b[0;31m# For data is list-like, or Iterable (will consume into list)\u001b[0m\u001b[0;34m\u001b[0m\u001b[0;34m\u001b[0m\u001b[0;34m\u001b[0m\u001b[0m\n",
      "\u001b[0;32m/opt/anaconda3/lib/python3.8/site-packages/pandas/core/internals/construction.py\u001b[0m in \u001b[0;36minit_ndarray\u001b[0;34m(values, index, columns, dtype, copy)\u001b[0m\n\u001b[1;32m    236\u001b[0m         \u001b[0mblock_values\u001b[0m \u001b[0;34m=\u001b[0m \u001b[0;34m[\u001b[0m\u001b[0mvalues\u001b[0m\u001b[0;34m]\u001b[0m\u001b[0;34m\u001b[0m\u001b[0;34m\u001b[0m\u001b[0m\n\u001b[1;32m    237\u001b[0m \u001b[0;34m\u001b[0m\u001b[0m\n\u001b[0;32m--> 238\u001b[0;31m     \u001b[0;32mreturn\u001b[0m \u001b[0mcreate_block_manager_from_blocks\u001b[0m\u001b[0;34m(\u001b[0m\u001b[0mblock_values\u001b[0m\u001b[0;34m,\u001b[0m \u001b[0;34m[\u001b[0m\u001b[0mcolumns\u001b[0m\u001b[0;34m,\u001b[0m \u001b[0mindex\u001b[0m\u001b[0;34m]\u001b[0m\u001b[0;34m)\u001b[0m\u001b[0;34m\u001b[0m\u001b[0;34m\u001b[0m\u001b[0m\n\u001b[0m\u001b[1;32m    239\u001b[0m \u001b[0;34m\u001b[0m\u001b[0m\n\u001b[1;32m    240\u001b[0m \u001b[0;34m\u001b[0m\u001b[0m\n",
      "\u001b[0;32m/opt/anaconda3/lib/python3.8/site-packages/pandas/core/internals/managers.py\u001b[0m in \u001b[0;36mcreate_block_manager_from_blocks\u001b[0;34m(blocks, axes)\u001b[0m\n\u001b[1;32m   1685\u001b[0m         \u001b[0mblocks\u001b[0m \u001b[0;34m=\u001b[0m \u001b[0;34m[\u001b[0m\u001b[0mgetattr\u001b[0m\u001b[0;34m(\u001b[0m\u001b[0mb\u001b[0m\u001b[0;34m,\u001b[0m \u001b[0;34m\"values\"\u001b[0m\u001b[0;34m,\u001b[0m \u001b[0mb\u001b[0m\u001b[0;34m)\u001b[0m \u001b[0;32mfor\u001b[0m \u001b[0mb\u001b[0m \u001b[0;32min\u001b[0m \u001b[0mblocks\u001b[0m\u001b[0;34m]\u001b[0m\u001b[0;34m\u001b[0m\u001b[0;34m\u001b[0m\u001b[0m\n\u001b[1;32m   1686\u001b[0m         \u001b[0mtot_items\u001b[0m \u001b[0;34m=\u001b[0m \u001b[0msum\u001b[0m\u001b[0;34m(\u001b[0m\u001b[0mb\u001b[0m\u001b[0;34m.\u001b[0m\u001b[0mshape\u001b[0m\u001b[0;34m[\u001b[0m\u001b[0;36m0\u001b[0m\u001b[0;34m]\u001b[0m \u001b[0;32mfor\u001b[0m \u001b[0mb\u001b[0m \u001b[0;32min\u001b[0m \u001b[0mblocks\u001b[0m\u001b[0;34m)\u001b[0m\u001b[0;34m\u001b[0m\u001b[0;34m\u001b[0m\u001b[0m\n\u001b[0;32m-> 1687\u001b[0;31m         \u001b[0;32mraise\u001b[0m \u001b[0mconstruction_error\u001b[0m\u001b[0;34m(\u001b[0m\u001b[0mtot_items\u001b[0m\u001b[0;34m,\u001b[0m \u001b[0mblocks\u001b[0m\u001b[0;34m[\u001b[0m\u001b[0;36m0\u001b[0m\u001b[0;34m]\u001b[0m\u001b[0;34m.\u001b[0m\u001b[0mshape\u001b[0m\u001b[0;34m[\u001b[0m\u001b[0;36m1\u001b[0m\u001b[0;34m:\u001b[0m\u001b[0;34m]\u001b[0m\u001b[0;34m,\u001b[0m \u001b[0maxes\u001b[0m\u001b[0;34m,\u001b[0m \u001b[0me\u001b[0m\u001b[0;34m)\u001b[0m\u001b[0;34m\u001b[0m\u001b[0;34m\u001b[0m\u001b[0m\n\u001b[0m\u001b[1;32m   1688\u001b[0m \u001b[0;34m\u001b[0m\u001b[0m\n\u001b[1;32m   1689\u001b[0m \u001b[0;34m\u001b[0m\u001b[0m\n",
      "\u001b[0;31mValueError\u001b[0m: Shape of passed values is (7, 1), indices imply (7, 7)"
     ]
    }
   ],
   "source": [
    "data0 = pd.read_csv('./df0.csv', parse_dates=['FRI_RELEASE_DAYBO', 'TUE_V_RELEASE'])\n",
    "df0, exception0 = handle_data('./data.html', data0, hdr)"
   ]
  },
  {
   "cell_type": "code",
   "execution_count": null,
   "id": "36e445d7-1713-4455-b4d2-d9fd5cd5dac8",
   "metadata": {},
   "outputs": [],
   "source": [
    "data2 = pd.read_csv('./df2.csv', parse_dates=['FRI_RELEASE_DAYBO', 'TUE_V_RELEASE'])\n",
    "df2, exception2 = handle_data('./data2.html', data2, hdr)"
   ]
  },
  {
   "cell_type": "code",
   "execution_count": null,
   "id": "ff5fb62b-3b55-41c1-b037-fe8108286e69",
   "metadata": {},
   "outputs": [],
   "source": [
    "data3 = pd.read_csv('./df3.csv', parse_dates=['FRI_RELEASE_DAYBO', 'TUE_V_RELEASE'])\n",
    "df3, exception3 = handle_data('./data3.html', data3, hdr)"
   ]
  },
  {
   "cell_type": "code",
   "execution_count": null,
   "id": "ba09df9f-9e8b-4732-8a48-1f5f4c5da95d",
   "metadata": {},
   "outputs": [],
   "source": [
    "data4 = pd.read_csv('./df3.csv', parse_dates=['FRI_RELEASE_DAYBO', 'TUE_V_RELEASE'])\n",
    "df4, exception4 = handle_data('./data4.html', data4, hdr)"
   ]
  },
  {
   "cell_type": "code",
   "execution_count": null,
   "id": "51832032-9974-4781-adb2-fb0c0645ebaa",
   "metadata": {},
   "outputs": [],
   "source": [
    "data5 = pd.read_csv('./df5.csv', parse_dates=['FRI_RELEASE_DAYBO', 'TUE_V_RELEASE'])\n",
    "df5, exception5 = handle_data('./data5.html', data5, hdr)"
   ]
  },
  {
   "cell_type": "code",
   "execution_count": null,
   "id": "5443b644-770e-4a35-8f9f-10aae8e1cddf",
   "metadata": {},
   "outputs": [],
   "source": [
    "data6 = pd.read_csv('./df6.csv', parse_dates=['FRI_RELEASE_DAYBO', 'TUE_V_RELEASE'])\n",
    "df6, exception6 = handle_data('./data6.html', data6, hdr)"
   ]
  },
  {
   "cell_type": "code",
   "execution_count": null,
   "id": "486d2cc3-bac7-49f6-aadf-36dd3652ad39",
   "metadata": {},
   "outputs": [],
   "source": [
    "data7 = pd.read_csv('./df7.csv', parse_dates=['FRI_RELEASE_DAYBO', 'TUE_V_RELEASE'])\n",
    "df7, exception7 = handle_data('./data7.html', data7, hdr)"
   ]
  },
  {
   "cell_type": "code",
   "execution_count": null,
   "id": "e3748f63-4f92-470d-8d3c-f3160d79d904",
   "metadata": {},
   "outputs": [],
   "source": []
  }
 ],
 "metadata": {
  "kernelspec": {
   "display_name": "Python 3 (ipykernel)",
   "language": "python",
   "name": "python3"
  },
  "language_info": {
   "codemirror_mode": {
    "name": "ipython",
    "version": 3
   },
   "file_extension": ".py",
   "mimetype": "text/x-python",
   "name": "python",
   "nbconvert_exporter": "python",
   "pygments_lexer": "ipython3",
   "version": "3.8.8"
  },
  "vscode": {
   "interpreter": {
    "hash": "40d3a090f54c6569ab1632332b64b2c03c39dcf918b08424e98f38b5ae0af88f"
   }
  }
 },
 "nbformat": 4,
 "nbformat_minor": 5
}
