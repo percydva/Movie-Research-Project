{
 "cells": [
  {
   "cell_type": "code",
   "execution_count": 1,
   "id": "077d9a99-a887-4655-bfa6-6bb69572e74b",
   "metadata": {},
   "outputs": [
    {
     "name": "stderr",
     "output_type": "stream",
     "text": [
      "/opt/anaconda3/lib/python3.8/site-packages/past/builtins/misc.py:45: DeprecationWarning: the imp module is deprecated in favour of importlib; see the module's documentation for alternative uses\n",
      "  from imp import reload\n"
     ]
    }
   ],
   "source": [
    "import re\n",
    "import pandas as pd\n",
    "import numpy as np\n",
    "import gensim\n",
    "import nltk\n",
    "# import spacy\n",
    "import logging\n",
    "import pyLDAvis\n",
    "import pyLDAvis.gensim_models as gensimvis\n",
    "import matplotlib.pyplot as plt\n",
    "from pprint import pprint\n",
    "from gensim.models import CoherenceModel\n",
    "from gensim.utils import simple_preprocess\n",
    "from gensim.parsing.preprocessing import STOPWORDS\n",
    "from gensim.corpora import Dictionary\n",
    "from gensim import corpora, models\n",
    "from nltk.stem import WordNetLemmatizer, SnowballStemmer\n",
    "from nltk.stem.porter import *\n",
    "%matplotlib inline"
   ]
  },
  {
   "cell_type": "code",
   "execution_count": 2,
   "id": "ba1c1c6f-83d2-475a-9420-00ce7fc73df5",
   "metadata": {},
   "outputs": [
    {
     "name": "stderr",
     "output_type": "stream",
     "text": [
      "[nltk_data] Downloading package wordnet to /Users/percyd/nltk_data...\n",
      "[nltk_data]   Package wordnet is already up-to-date!\n",
      "[nltk_data] Downloading package omw-1.4 to /Users/percyd/nltk_data...\n",
      "[nltk_data]   Package omw-1.4 is already up-to-date!\n"
     ]
    }
   ],
   "source": [
    "np.random.seed(2018)\n",
    "nltk.download('wordnet')\n",
    "nltk.download('omw-1.4')\n",
    "logging.basicConfig(format='%(asctime)s : %(levelname)s : %(message)s', level=logging.ERROR)"
   ]
  },
  {
   "cell_type": "code",
   "execution_count": 3,
   "id": "7f04c1ea-60a6-48e8-9d06-10e90ec728e8",
   "metadata": {},
   "outputs": [],
   "source": [
    "stemmer = SnowballStemmer('english')"
   ]
  },
  {
   "cell_type": "code",
   "execution_count": 4,
   "id": "2aba5fae-df5e-45c7-b33e-13272ced752c",
   "metadata": {},
   "outputs": [],
   "source": [
    "def lemmatize_stemming(text):\n",
    "    return stemmer.stem(WordNetLemmatizer().lemmatize(text, pos='v'))\n",
    "def preprocess(text):\n",
    "    result = []\n",
    "    for token in simple_preprocess(text):\n",
    "        if token not in STOPWORDS and len(token) > 3:\n",
    "            result.append(lemmatize_stemming(token))\n",
    "    return result"
   ]
  },
  {
   "cell_type": "code",
   "execution_count": 6,
   "id": "c59b15d0-625d-47cb-bab5-8f84572e3f99",
   "metadata": {},
   "outputs": [
    {
     "name": "stderr",
     "output_type": "stream",
     "text": [
      "/var/folders/tl/jg9ncc9x4vnfwb17tjw2ms480000gn/T/ipykernel_71041/1950715145.py:1: FutureWarning: The error_bad_lines argument has been deprecated and will be removed in a future version. Use on_bad_lines in the future.\n",
      "\n",
      "\n",
      "  df = pd.read_csv('./output1.csv', parse_dates=['FRI_RELEASE_DAYBO', 'TUE_V_RELEASE'], error_bad_lines=False)\n"
     ]
    }
   ],
   "source": [
    "df = pd.read_csv('./output1.csv', parse_dates=['FRI_RELEASE_DAYBO', 'TUE_V_RELEASE'], error_bad_lines=False)"
   ]
  },
  {
   "cell_type": "code",
   "execution_count": 7,
   "id": "be69900b-cf99-4278-bc36-c15bac6da856",
   "metadata": {},
   "outputs": [],
   "source": [
    "df = df.drop('Unnamed: 0', axis=1)"
   ]
  },
  {
   "cell_type": "code",
   "execution_count": 8,
   "id": "90364b94-b472-4c2f-b06c-e96a25fb2e2e",
   "metadata": {},
   "outputs": [],
   "source": [
    "test_df = df.loc[df['MOJO_title']=='Black Panther'].reset_index(drop=True)"
   ]
  },
  {
   "cell_type": "code",
   "execution_count": 9,
   "id": "fa07c051-b685-4edc-9f54-f6f75b272860",
   "metadata": {},
   "outputs": [
    {
     "data": {
      "text/html": [
       "<div>\n",
       "<style scoped>\n",
       "    .dataframe tbody tr th:only-of-type {\n",
       "        vertical-align: middle;\n",
       "    }\n",
       "\n",
       "    .dataframe tbody tr th {\n",
       "        vertical-align: top;\n",
       "    }\n",
       "\n",
       "    .dataframe thead th {\n",
       "        text-align: right;\n",
       "    }\n",
       "</style>\n",
       "<table border=\"1\" class=\"dataframe\">\n",
       "  <thead>\n",
       "    <tr style=\"text-align: right;\">\n",
       "      <th></th>\n",
       "      <th>IMDB_ID</th>\n",
       "      <th>MOJO_title</th>\n",
       "      <th>FRI_RELEASE_DAYBO</th>\n",
       "      <th>TUE_V_RELEASE</th>\n",
       "      <th>imdb_url</th>\n",
       "      <th>user</th>\n",
       "      <th>user_url</th>\n",
       "      <th>review_date</th>\n",
       "      <th>review_title</th>\n",
       "      <th>review</th>\n",
       "      <th>review_len</th>\n",
       "    </tr>\n",
       "  </thead>\n",
       "  <tbody>\n",
       "    <tr>\n",
       "      <th>0</th>\n",
       "      <td>tt1825683</td>\n",
       "      <td>Black Panther</td>\n",
       "      <td>2018-02-16</td>\n",
       "      <td>2018-05-08</td>\n",
       "      <td>https://www.imdb.com/title/tt1825683/reviews</td>\n",
       "      <td>Hitchcoc</td>\n",
       "      <td>http://imdb.com//user/ur0278527/?ref_=tt_urv</td>\n",
       "      <td>7 August 2020</td>\n",
       "      <td>Dull</td>\n",
       "      <td>I don't have a comic book background (well I d...</td>\n",
       "      <td>657</td>\n",
       "    </tr>\n",
       "    <tr>\n",
       "      <th>1</th>\n",
       "      <td>tt1825683</td>\n",
       "      <td>Black Panther</td>\n",
       "      <td>2018-02-16</td>\n",
       "      <td>2018-05-08</td>\n",
       "      <td>https://www.imdb.com/title/tt1825683/reviews</td>\n",
       "      <td>janmanuel2</td>\n",
       "      <td>http://imdb.com//user/ur42723874/?ref_=tt_urv</td>\n",
       "      <td>21 October 2018</td>\n",
       "      <td>I liked it at first.</td>\n",
       "      <td>I am between a 5 and a 6 on this. It was vastl...</td>\n",
       "      <td>406</td>\n",
       "    </tr>\n",
       "    <tr>\n",
       "      <th>2</th>\n",
       "      <td>tt1825683</td>\n",
       "      <td>Black Panther</td>\n",
       "      <td>2018-02-16</td>\n",
       "      <td>2018-05-08</td>\n",
       "      <td>https://www.imdb.com/title/tt1825683/reviews</td>\n",
       "      <td>Sleepin_Dragon</td>\n",
       "      <td>http://imdb.com//user/ur15311310/?ref_=tt_urv</td>\n",
       "      <td>5 April 2018</td>\n",
       "      <td>I wish I enjoyed it like so many, it just bore...</td>\n",
       "      <td>I feel so bad giving this film a poor rating, ...</td>\n",
       "      <td>656</td>\n",
       "    </tr>\n",
       "    <tr>\n",
       "      <th>3</th>\n",
       "      <td>tt1825683</td>\n",
       "      <td>Black Panther</td>\n",
       "      <td>2018-02-16</td>\n",
       "      <td>2018-05-08</td>\n",
       "      <td>https://www.imdb.com/title/tt1825683/reviews</td>\n",
       "      <td>grantss</td>\n",
       "      <td>http://imdb.com//user/ur2860723/?ref_=tt_urv</td>\n",
       "      <td>10 November 2018</td>\n",
       "      <td>Despite all the hype, pretty much your average...</td>\n",
       "      <td>After the death of his father, Prince T'Challa...</td>\n",
       "      <td>744</td>\n",
       "    </tr>\n",
       "    <tr>\n",
       "      <th>4</th>\n",
       "      <td>tt1825683</td>\n",
       "      <td>Black Panther</td>\n",
       "      <td>2018-02-16</td>\n",
       "      <td>2018-05-08</td>\n",
       "      <td>https://www.imdb.com/title/tt1825683/reviews</td>\n",
       "      <td>generationofswine</td>\n",
       "      <td>http://imdb.com//user/ur14520497/?ref_=tt_urv</td>\n",
       "      <td>18 February 2018</td>\n",
       "      <td>An Honest Review</td>\n",
       "      <td>I guess, because of the hype, I was expecting ...</td>\n",
       "      <td>3428</td>\n",
       "    </tr>\n",
       "    <tr>\n",
       "      <th>...</th>\n",
       "      <td>...</td>\n",
       "      <td>...</td>\n",
       "      <td>...</td>\n",
       "      <td>...</td>\n",
       "      <td>...</td>\n",
       "      <td>...</td>\n",
       "      <td>...</td>\n",
       "      <td>...</td>\n",
       "      <td>...</td>\n",
       "      <td>...</td>\n",
       "      <td>...</td>\n",
       "    </tr>\n",
       "    <tr>\n",
       "      <th>3465</th>\n",
       "      <td>tt1825683</td>\n",
       "      <td>Black Panther</td>\n",
       "      <td>2018-02-16</td>\n",
       "      <td>2018-05-08</td>\n",
       "      <td>https://www.imdb.com/title/tt1825683/reviews</td>\n",
       "      <td>linagissberg</td>\n",
       "      <td>http://imdb.com//user/ur91552419/?ref_=tt_urv</td>\n",
       "      <td>23 August 2018</td>\n",
       "      <td>Glorious fantasy Africa!</td>\n",
       "      <td>People are generally too hard on this movie (o...</td>\n",
       "      <td>1104</td>\n",
       "    </tr>\n",
       "    <tr>\n",
       "      <th>3466</th>\n",
       "      <td>tt1825683</td>\n",
       "      <td>Black Panther</td>\n",
       "      <td>2018-02-16</td>\n",
       "      <td>2018-05-08</td>\n",
       "      <td>https://www.imdb.com/title/tt1825683/reviews</td>\n",
       "      <td>barkbarkbobo</td>\n",
       "      <td>http://imdb.com//user/ur92439754/?ref_=tt_urv</td>\n",
       "      <td>12 September 2018</td>\n",
       "      <td>Fun, strong storyline, action-packed, beautiful</td>\n",
       "      <td>I just watched Black Panther for the first tim...</td>\n",
       "      <td>522</td>\n",
       "    </tr>\n",
       "    <tr>\n",
       "      <th>3467</th>\n",
       "      <td>tt1825683</td>\n",
       "      <td>Black Panther</td>\n",
       "      <td>2018-02-16</td>\n",
       "      <td>2018-05-08</td>\n",
       "      <td>https://www.imdb.com/title/tt1825683/reviews</td>\n",
       "      <td>qazwerty1</td>\n",
       "      <td>http://imdb.com//user/ur9511545/?ref_=tt_urv</td>\n",
       "      <td>13 May 2018</td>\n",
       "      <td>Really Good Marvel Movie</td>\n",
       "      <td>If you like Marvel super hero movies then you'...</td>\n",
       "      <td>229</td>\n",
       "    </tr>\n",
       "    <tr>\n",
       "      <th>3468</th>\n",
       "      <td>tt1825683</td>\n",
       "      <td>Black Panther</td>\n",
       "      <td>2018-02-16</td>\n",
       "      <td>2018-05-08</td>\n",
       "      <td>https://www.imdb.com/title/tt1825683/reviews</td>\n",
       "      <td>wfh-28059</td>\n",
       "      <td>http://imdb.com//user/ur99529011/?ref_=tt_urv</td>\n",
       "      <td>20 February 2019</td>\n",
       "      <td>Commentary on the Contemporary World</td>\n",
       "      <td>Today in the United States and around the worl...</td>\n",
       "      <td>3810</td>\n",
       "    </tr>\n",
       "    <tr>\n",
       "      <th>3469</th>\n",
       "      <td>tt1825683</td>\n",
       "      <td>Black Panther</td>\n",
       "      <td>2018-02-16</td>\n",
       "      <td>2018-05-08</td>\n",
       "      <td>https://www.imdb.com/title/tt1825683/reviews</td>\n",
       "      <td>gastonhorne</td>\n",
       "      <td>http://imdb.com//user/ur99814413/?ref_=tt_urv</td>\n",
       "      <td>28 February 2019</td>\n",
       "      <td>Not Perfect, But Entertaining With a Message</td>\n",
       "      <td>This movie definitely isn't as perfect as it's...</td>\n",
       "      <td>374</td>\n",
       "    </tr>\n",
       "  </tbody>\n",
       "</table>\n",
       "<p>3470 rows × 11 columns</p>\n",
       "</div>"
      ],
      "text/plain": [
       "        IMDB_ID     MOJO_title FRI_RELEASE_DAYBO TUE_V_RELEASE  \\\n",
       "0     tt1825683  Black Panther        2018-02-16    2018-05-08   \n",
       "1     tt1825683  Black Panther        2018-02-16    2018-05-08   \n",
       "2     tt1825683  Black Panther        2018-02-16    2018-05-08   \n",
       "3     tt1825683  Black Panther        2018-02-16    2018-05-08   \n",
       "4     tt1825683  Black Panther        2018-02-16    2018-05-08   \n",
       "...         ...            ...               ...           ...   \n",
       "3465  tt1825683  Black Panther        2018-02-16    2018-05-08   \n",
       "3466  tt1825683  Black Panther        2018-02-16    2018-05-08   \n",
       "3467  tt1825683  Black Panther        2018-02-16    2018-05-08   \n",
       "3468  tt1825683  Black Panther        2018-02-16    2018-05-08   \n",
       "3469  tt1825683  Black Panther        2018-02-16    2018-05-08   \n",
       "\n",
       "                                          imdb_url               user  \\\n",
       "0     https://www.imdb.com/title/tt1825683/reviews           Hitchcoc   \n",
       "1     https://www.imdb.com/title/tt1825683/reviews         janmanuel2   \n",
       "2     https://www.imdb.com/title/tt1825683/reviews     Sleepin_Dragon   \n",
       "3     https://www.imdb.com/title/tt1825683/reviews            grantss   \n",
       "4     https://www.imdb.com/title/tt1825683/reviews  generationofswine   \n",
       "...                                            ...                ...   \n",
       "3465  https://www.imdb.com/title/tt1825683/reviews       linagissberg   \n",
       "3466  https://www.imdb.com/title/tt1825683/reviews       barkbarkbobo   \n",
       "3467  https://www.imdb.com/title/tt1825683/reviews          qazwerty1   \n",
       "3468  https://www.imdb.com/title/tt1825683/reviews          wfh-28059   \n",
       "3469  https://www.imdb.com/title/tt1825683/reviews        gastonhorne   \n",
       "\n",
       "                                           user_url        review_date  \\\n",
       "0      http://imdb.com//user/ur0278527/?ref_=tt_urv      7 August 2020   \n",
       "1     http://imdb.com//user/ur42723874/?ref_=tt_urv    21 October 2018   \n",
       "2     http://imdb.com//user/ur15311310/?ref_=tt_urv       5 April 2018   \n",
       "3      http://imdb.com//user/ur2860723/?ref_=tt_urv   10 November 2018   \n",
       "4     http://imdb.com//user/ur14520497/?ref_=tt_urv   18 February 2018   \n",
       "...                                             ...                ...   \n",
       "3465  http://imdb.com//user/ur91552419/?ref_=tt_urv     23 August 2018   \n",
       "3466  http://imdb.com//user/ur92439754/?ref_=tt_urv  12 September 2018   \n",
       "3467   http://imdb.com//user/ur9511545/?ref_=tt_urv        13 May 2018   \n",
       "3468  http://imdb.com//user/ur99529011/?ref_=tt_urv   20 February 2019   \n",
       "3469  http://imdb.com//user/ur99814413/?ref_=tt_urv   28 February 2019   \n",
       "\n",
       "                                           review_title  \\\n",
       "0                                                  Dull   \n",
       "1                                  I liked it at first.   \n",
       "2     I wish I enjoyed it like so many, it just bore...   \n",
       "3     Despite all the hype, pretty much your average...   \n",
       "4                                      An Honest Review   \n",
       "...                                                 ...   \n",
       "3465                           Glorious fantasy Africa!   \n",
       "3466    Fun, strong storyline, action-packed, beautiful   \n",
       "3467                           Really Good Marvel Movie   \n",
       "3468               Commentary on the Contemporary World   \n",
       "3469       Not Perfect, But Entertaining With a Message   \n",
       "\n",
       "                                                 review  review_len  \n",
       "0     I don't have a comic book background (well I d...         657  \n",
       "1     I am between a 5 and a 6 on this. It was vastl...         406  \n",
       "2     I feel so bad giving this film a poor rating, ...         656  \n",
       "3     After the death of his father, Prince T'Challa...         744  \n",
       "4     I guess, because of the hype, I was expecting ...        3428  \n",
       "...                                                 ...         ...  \n",
       "3465  People are generally too hard on this movie (o...        1104  \n",
       "3466  I just watched Black Panther for the first tim...         522  \n",
       "3467  If you like Marvel super hero movies then you'...         229  \n",
       "3468  Today in the United States and around the worl...        3810  \n",
       "3469  This movie definitely isn't as perfect as it's...         374  \n",
       "\n",
       "[3470 rows x 11 columns]"
      ]
     },
     "execution_count": 9,
     "metadata": {},
     "output_type": "execute_result"
    }
   ],
   "source": [
    "test_df"
   ]
  },
  {
   "cell_type": "code",
   "execution_count": 10,
   "id": "44fea2ca-1118-4946-b06d-6353f06f1c77",
   "metadata": {},
   "outputs": [],
   "source": [
    "processed_docs = test_df['review'].map(preprocess)"
   ]
  },
  {
   "cell_type": "code",
   "execution_count": 11,
   "id": "7502e473-42cc-416a-ab33-7252939c1517",
   "metadata": {},
   "outputs": [
    {
     "data": {
      "text/plain": [
       "0    [comic, book, background, year, film, predispo...\n",
       "1    [vast, overr, profession, review, sure, review...\n",
       "2    [feel, give, film, poor, rat, feel, import, re...\n",
       "3    [death, father, princ, challa, ascend, throne,...\n",
       "4    [guess, hype, expect, best, marvel, movi, best...\n",
       "5    [black, panther, great, decept, viewer, brain,...\n",
       "6    [want, black, panther, anticip, film, earli, h...\n",
       "7    [suppos, newest, best, marvel, movi, suppos, d...\n",
       "8    [hype, surround, movi, excel, trailer, kendric...\n",
       "9    [cinematographi, film, obvious, come, expect, ...\n",
       "Name: review, dtype: object"
      ]
     },
     "execution_count": 11,
     "metadata": {},
     "output_type": "execute_result"
    }
   ],
   "source": [
    "processed_docs[:10]"
   ]
  },
  {
   "cell_type": "code",
   "execution_count": 12,
   "id": "ae6655ed-18e5-42ae-8b9d-c4c54cbdc135",
   "metadata": {},
   "outputs": [],
   "source": [
    "dictionary = Dictionary(processed_docs)"
   ]
  },
  {
   "cell_type": "code",
   "execution_count": 24,
   "id": "068aafd3-b005-4f65-84b1-9f0fd7c620eb",
   "metadata": {},
   "outputs": [],
   "source": [
    "dictionary.filter_extremes(no_below=15, no_above=0.5, keep_n=100000)"
   ]
  },
  {
   "cell_type": "code",
   "execution_count": 13,
   "id": "224a432d-f39a-4181-9dca-ef348eafc8e4",
   "metadata": {},
   "outputs": [],
   "source": [
    "bow_corpus = [dictionary.doc2bow(doc) for doc in processed_docs]"
   ]
  },
  {
   "cell_type": "code",
   "execution_count": 19,
   "id": "8ba202ac-ae6f-4fb6-a0d1-2458f6d2163d",
   "metadata": {},
   "outputs": [],
   "source": [
    "bigram = gensim.models.Phrases(processed_docs, min_count=5, threshold=100)\n",
    "trigram = gensim.models.Phrases(bigram[processed_docs], threshold=100)"
   ]
  },
  {
   "cell_type": "code",
   "execution_count": 20,
   "id": "cb64ee10-abc3-4d15-9e22-78befd934def",
   "metadata": {},
   "outputs": [],
   "source": [
    "bigram_mod = gensim.models.phrases.Phraser(bigram)\n",
    "trigram_mod = gensim.models.phrases.Phraser(trigram)"
   ]
  },
  {
   "cell_type": "code",
   "execution_count": 26,
   "id": "7cda1cb8-baf3-4cd4-a51d-3051a939d627",
   "metadata": {},
   "outputs": [
    {
     "name": "stdout",
     "output_type": "stream",
     "text": [
      "Word 21 (\"littl\") appears 1 time.\n",
      "Word 34 (\"think\") appears 1 time.\n",
      "Word 50 (\"movi\") appears 4 time.\n",
      "Word 76 (\"great\") appears 2 time.\n",
      "Word 95 (\"action\") appears 1 time.\n",
      "Word 134 (\"usual\") appears 1 time.\n",
      "Word 167 (\"disappoint\") appears 1 time.\n",
      "Word 174 (\"expect\") appears 1 time.\n",
      "Word 178 (\"fair\") appears 1 time.\n",
      "Word 185 (\"go\") appears 1 time.\n",
      "Word 236 (\"tell\") appears 1 time.\n",
      "Word 237 (\"time\") appears 1 time.\n",
      "Word 301 (\"anticip\") appears 1 time.\n",
      "Word 305 (\"begin\") appears 1 time.\n",
      "Word 358 (\"good\") appears 1 time.\n",
      "Word 384 (\"long\") appears 1 time.\n",
      "Word 397 (\"open\") appears 1 time.\n",
      "Word 438 (\"stori\") appears 1 time.\n",
      "Word 464 (\"weekend\") appears 1 time.\n",
      "Word 472 (\"enjoy\") appears 1 time.\n",
      "Word 541 (\"famili\") appears 1 time.\n",
      "Word 566 (\"line\") appears 2 time.\n",
      "Word 761 (\"wish\") appears 1 time.\n",
      "Word 762 (\"worth\") appears 1 time.\n",
      "Word 779 (\"hour\") appears 1 time.\n",
      "Word 1068 (\"wait\") appears 2 time.\n",
      "Word 2808 (\"lengthi\") appears 1 time.\n",
      "Word 9546 (\"squeal\") appears 1 time.\n"
     ]
    }
   ],
   "source": [
    "bow_doc_3000 = bow_corpus[3000]\n",
    "data = []\n",
    "weight = []\n",
    "for i in range(len(bow_doc_3000)):\n",
    "    weight.append(bow_doc_3000[i][1])\n",
    "    data.append(dictionary[bow_doc_3000[i][0]])\n",
    "    print(\"Word {} (\\\"{}\\\") appears {} time.\".format(bow_doc_3000[i][0], \n",
    "                                                     dictionary[bow_doc_3000[i][0]], \n",
    "                                                     bow_doc_3000[i][1]))"
   ]
  },
  {
   "cell_type": "code",
   "execution_count": 28,
   "id": "57cd13b5-c43a-4505-8c6c-ab72839643df",
   "metadata": {},
   "outputs": [
    {
     "data": {
      "image/png": "[encoded data removed]",
      "text/plain": [
       "<Figure size 640x480 with 1 Axes>"
      ]
     },
     "metadata": {},
     "output_type": "display_data"
    }
   ],
   "source": [
    "plt.hist(x=data, weights=weight, orientation='horizontal')\n",
    "plt.grid()"
   ]
  },
  {
   "cell_type": "code",
   "execution_count": 34,
   "id": "7f0047b7-1eb4-4e00-9227-1fe13530b166",
   "metadata": {},
   "outputs": [],
   "source": [
    "tfidf = models.TfidfModel(bow_corpus)\n",
    "corpus_tfidf = tfidf[bow_corpus]"
   ]
  },
  {
   "cell_type": "code",
   "execution_count": 35,
   "id": "0c975981-5e88-4d18-9a04-d1d29e26f790",
   "metadata": {},
   "outputs": [],
   "source": [
    "LDA = models.LdaMulticore(bow_corpus, num_topics=10, id2word=dictionary, passes=2, workers=2)"
   ]
  },
  {
   "cell_type": "code",
   "execution_count": 36,
   "id": "1fed1fc2-eead-465b-ae5f-79c57bcc06b3",
   "metadata": {},
   "outputs": [
    {
     "name": "stdout",
     "output_type": "stream",
     "text": [
      "Topic: 0 \n",
      "Words: 0.021*\"black\" + 0.014*\"panther\" + 0.013*\"wakanda\" + 0.013*\"marvel\" + 0.012*\"film\" + 0.010*\"african\" + 0.009*\"charact\" + 0.009*\"peopl\" + 0.009*\"killmong\" + 0.008*\"challa\"\n",
      "Topic: 1 \n",
      "Words: 0.030*\"film\" + 0.026*\"like\" + 0.020*\"marvel\" + 0.018*\"black\" + 0.012*\"good\" + 0.012*\"panther\" + 0.010*\"charact\" + 0.010*\"peopl\" + 0.009*\"action\" + 0.009*\"scene\"\n",
      "Topic: 2 \n",
      "Words: 0.019*\"like\" + 0.017*\"charact\" + 0.017*\"film\" + 0.016*\"marvel\" + 0.013*\"black\" + 0.012*\"great\" + 0.012*\"panther\" + 0.011*\"time\" + 0.011*\"good\" + 0.010*\"action\"\n",
      "Topic: 3 \n",
      "Words: 0.032*\"film\" + 0.026*\"black\" + 0.018*\"charact\" + 0.018*\"panther\" + 0.011*\"marvel\" + 0.010*\"like\" + 0.009*\"good\" + 0.009*\"wakanda\" + 0.008*\"best\" + 0.008*\"stori\"\n",
      "Topic: 4 \n",
      "Words: 0.034*\"black\" + 0.017*\"panther\" + 0.014*\"marvel\" + 0.012*\"challa\" + 0.012*\"film\" + 0.011*\"wakanda\" + 0.010*\"world\" + 0.010*\"peopl\" + 0.009*\"like\" + 0.008*\"watch\"\n",
      "Topic: 5 \n",
      "Words: 0.029*\"film\" + 0.014*\"black\" + 0.012*\"marvel\" + 0.012*\"like\" + 0.012*\"watch\" + 0.012*\"african\" + 0.010*\"charact\" + 0.008*\"good\" + 0.008*\"peopl\" + 0.008*\"think\"\n",
      "Topic: 6 \n",
      "Words: 0.028*\"black\" + 0.023*\"panther\" + 0.015*\"great\" + 0.015*\"marvel\" + 0.014*\"watch\" + 0.013*\"charact\" + 0.012*\"stori\" + 0.012*\"good\" + 0.010*\"film\" + 0.008*\"peopl\"\n",
      "Topic: 7 \n",
      "Words: 0.030*\"panther\" + 0.029*\"film\" + 0.027*\"black\" + 0.019*\"good\" + 0.015*\"charact\" + 0.010*\"villain\" + 0.010*\"stori\" + 0.009*\"wakanda\" + 0.008*\"marvel\" + 0.008*\"like\"\n",
      "Topic: 8 \n",
      "Words: 0.020*\"stori\" + 0.015*\"good\" + 0.014*\"marvel\" + 0.013*\"black\" + 0.013*\"film\" + 0.013*\"charact\" + 0.012*\"panther\" + 0.010*\"great\" + 0.010*\"action\" + 0.010*\"like\"\n",
      "Topic: 9 \n",
      "Words: 0.022*\"black\" + 0.017*\"panther\" + 0.016*\"marvel\" + 0.014*\"film\" + 0.012*\"like\" + 0.012*\"great\" + 0.011*\"best\" + 0.010*\"challa\" + 0.010*\"good\" + 0.009*\"amaz\"\n"
     ]
    }
   ],
   "source": [
    "for idx, topic in LDA.print_topics(-1):\n",
    "    print('Topic: {} \\nWords: {}'.format(idx, topic))"
   ]
  },
  {
   "cell_type": "code",
   "execution_count": 40,
   "id": "6c1bd478-33e8-48e9-a4ce-f82cb355ba58",
   "metadata": {},
   "outputs": [],
   "source": [
    "lda_tfidf = gensim.models.LdaMulticore(corpus_tfidf, num_topics=10, id2word=dictionary, passes=2, workers=4)"
   ]
  },
  {
   "cell_type": "code",
   "execution_count": 39,
   "id": "0da031dd-a619-4228-84b6-c496f27d72f8",
   "metadata": {},
   "outputs": [
    {
     "name": "stdout",
     "output_type": "stream",
     "text": [
      "Topic: 0 \n",
      "Word: 0.008*\"film\" + 0.005*\"marvel\" + 0.005*\"watch\" + 0.005*\"good\" + 0.005*\"great\" + 0.005*\"bore\" + 0.005*\"action\" + 0.005*\"charact\" + 0.005*\"worst\" + 0.005*\"act\"\n",
      "Topic: 1 \n",
      "Word: 0.007*\"film\" + 0.006*\"like\" + 0.005*\"black\" + 0.005*\"marvel\" + 0.004*\"bore\" + 0.004*\"watch\" + 0.004*\"wakanda\" + 0.004*\"charact\" + 0.004*\"good\" + 0.004*\"great\"\n",
      "Topic: 2 \n",
      "Word: 0.007*\"film\" + 0.006*\"marvel\" + 0.005*\"like\" + 0.005*\"black\" + 0.005*\"great\" + 0.005*\"charact\" + 0.005*\"panther\" + 0.005*\"good\" + 0.005*\"love\" + 0.004*\"best\"\n",
      "Topic: 3 \n",
      "Word: 0.008*\"film\" + 0.006*\"black\" + 0.006*\"watch\" + 0.005*\"review\" + 0.005*\"panther\" + 0.005*\"good\" + 0.005*\"great\" + 0.005*\"marvel\" + 0.004*\"superhero\" + 0.004*\"rat\"\n",
      "Topic: 4 \n",
      "Word: 0.007*\"film\" + 0.006*\"black\" + 0.006*\"panther\" + 0.005*\"good\" + 0.005*\"great\" + 0.005*\"charact\" + 0.005*\"watch\" + 0.004*\"wakanda\" + 0.004*\"like\" + 0.004*\"amaz\"\n",
      "Topic: 5 \n",
      "Word: 0.007*\"film\" + 0.006*\"marvel\" + 0.006*\"great\" + 0.006*\"good\" + 0.005*\"stori\" + 0.005*\"black\" + 0.005*\"effect\" + 0.005*\"watch\" + 0.005*\"best\" + 0.004*\"charact\"\n",
      "Topic: 6 \n",
      "Word: 0.009*\"film\" + 0.006*\"good\" + 0.006*\"watch\" + 0.006*\"marvel\" + 0.005*\"black\" + 0.005*\"best\" + 0.005*\"hype\" + 0.005*\"like\" + 0.005*\"panther\" + 0.005*\"charact\"\n",
      "Topic: 7 \n",
      "Word: 0.006*\"good\" + 0.006*\"film\" + 0.006*\"marvel\" + 0.005*\"charact\" + 0.005*\"enjoy\" + 0.005*\"panther\" + 0.005*\"black\" + 0.004*\"scene\" + 0.004*\"stori\" + 0.004*\"like\"\n",
      "Topic: 8 \n",
      "Word: 0.006*\"black\" + 0.006*\"film\" + 0.005*\"panther\" + 0.005*\"marvel\" + 0.005*\"act\" + 0.005*\"good\" + 0.005*\"like\" + 0.005*\"stori\" + 0.005*\"time\" + 0.004*\"love\"\n",
      "Topic: 9 \n",
      "Word: 0.008*\"film\" + 0.006*\"great\" + 0.006*\"like\" + 0.006*\"good\" + 0.005*\"black\" + 0.005*\"stori\" + 0.005*\"watch\" + 0.005*\"marvel\" + 0.005*\"time\" + 0.004*\"think\"\n"
     ]
    }
   ],
   "source": [
    "for idx, topic in lda_tfidf.print_topics(-1):\n",
    "    print('Topic: {} \\nWord: {}'.format(idx, topic))"
   ]
  },
  {
   "cell_type": "code",
   "execution_count": 49,
   "id": "79f24683-1dcd-452f-bae7-0cb187a593c6",
   "metadata": {},
   "outputs": [
    {
     "data": {
      "text/plain": [
       "array(['time', 'go', 'movi', 'open', 'weekend', 'expect', 'wait', 'line',\n",
       "       'hour', 'wait', 'worth', 'enjoy', 'movi', 'think', 'stori', 'line',\n",
       "       'great', 'tell', 'fair', 'lengthi', 'movi', 'usual', 'long',\n",
       "       'movi', 'good', 'begin', 'wish', 'littl', 'action', 'disappoint',\n",
       "       'anticip', 'squeal', 'famili', 'great'], dtype='<U10')"
      ]
     },
     "execution_count": 49,
     "metadata": {},
     "output_type": "execute_result"
    }
   ],
   "source": [
    "np.array(processed_docs[3000]).T"
   ]
  },
  {
   "cell_type": "code",
   "execution_count": 47,
   "id": "942f148c-3443-4b2e-85ee-563c0bc7d7ab",
   "metadata": {},
   "outputs": [
    {
     "name": "stdout",
     "output_type": "stream",
     "text": [
      "\n",
      "Score: 0.9689546823501587\t \n",
      "Topic: 0.020*\"stori\" + 0.015*\"good\" + 0.014*\"marvel\" + 0.013*\"black\" + 0.013*\"film\" + 0.013*\"charact\" + 0.012*\"panther\" + 0.010*\"great\" + 0.010*\"action\" + 0.010*\"like\"\n"
     ]
    }
   ],
   "source": [
    "for index, score in sorted(LDA[bow_corpus[3000]], key=lambda tup: -1*tup[1]):\n",
    "    print(\"\\nScore: {}\\t \\nTopic: {}\".format(score, LDA.print_topic(index, 10)))"
   ]
  },
  {
   "cell_type": "code",
   "execution_count": 48,
   "id": "a0ee5591-c9c1-4299-beae-c98b4bf7b52d",
   "metadata": {},
   "outputs": [
    {
     "name": "stdout",
     "output_type": "stream",
     "text": [
      "\n",
      "Score: 0.9208158254623413\t \n",
      "Topic: 0.008*\"film\" + 0.007*\"great\" + 0.005*\"black\" + 0.005*\"good\" + 0.005*\"best\" + 0.005*\"marvel\" + 0.005*\"panther\" + 0.005*\"watch\" + 0.004*\"stori\" + 0.004*\"like\"\n",
      "\n",
      "Score: 0.05158662050962448\t \n",
      "Topic: 0.009*\"marvel\" + 0.008*\"best\" + 0.008*\"film\" + 0.007*\"watch\" + 0.007*\"good\" + 0.007*\"hype\" + 0.006*\"disappoint\" + 0.005*\"like\" + 0.005*\"expect\" + 0.005*\"bore\"\n"
     ]
    }
   ],
   "source": [
    "for index, score in sorted(lda_tfidf[bow_corpus[3000]], key=lambda tup: -1*tup[1]):\n",
    "    print(\"\\nScore: {}\\t \\nTopic: {}\".format(score, lda_tfidf.print_topic(index, 10)))"
   ]
  },
  {
   "cell_type": "code",
   "execution_count": 30,
   "id": "85e5406c-d409-4976-bbce-cb8dd383faec",
   "metadata": {},
   "outputs": [],
   "source": [
    "lda_model = gensim.models.ldamodel.LdaModel(corpus=bow_corpus, id2word=dictionary, num_topics=25, random_state=100, update_every=1, chunksize=100, passes=10, alpha='auto', per_word_topics=True)"
   ]
  },
  {
   "cell_type": "code",
   "execution_count": 32,
   "id": "e733d321-234a-490a-b338-c7d9ce93505a",
   "metadata": {},
   "outputs": [],
   "source": [
    "coherence_model_lda = CoherenceModel(model=lda_model, texts=processed_docs, dictionary=dictionary, coherence='c_v')"
   ]
  },
  {
   "cell_type": "code",
   "execution_count": 33,
   "id": "3846e2c7-91b0-4d10-8e54-043be4ff9fc3",
   "metadata": {},
   "outputs": [
    {
     "name": "stdout",
     "output_type": "stream",
     "text": [
      "\n",
      "Coherence Score:  0.4704121262814803\n"
     ]
    }
   ],
   "source": [
    "coherence_lda = coherence_model_lda.get_coherence()\n",
    "print('\\nCoherence Score: ', coherence_lda)"
   ]
  },
  {
   "cell_type": "code",
   "execution_count": 34,
   "id": "c376ee22-5f01-4d45-bda8-df0e5ef3a49b",
   "metadata": {},
   "outputs": [
    {
     "name": "stdout",
     "output_type": "stream",
     "text": [
      "\n",
      "Perplexity:  -9.904923890202607\n"
     ]
    }
   ],
   "source": [
    "print('\\nPerplexity: ', lda_model.log_perplexity(bow_corpus))"
   ]
  },
  {
   "cell_type": "code",
   "execution_count": 36,
   "id": "aed62143-9a05-4138-87b7-ba7236482c42",
   "metadata": {},
   "outputs": [
    {
     "name": "stderr",
     "output_type": "stream",
     "text": [
      "/opt/anaconda3/lib/python3.8/site-packages/pyLDAvis/_prepare.py:246: FutureWarning: In a future version of pandas all arguments of DataFrame.drop except for the argument 'labels' will be keyword-only.\n",
      "  default_term_info = default_term_info.sort_values(\n",
      "/opt/anaconda3/lib/python3.8/site-packages/past/builtins/misc.py:45: DeprecationWarning: the imp module is deprecated in favour of importlib; see the module's documentation for alternative uses\n",
      "  from imp import reload\n",
      "/opt/anaconda3/lib/python3.8/site-packages/past/builtins/misc.py:45: DeprecationWarning: the imp module is deprecated in favour of importlib; see the module's documentation for alternative uses\n",
      "  from imp import reload\n",
      "/opt/anaconda3/lib/python3.8/site-packages/past/builtins/misc.py:45: DeprecationWarning: the imp module is deprecated in favour of importlib; see the module's documentation for alternative uses\n",
      "  from imp import reload\n",
      "/opt/anaconda3/lib/python3.8/site-packages/past/builtins/misc.py:45: DeprecationWarning: the imp module is deprecated in favour of importlib; see the module's documentation for alternative uses\n",
      "  from imp import reload\n",
      "/opt/anaconda3/lib/python3.8/site-packages/past/builtins/misc.py:45: DeprecationWarning: the imp module is deprecated in favour of importlib; see the module's documentation for alternative uses\n",
      "  from imp import reload\n",
      "/opt/anaconda3/lib/python3.8/site-packages/past/builtins/misc.py:45: DeprecationWarning: the imp module is deprecated in favour of importlib; see the module's documentation for alternative uses\n",
      "  from imp import reload\n",
      "/opt/anaconda3/lib/python3.8/site-packages/past/builtins/misc.py:45: DeprecationWarning: the imp module is deprecated in favour of importlib; see the module's documentation for alternative uses\n",
      "  from imp import reload\n",
      "/opt/anaconda3/lib/python3.8/site-packages/past/builtins/misc.py:45: DeprecationWarning: the imp module is deprecated in favour of importlib; see the module's documentation for alternative uses\n",
      "  from imp import reload\n",
      "/opt/anaconda3/lib/python3.8/site-packages/joblib/backports.py:36: DeprecationWarning: distutils Version classes are deprecated. Use packaging.version instead.\n",
      "  if LooseVersion(np.__version__) < '1.13':\n",
      "/opt/anaconda3/lib/python3.8/site-packages/joblib/backports.py:36: DeprecationWarning: distutils Version classes are deprecated. Use packaging.version instead.\n",
      "  if LooseVersion(np.__version__) < '1.13':\n",
      "/opt/anaconda3/lib/python3.8/site-packages/joblib/backports.py:36: DeprecationWarning: distutils Version classes are deprecated. Use packaging.version instead.\n",
      "  if LooseVersion(np.__version__) < '1.13':\n",
      "/opt/anaconda3/lib/python3.8/site-packages/joblib/backports.py:36: DeprecationWarning: distutils Version classes are deprecated. Use packaging.version instead.\n",
      "  if LooseVersion(np.__version__) < '1.13':\n",
      "/opt/anaconda3/lib/python3.8/site-packages/joblib/backports.py:36: DeprecationWarning: distutils Version classes are deprecated. Use packaging.version instead.\n",
      "  if LooseVersion(np.__version__) < '1.13':\n",
      "/opt/anaconda3/lib/python3.8/site-packages/setuptools/_distutils/version.py:346: DeprecationWarning: distutils Version classes are deprecated. Use packaging.version instead.\n",
      "  other = LooseVersion(other)\n",
      "/opt/anaconda3/lib/python3.8/site-packages/setuptools/_distutils/version.py:346: DeprecationWarning: distutils Version classes are deprecated. Use packaging.version instead.\n",
      "  other = LooseVersion(other)\n",
      "/opt/anaconda3/lib/python3.8/site-packages/setuptools/_distutils/version.py:346: DeprecationWarning: distutils Version classes are deprecated. Use packaging.version instead.\n",
      "  other = LooseVersion(other)\n",
      "/opt/anaconda3/lib/python3.8/site-packages/setuptools/_distutils/version.py:346: DeprecationWarning: distutils Version classes are deprecated. Use packaging.version instead.\n",
      "  other = LooseVersion(other)\n",
      "/opt/anaconda3/lib/python3.8/site-packages/setuptools/_distutils/version.py:346: DeprecationWarning: distutils Version classes are deprecated. Use packaging.version instead.\n",
      "  other = LooseVersion(other)\n",
      "/opt/anaconda3/lib/python3.8/site-packages/joblib/backports.py:36: DeprecationWarning: distutils Version classes are deprecated. Use packaging.version instead.\n",
      "  if LooseVersion(np.__version__) < '1.13':\n",
      "/opt/anaconda3/lib/python3.8/site-packages/setuptools/_distutils/version.py:346: DeprecationWarning: distutils Version classes are deprecated. Use packaging.version instead.\n",
      "  other = LooseVersion(other)\n",
      "/opt/anaconda3/lib/python3.8/site-packages/joblib/backports.py:36: DeprecationWarning: distutils Version classes are deprecated. Use packaging.version instead.\n",
      "  if LooseVersion(np.__version__) < '1.13':\n",
      "/opt/anaconda3/lib/python3.8/site-packages/setuptools/_distutils/version.py:346: DeprecationWarning: distutils Version classes are deprecated. Use packaging.version instead.\n",
      "  other = LooseVersion(other)\n",
      "/opt/anaconda3/lib/python3.8/site-packages/joblib/backports.py:36: DeprecationWarning: distutils Version classes are deprecated. Use packaging.version instead.\n",
      "  if LooseVersion(np.__version__) < '1.13':\n",
      "/opt/anaconda3/lib/python3.8/site-packages/setuptools/_distutils/version.py:346: DeprecationWarning: distutils Version classes are deprecated. Use packaging.version instead.\n",
      "  other = LooseVersion(other)\n",
      "/opt/anaconda3/lib/python3.8/site-packages/joblib/backports.py:36: DeprecationWarning: distutils Version classes are deprecated. Use packaging.version instead.\n",
      "  if LooseVersion(np.__version__) < '1.13':\n",
      "/opt/anaconda3/lib/python3.8/site-packages/setuptools/_distutils/version.py:346: DeprecationWarning: distutils Version classes are deprecated. Use packaging.version instead.\n",
      "  other = LooseVersion(other)\n",
      "/opt/anaconda3/lib/python3.8/site-packages/joblib/backports.py:36: DeprecationWarning: distutils Version classes are deprecated. Use packaging.version instead.\n",
      "  if LooseVersion(np.__version__) < '1.13':\n",
      "/opt/anaconda3/lib/python3.8/site-packages/setuptools/_distutils/version.py:346: DeprecationWarning: distutils Version classes are deprecated. Use packaging.version instead.\n",
      "  other = LooseVersion(other)\n",
      "/opt/anaconda3/lib/python3.8/site-packages/joblib/backports.py:36: DeprecationWarning: distutils Version classes are deprecated. Use packaging.version instead.\n",
      "  if LooseVersion(np.__version__) < '1.13':\n",
      "/opt/anaconda3/lib/python3.8/site-packages/setuptools/_distutils/version.py:346: DeprecationWarning: distutils Version classes are deprecated. Use packaging.version instead.\n",
      "  other = LooseVersion(other)\n",
      "/opt/anaconda3/lib/python3.8/site-packages/joblib/backports.py:36: DeprecationWarning: distutils Version classes are deprecated. Use packaging.version instead.\n",
      "  if LooseVersion(np.__version__) < '1.13':\n",
      "/opt/anaconda3/lib/python3.8/site-packages/setuptools/_distutils/version.py:346: DeprecationWarning: distutils Version classes are deprecated. Use packaging.version instead.\n",
      "  other = LooseVersion(other)\n",
      "/opt/anaconda3/lib/python3.8/site-packages/joblib/backports.py:36: DeprecationWarning: distutils Version classes are deprecated. Use packaging.version instead.\n",
      "  if LooseVersion(np.__version__) < '1.13':\n",
      "/opt/anaconda3/lib/python3.8/site-packages/setuptools/_distutils/version.py:346: DeprecationWarning: distutils Version classes are deprecated. Use packaging.version instead.\n",
      "  other = LooseVersion(other)\n",
      "/opt/anaconda3/lib/python3.8/site-packages/joblib/backports.py:36: DeprecationWarning: distutils Version classes are deprecated. Use packaging.version instead.\n",
      "  if LooseVersion(np.__version__) < '1.13':\n",
      "/opt/anaconda3/lib/python3.8/site-packages/setuptools/_distutils/version.py:346: DeprecationWarning: distutils Version classes are deprecated. Use packaging.version instead.\n",
      "  other = LooseVersion(other)\n",
      "/opt/anaconda3/lib/python3.8/site-packages/joblib/backports.py:36: DeprecationWarning: distutils Version classes are deprecated. Use packaging.version instead.\n",
      "  if LooseVersion(np.__version__) < '1.13':\n",
      "/opt/anaconda3/lib/python3.8/site-packages/setuptools/_distutils/version.py:346: DeprecationWarning: distutils Version classes are deprecated. Use packaging.version instead.\n",
      "  other = LooseVersion(other)\n",
      "/opt/anaconda3/lib/python3.8/site-packages/joblib/backports.py:36: DeprecationWarning: distutils Version classes are deprecated. Use packaging.version instead.\n",
      "  if LooseVersion(np.__version__) < '1.13':\n",
      "/opt/anaconda3/lib/python3.8/site-packages/setuptools/_distutils/version.py:346: DeprecationWarning: distutils Version classes are deprecated. Use packaging.version instead.\n",
      "  other = LooseVersion(other)\n",
      "/opt/anaconda3/lib/python3.8/site-packages/joblib/backports.py:36: DeprecationWarning: distutils Version classes are deprecated. Use packaging.version instead.\n",
      "  if LooseVersion(np.__version__) < '1.13':\n",
      "/opt/anaconda3/lib/python3.8/site-packages/setuptools/_distutils/version.py:346: DeprecationWarning: distutils Version classes are deprecated. Use packaging.version instead.\n",
      "  other = LooseVersion(other)\n",
      "/opt/anaconda3/lib/python3.8/site-packages/joblib/backports.py:36: DeprecationWarning: distutils Version classes are deprecated. Use packaging.version instead.\n",
      "  if LooseVersion(np.__version__) < '1.13':\n",
      "/opt/anaconda3/lib/python3.8/site-packages/setuptools/_distutils/version.py:346: DeprecationWarning: distutils Version classes are deprecated. Use packaging.version instead.\n",
      "  other = LooseVersion(other)\n",
      "/opt/anaconda3/lib/python3.8/site-packages/joblib/backports.py:36: DeprecationWarning: distutils Version classes are deprecated. Use packaging.version instead.\n",
      "  if LooseVersion(np.__version__) < '1.13':\n",
      "/opt/anaconda3/lib/python3.8/site-packages/setuptools/_distutils/version.py:346: DeprecationWarning: distutils Version classes are deprecated. Use packaging.version instead.\n",
      "  other = LooseVersion(other)\n",
      "/opt/anaconda3/lib/python3.8/site-packages/joblib/backports.py:36: DeprecationWarning: distutils Version classes are deprecated. Use packaging.version instead.\n",
      "  if LooseVersion(np.__version__) < '1.13':\n",
      "/opt/anaconda3/lib/python3.8/site-packages/setuptools/_distutils/version.py:346: DeprecationWarning: distutils Version classes are deprecated. Use packaging.version instead.\n",
      "  other = LooseVersion(other)\n",
      "/opt/anaconda3/lib/python3.8/site-packages/joblib/backports.py:36: DeprecationWarning: distutils Version classes are deprecated. Use packaging.version instead.\n",
      "  if LooseVersion(np.__version__) < '1.13':\n",
      "/opt/anaconda3/lib/python3.8/site-packages/setuptools/_distutils/version.py:346: DeprecationWarning: distutils Version classes are deprecated. Use packaging.version instead.\n",
      "  other = LooseVersion(other)\n",
      "/opt/anaconda3/lib/python3.8/site-packages/joblib/backports.py:36: DeprecationWarning: distutils Version classes are deprecated. Use packaging.version instead.\n",
      "  if LooseVersion(np.__version__) < '1.13':\n",
      "/opt/anaconda3/lib/python3.8/site-packages/setuptools/_distutils/version.py:346: DeprecationWarning: distutils Version classes are deprecated. Use packaging.version instead.\n",
      "  other = LooseVersion(other)\n"
     ]
    }
   ],
   "source": [
    "pyLDAvis.enable_notebook()\n",
    "vis = gensimvis.prepare(lda_model, bow_corpus, dictionary)"
   ]
  },
  {
   "cell_type": "code",
   "execution_count": 37,
   "id": "aa5ec22f-b246-496b-bb6a-d6b3ca407b9d",
   "metadata": {},
   "outputs": [
    {
     "ename": "TypeError",
     "evalue": "Object of type complex is not JSON serializable",
     "output_type": "error",
     "traceback": [
      "\u001b[0;31m---------------------------------------------------------------------------\u001b[0m",
      "\u001b[0;31mTypeError\u001b[0m                                 Traceback (most recent call last)",
      "File \u001b[0;32m/opt/anaconda3/lib/python3.8/site-packages/IPython/core/formatters.py:339\u001b[0m, in \u001b[0;36mBaseFormatter.__call__\u001b[0;34m(self, obj)\u001b[0m\n\u001b[1;32m    337\u001b[0m     \u001b[38;5;28;01mpass\u001b[39;00m\n\u001b[1;32m    338\u001b[0m \u001b[38;5;28;01melse\u001b[39;00m:\n\u001b[0;32m--> 339\u001b[0m     \u001b[38;5;28;01mreturn\u001b[39;00m \u001b[43mprinter\u001b[49m\u001b[43m(\u001b[49m\u001b[43mobj\u001b[49m\u001b[43m)\u001b[49m\n\u001b[1;32m    340\u001b[0m \u001b[38;5;66;03m# Finally look for special method names\u001b[39;00m\n\u001b[1;32m    341\u001b[0m method \u001b[38;5;241m=\u001b[39m get_real_method(obj, \u001b[38;5;28mself\u001b[39m\u001b[38;5;241m.\u001b[39mprint_method)\n",
      "File \u001b[0;32m/opt/anaconda3/lib/python3.8/site-packages/pyLDAvis/_display.py:308\u001b[0m, in \u001b[0;36menable_notebook.<locals>.<lambda>\u001b[0;34m(data, kwds)\u001b[0m\n\u001b[1;32m    305\u001b[0m ip \u001b[38;5;241m=\u001b[39m get_ipython()\n\u001b[1;32m    306\u001b[0m formatter \u001b[38;5;241m=\u001b[39m ip\u001b[38;5;241m.\u001b[39mdisplay_formatter\u001b[38;5;241m.\u001b[39mformatters[\u001b[38;5;124m'\u001b[39m\u001b[38;5;124mtext/html\u001b[39m\u001b[38;5;124m'\u001b[39m]\n\u001b[1;32m    307\u001b[0m formatter\u001b[38;5;241m.\u001b[39mfor_type(PreparedData,\n\u001b[0;32m--> 308\u001b[0m                    \u001b[38;5;28;01mlambda\u001b[39;00m data, kwds\u001b[38;5;241m=\u001b[39mkwargs: \u001b[43mprepared_data_to_html\u001b[49m\u001b[43m(\u001b[49m\u001b[43mdata\u001b[49m\u001b[43m,\u001b[49m\u001b[43m \u001b[49m\u001b[38;5;241;43m*\u001b[39;49m\u001b[38;5;241;43m*\u001b[39;49m\u001b[43mkwds\u001b[49m\u001b[43m)\u001b[49m)\n",
      "File \u001b[0;32m/opt/anaconda3/lib/python3.8/site-packages/pyLDAvis/_display.py:177\u001b[0m, in \u001b[0;36mprepared_data_to_html\u001b[0;34m(data, d3_url, ldavis_url, ldavis_css_url, template_type, visid, use_http)\u001b[0m\n\u001b[1;32m    170\u001b[0m \u001b[38;5;28;01melif\u001b[39;00m re\u001b[38;5;241m.\u001b[39msearch(\u001b[38;5;124mr\u001b[39m\u001b[38;5;124m'\u001b[39m\u001b[38;5;124m\\\u001b[39m\u001b[38;5;124ms\u001b[39m\u001b[38;5;124m'\u001b[39m, visid):\n\u001b[1;32m    171\u001b[0m     \u001b[38;5;28;01mraise\u001b[39;00m \u001b[38;5;167;01mValueError\u001b[39;00m(\u001b[38;5;124m\"\u001b[39m\u001b[38;5;124mvisid must not contain spaces\u001b[39m\u001b[38;5;124m\"\u001b[39m)\n\u001b[1;32m    173\u001b[0m \u001b[38;5;28;01mreturn\u001b[39;00m template\u001b[38;5;241m.\u001b[39mrender(visid\u001b[38;5;241m=\u001b[39mjson\u001b[38;5;241m.\u001b[39mdumps(visid),\n\u001b[1;32m    174\u001b[0m                        visid_raw\u001b[38;5;241m=\u001b[39mvisid,\n\u001b[1;32m    175\u001b[0m                        d3_url\u001b[38;5;241m=\u001b[39md3_url,\n\u001b[1;32m    176\u001b[0m                        ldavis_url\u001b[38;5;241m=\u001b[39mldavis_url,\n\u001b[0;32m--> 177\u001b[0m                        vis_json\u001b[38;5;241m=\u001b[39m\u001b[43mdata\u001b[49m\u001b[38;5;241;43m.\u001b[39;49m\u001b[43mto_json\u001b[49m\u001b[43m(\u001b[49m\u001b[43m)\u001b[49m,\n\u001b[1;32m    178\u001b[0m                        ldavis_css_url\u001b[38;5;241m=\u001b[39mldavis_css_url)\n",
      "File \u001b[0;32m/opt/anaconda3/lib/python3.8/site-packages/pyLDAvis/_prepare.py:471\u001b[0m, in \u001b[0;36mPreparedData.to_json\u001b[0;34m(self)\u001b[0m\n\u001b[1;32m    470\u001b[0m \u001b[38;5;28;01mdef\u001b[39;00m \u001b[38;5;21mto_json\u001b[39m(\u001b[38;5;28mself\u001b[39m):\n\u001b[0;32m--> 471\u001b[0m     \u001b[38;5;28;01mreturn\u001b[39;00m \u001b[43mjson\u001b[49m\u001b[38;5;241;43m.\u001b[39;49m\u001b[43mdumps\u001b[49m\u001b[43m(\u001b[49m\u001b[38;5;28;43mself\u001b[39;49m\u001b[38;5;241;43m.\u001b[39;49m\u001b[43mto_dict\u001b[49m\u001b[43m(\u001b[49m\u001b[43m)\u001b[49m\u001b[43m,\u001b[49m\u001b[43m \u001b[49m\u001b[38;5;28;43mcls\u001b[39;49m\u001b[38;5;241;43m=\u001b[39;49m\u001b[43mNumPyEncoder\u001b[49m\u001b[43m)\u001b[49m\n",
      "File \u001b[0;32m/opt/anaconda3/lib/python3.8/json/__init__.py:234\u001b[0m, in \u001b[0;36mdumps\u001b[0;34m(obj, skipkeys, ensure_ascii, check_circular, allow_nan, cls, indent, separators, default, sort_keys, **kw)\u001b[0m\n\u001b[1;32m    232\u001b[0m \u001b[38;5;28;01mif\u001b[39;00m \u001b[38;5;28mcls\u001b[39m \u001b[38;5;129;01mis\u001b[39;00m \u001b[38;5;28;01mNone\u001b[39;00m:\n\u001b[1;32m    233\u001b[0m     \u001b[38;5;28mcls\u001b[39m \u001b[38;5;241m=\u001b[39m JSONEncoder\n\u001b[0;32m--> 234\u001b[0m \u001b[38;5;28;01mreturn\u001b[39;00m \u001b[38;5;28;43mcls\u001b[39;49m\u001b[43m(\u001b[49m\n\u001b[1;32m    235\u001b[0m \u001b[43m    \u001b[49m\u001b[43mskipkeys\u001b[49m\u001b[38;5;241;43m=\u001b[39;49m\u001b[43mskipkeys\u001b[49m\u001b[43m,\u001b[49m\u001b[43m \u001b[49m\u001b[43mensure_ascii\u001b[49m\u001b[38;5;241;43m=\u001b[39;49m\u001b[43mensure_ascii\u001b[49m\u001b[43m,\u001b[49m\n\u001b[1;32m    236\u001b[0m \u001b[43m    \u001b[49m\u001b[43mcheck_circular\u001b[49m\u001b[38;5;241;43m=\u001b[39;49m\u001b[43mcheck_circular\u001b[49m\u001b[43m,\u001b[49m\u001b[43m \u001b[49m\u001b[43mallow_nan\u001b[49m\u001b[38;5;241;43m=\u001b[39;49m\u001b[43mallow_nan\u001b[49m\u001b[43m,\u001b[49m\u001b[43m \u001b[49m\u001b[43mindent\u001b[49m\u001b[38;5;241;43m=\u001b[39;49m\u001b[43mindent\u001b[49m\u001b[43m,\u001b[49m\n\u001b[1;32m    237\u001b[0m \u001b[43m    \u001b[49m\u001b[43mseparators\u001b[49m\u001b[38;5;241;43m=\u001b[39;49m\u001b[43mseparators\u001b[49m\u001b[43m,\u001b[49m\u001b[43m \u001b[49m\u001b[43mdefault\u001b[49m\u001b[38;5;241;43m=\u001b[39;49m\u001b[43mdefault\u001b[49m\u001b[43m,\u001b[49m\u001b[43m \u001b[49m\u001b[43msort_keys\u001b[49m\u001b[38;5;241;43m=\u001b[39;49m\u001b[43msort_keys\u001b[49m\u001b[43m,\u001b[49m\n\u001b[1;32m    238\u001b[0m \u001b[43m    \u001b[49m\u001b[38;5;241;43m*\u001b[39;49m\u001b[38;5;241;43m*\u001b[39;49m\u001b[43mkw\u001b[49m\u001b[43m)\u001b[49m\u001b[38;5;241;43m.\u001b[39;49m\u001b[43mencode\u001b[49m\u001b[43m(\u001b[49m\u001b[43mobj\u001b[49m\u001b[43m)\u001b[49m\n",
      "File \u001b[0;32m/opt/anaconda3/lib/python3.8/json/encoder.py:199\u001b[0m, in \u001b[0;36mJSONEncoder.encode\u001b[0;34m(self, o)\u001b[0m\n\u001b[1;32m    195\u001b[0m         \u001b[38;5;28;01mreturn\u001b[39;00m encode_basestring(o)\n\u001b[1;32m    196\u001b[0m \u001b[38;5;66;03m# This doesn't pass the iterator directly to ''.join() because the\u001b[39;00m\n\u001b[1;32m    197\u001b[0m \u001b[38;5;66;03m# exceptions aren't as detailed.  The list call should be roughly\u001b[39;00m\n\u001b[1;32m    198\u001b[0m \u001b[38;5;66;03m# equivalent to the PySequence_Fast that ''.join() would do.\u001b[39;00m\n\u001b[0;32m--> 199\u001b[0m chunks \u001b[38;5;241m=\u001b[39m \u001b[38;5;28;43mself\u001b[39;49m\u001b[38;5;241;43m.\u001b[39;49m\u001b[43miterencode\u001b[49m\u001b[43m(\u001b[49m\u001b[43mo\u001b[49m\u001b[43m,\u001b[49m\u001b[43m \u001b[49m\u001b[43m_one_shot\u001b[49m\u001b[38;5;241;43m=\u001b[39;49m\u001b[38;5;28;43;01mTrue\u001b[39;49;00m\u001b[43m)\u001b[49m\n\u001b[1;32m    200\u001b[0m \u001b[38;5;28;01mif\u001b[39;00m \u001b[38;5;129;01mnot\u001b[39;00m \u001b[38;5;28misinstance\u001b[39m(chunks, (\u001b[38;5;28mlist\u001b[39m, \u001b[38;5;28mtuple\u001b[39m)):\n\u001b[1;32m    201\u001b[0m     chunks \u001b[38;5;241m=\u001b[39m \u001b[38;5;28mlist\u001b[39m(chunks)\n",
      "File \u001b[0;32m/opt/anaconda3/lib/python3.8/json/encoder.py:257\u001b[0m, in \u001b[0;36mJSONEncoder.iterencode\u001b[0;34m(self, o, _one_shot)\u001b[0m\n\u001b[1;32m    252\u001b[0m \u001b[38;5;28;01melse\u001b[39;00m:\n\u001b[1;32m    253\u001b[0m     _iterencode \u001b[38;5;241m=\u001b[39m _make_iterencode(\n\u001b[1;32m    254\u001b[0m         markers, \u001b[38;5;28mself\u001b[39m\u001b[38;5;241m.\u001b[39mdefault, _encoder, \u001b[38;5;28mself\u001b[39m\u001b[38;5;241m.\u001b[39mindent, floatstr,\n\u001b[1;32m    255\u001b[0m         \u001b[38;5;28mself\u001b[39m\u001b[38;5;241m.\u001b[39mkey_separator, \u001b[38;5;28mself\u001b[39m\u001b[38;5;241m.\u001b[39mitem_separator, \u001b[38;5;28mself\u001b[39m\u001b[38;5;241m.\u001b[39msort_keys,\n\u001b[1;32m    256\u001b[0m         \u001b[38;5;28mself\u001b[39m\u001b[38;5;241m.\u001b[39mskipkeys, _one_shot)\n\u001b[0;32m--> 257\u001b[0m \u001b[38;5;28;01mreturn\u001b[39;00m \u001b[43m_iterencode\u001b[49m\u001b[43m(\u001b[49m\u001b[43mo\u001b[49m\u001b[43m,\u001b[49m\u001b[43m \u001b[49m\u001b[38;5;241;43m0\u001b[39;49m\u001b[43m)\u001b[49m\n",
      "File \u001b[0;32m/opt/anaconda3/lib/python3.8/site-packages/pyLDAvis/utils.py:150\u001b[0m, in \u001b[0;36mNumPyEncoder.default\u001b[0;34m(self, obj)\u001b[0m\n\u001b[1;32m    148\u001b[0m \u001b[38;5;28;01mif\u001b[39;00m \u001b[38;5;28misinstance\u001b[39m(obj, np\u001b[38;5;241m.\u001b[39mfloat64) \u001b[38;5;129;01mor\u001b[39;00m \u001b[38;5;28misinstance\u001b[39m(obj, np\u001b[38;5;241m.\u001b[39mfloat32):\n\u001b[1;32m    149\u001b[0m     \u001b[38;5;28;01mreturn\u001b[39;00m \u001b[38;5;28mfloat\u001b[39m(obj)\n\u001b[0;32m--> 150\u001b[0m \u001b[38;5;28;01mreturn\u001b[39;00m \u001b[43mjson\u001b[49m\u001b[38;5;241;43m.\u001b[39;49m\u001b[43mJSONEncoder\u001b[49m\u001b[38;5;241;43m.\u001b[39;49m\u001b[43mdefault\u001b[49m\u001b[43m(\u001b[49m\u001b[38;5;28;43mself\u001b[39;49m\u001b[43m,\u001b[49m\u001b[43m \u001b[49m\u001b[43mobj\u001b[49m\u001b[43m)\u001b[49m\n",
      "File \u001b[0;32m/opt/anaconda3/lib/python3.8/json/encoder.py:179\u001b[0m, in \u001b[0;36mJSONEncoder.default\u001b[0;34m(self, o)\u001b[0m\n\u001b[1;32m    160\u001b[0m \u001b[38;5;28;01mdef\u001b[39;00m \u001b[38;5;21mdefault\u001b[39m(\u001b[38;5;28mself\u001b[39m, o):\n\u001b[1;32m    161\u001b[0m     \u001b[38;5;124;03m\"\"\"Implement this method in a subclass such that it returns\u001b[39;00m\n\u001b[1;32m    162\u001b[0m \u001b[38;5;124;03m    a serializable object for ``o``, or calls the base implementation\u001b[39;00m\n\u001b[1;32m    163\u001b[0m \u001b[38;5;124;03m    (to raise a ``TypeError``).\u001b[39;00m\n\u001b[0;32m   (...)\u001b[0m\n\u001b[1;32m    177\u001b[0m \n\u001b[1;32m    178\u001b[0m \u001b[38;5;124;03m    \"\"\"\u001b[39;00m\n\u001b[0;32m--> 179\u001b[0m     \u001b[38;5;28;01mraise\u001b[39;00m \u001b[38;5;167;01mTypeError\u001b[39;00m(\u001b[38;5;124mf\u001b[39m\u001b[38;5;124m'\u001b[39m\u001b[38;5;124mObject of type \u001b[39m\u001b[38;5;132;01m{\u001b[39;00mo\u001b[38;5;241m.\u001b[39m\u001b[38;5;18m__class__\u001b[39m\u001b[38;5;241m.\u001b[39m\u001b[38;5;18m__name__\u001b[39m\u001b[38;5;132;01m}\u001b[39;00m\u001b[38;5;124m \u001b[39m\u001b[38;5;124m'\u001b[39m\n\u001b[1;32m    180\u001b[0m                     \u001b[38;5;124mf\u001b[39m\u001b[38;5;124m'\u001b[39m\u001b[38;5;124mis not JSON serializable\u001b[39m\u001b[38;5;124m'\u001b[39m)\n",
      "\u001b[0;31mTypeError\u001b[0m: Object of type complex is not JSON serializable"
     ]
    },
    {
     "data": {
      "text/plain": [
       "PreparedData(topic_coordinates=                        x                   y  topics  cluster       Freq\n",
       "topic                                                                    \n",
       "9      0.340432+0.000000j -0.194440+0.000000j       1        1  52.161631\n",
       "0      0.391035+0.000000j -0.256173+0.000000j       2        1  21.783177\n",
       "5      0.358701+0.000000j -0.033589+0.000000j       3        1  11.064625\n",
       "16     0.270784+0.000000j  0.275118+0.000000j       4        1   4.642177\n",
       "4      0.248376+0.000000j  0.286326+0.000000j       5        1   3.459824\n",
       "18     0.062497+0.000000j  0.085124+0.000000j       6        1   1.354872\n",
       "2      0.009312+0.000000j  0.057736+0.000000j       7        1   1.035244\n",
       "10    -0.022413+0.000000j  0.010870+0.000000j       8        1   0.862490\n",
       "13    -0.020970+0.000000j  0.014918+0.000000j       9        1   0.790885\n",
       "15    -0.041010+0.000000j  0.007471+0.000000j      10        1   0.766942\n",
       "6     -0.058379+0.000000j -0.002102+0.000000j      11        1   0.568522\n",
       "23    -0.102846+0.000000j -0.015433+0.000000j      12        1   0.252982\n",
       "22    -0.107561+0.000000j -0.017033+0.000000j      13        1   0.195731\n",
       "3     -0.108432+0.000000j -0.016983+0.000000j      14        1   0.192062\n",
       "11    -0.107259+0.000000j -0.016825+0.000000j      15        1   0.188950\n",
       "1     -0.100864+0.000000j -0.014970+0.000000j      16        1   0.167336\n",
       "7     -0.111108+0.000000j -0.018105+0.000000j      17        1   0.127754\n",
       "17    -0.111932+0.000000j -0.018204+0.000000j      18        1   0.118190\n",
       "12    -0.112843+0.000000j -0.018797+0.000000j      19        1   0.074732\n",
       "19    -0.113105+0.000000j -0.019102+0.000000j      20        1   0.052560\n",
       "14    -0.113249+0.000000j -0.019071+0.000000j      21        1   0.044500\n",
       "24    -0.112986+0.000000j -0.019199+0.000000j      22        1   0.043840\n",
       "8     -0.112815+0.000000j -0.019195+0.000000j      23        1   0.035095\n",
       "21    -0.111682+0.000000j -0.019171+0.000000j      24        1   0.007973\n",
       "20    -0.111682+0.000000j -0.019171+0.000000j      25        1   0.007907, topic_info=         Term          Freq         Total Category  logprob  loglift\n",
       "50       movi  10531.000000  10531.000000  Default   30.000  30.0000\n",
       "136   wakanda   2043.000000   2043.000000  Default   29.000  29.0000\n",
       "104    challa   1313.000000   1313.000000  Default   28.000  28.0000\n",
       "267  killmong   1228.000000   1228.000000  Default   27.000  27.0000\n",
       "468     world   1283.000000   1283.000000  Default   26.000  26.0000\n",
       "..        ...           ...           ...      ...      ...      ...\n",
       "24       meld      0.001809      0.778936  Topic25   -9.212   3.3801\n",
       "26    problem      0.001809    331.348787  Topic25   -9.212  -2.6729\n",
       "27     produc      0.001809     49.000283  Topic25   -9.212  -0.7616\n",
       "28       pull      0.001809     38.254721  Topic25   -9.212  -0.5140\n",
       "29        rat      0.001809    416.364412  Topic25   -9.212  -2.9013\n",
       "\n",
       "[1098 rows x 6 columns], token_table=      Topic      Freq     Term\n",
       "term                          \n",
       "1704     18  0.863111   absorb\n",
       "1372     11  0.975134  academi\n",
       "138       1  0.058361   accent\n",
       "138       2  0.879905   accent\n",
       "138       8  0.058361   accent\n",
       "...     ...       ...      ...\n",
       "38        1  0.984153     year\n",
       "38        2  0.004958     year\n",
       "38        4  0.009916     year\n",
       "2043      6  0.873979     zero\n",
       "765       7  0.957537     zuri\n",
       "\n",
       "[726 rows x 3 columns], R=30, lambda_step=0.01, plot_opts={'xlab': 'PC1', 'ylab': 'PC2'}, topic_order=[10, 1, 6, 17, 5, 19, 3, 11, 14, 16, 7, 24, 23, 4, 12, 2, 8, 18, 13, 20, 15, 25, 9, 22, 21])"
      ]
     },
     "execution_count": 37,
     "metadata": {},
     "output_type": "execute_result"
    }
   ],
   "source": [
    "vis"
   ]
  },
  {
   "cell_type": "code",
   "execution_count": null,
   "id": "68e56ddf-e7df-4037-835f-66e9daf0e733",
   "metadata": {},
   "outputs": [],
   "source": []
  }
 ],
 "metadata": {
  "kernelspec": {
   "display_name": "Python 3 (ipykernel)",
   "language": "python",
   "name": "python3"
  },
  "language_info": {
   "codemirror_mode": {
    "name": "ipython",
    "version": 3
   },
   "file_extension": ".py",
   "mimetype": "text/x-python",
   "name": "python",
   "nbconvert_exporter": "python",
   "pygments_lexer": "ipython3",
   "version": "3.8.8"
  }
 },
 "nbformat": 4,
 "nbformat_minor": 5
}
